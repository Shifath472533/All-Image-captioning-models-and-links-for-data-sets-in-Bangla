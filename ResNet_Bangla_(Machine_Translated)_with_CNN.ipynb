{
  "nbformat": 4,
  "nbformat_minor": 0,
  "metadata": {
    "colab": {
      "name": "ResNet Bangla (Machine Translated) with CNN.ipynb",
      "provenance": [],
      "authorship_tag": "ABX9TyPBbnHt5OGPSuk7CHSpD4Bm",
      "include_colab_link": true
    },
    "kernelspec": {
      "name": "python3",
      "display_name": "Python 3"
    },
    "accelerator": "TPU"
  },
  "cells": [
    {
      "cell_type": "markdown",
      "metadata": {
        "id": "view-in-github",
        "colab_type": "text"
      },
      "source": [
        "<a href=\"https://colab.research.google.com/github/Shifath472533/All-Image-captioning-models-and-links-for-data-sets-in-Bangla/blob/master/ResNet_Bangla_(Machine_Translated)_with_CNN.ipynb\" target=\"_parent\"><img src=\"https://colab.research.google.com/assets/colab-badge.svg\" alt=\"Open In Colab\"/></a>"
      ]
    },
    {
      "cell_type": "markdown",
      "metadata": {
        "id": "UyJs6hZTIumk",
        "colab_type": "text"
      },
      "source": [
        "<img align=\"left\" margin-right=\"10px\" width=\"35\" height=\"35\" src=\"https://cdn1.iconfinder.com/data/icons/maps-locations-6/24/map_location_sign_road_direction-512.png\"><h3>&nbsp;&nbsp;Mounting <b>google drive</b></h3>"
      ]
    },
    {
      "cell_type": "code",
      "metadata": {
        "id": "E1Q3SMfWHj4H",
        "colab_type": "code",
        "outputId": "1a394f1a-a110-4fe4-b6f1-bb2d80141289",
        "colab": {
          "base_uri": "https://localhost:8080/",
          "height": 54
        }
      },
      "source": [
        "from google.colab import drive\n",
        "drive.mount('/content/drive')"
      ],
      "execution_count": 3,
      "outputs": [
        {
          "output_type": "stream",
          "text": [
            "Drive already mounted at /content/drive; to attempt to forcibly remount, call drive.mount(\"/content/drive\", force_remount=True).\n"
          ],
          "name": "stdout"
        }
      ]
    },
    {
      "cell_type": "markdown",
      "metadata": {
        "id": "vmOxRH8tU-0R",
        "colab_type": "text"
      },
      "source": [
        "<img align=\"left\" margin-right=\"10px\" width=\"35\" height=\"35\" src=\"https://cdn1.iconfinder.com/data/icons/maps-locations-6/24/map_location_sign_road_direction-512.png\"><h3>&nbsp;&nbsp;Setting up <b>dependencies</b></h3>"
      ]
    },
    {
      "cell_type": "code",
      "metadata": {
        "id": "sXoKNpwAU911",
        "colab_type": "code",
        "outputId": "f2e42eca-581c-4038-8da5-f8ec9fd51c24",
        "colab": {
          "base_uri": "https://localhost:8080/",
          "height": 1000
        }
      },
      "source": [
        "!pip install --upgrade pip\n",
        "!pip install pycocotools\n",
        "!pip install git+https://github.com/salaniz/pycocoevalcap          #this is for pycocoevalcap library to calulate metrics\n",
        "!pip install git+https://github.com/Maluuba/nlg-eval.git@master    #this is for nlgeval library to calulate metrics\n",
        "!nlg-eval --setup"
      ],
      "execution_count": 4,
      "outputs": [
        {
          "output_type": "stream",
          "text": [
            "Requirement already up-to-date: pip in /usr/local/lib/python3.6/dist-packages (20.0.2)\n",
            "Requirement already satisfied: pycocotools in /usr/local/lib/python3.6/dist-packages (2.0.0)\n",
            "Collecting git+https://github.com/salaniz/pycocoevalcap\n",
            "  Cloning https://github.com/salaniz/pycocoevalcap to /tmp/pip-req-build-e015m_su\n",
            "  Running command git clone -q https://github.com/salaniz/pycocoevalcap /tmp/pip-req-build-e015m_su\n",
            "Requirement already satisfied (use --upgrade to upgrade): pycocoevalcap==1.1 from git+https://github.com/salaniz/pycocoevalcap in /usr/local/lib/python3.6/dist-packages\n",
            "Requirement already satisfied: pycocotools>=2.0.0 in /usr/local/lib/python3.6/dist-packages (from pycocoevalcap==1.1) (2.0.0)\n",
            "Building wheels for collected packages: pycocoevalcap\n",
            "  Building wheel for pycocoevalcap (setup.py) ... \u001b[?25l\u001b[?25hdone\n",
            "  Created wheel for pycocoevalcap: filename=pycocoevalcap-1.1-py3-none-any.whl size=104310172 sha256=0bd881a98ee2d2ae2e90f6d42b353883072c429693157ee12eb6b8ab12c258d6\n",
            "  Stored in directory: /tmp/pip-ephem-wheel-cache-zla0ew_i/wheels/df/74/69/758b2491ca93bf681a1509671df34df9cf5ff605edf6e112ed\n",
            "Successfully built pycocoevalcap\n",
            "Collecting git+https://github.com/Maluuba/nlg-eval.git@master\n",
            "  Cloning https://github.com/Maluuba/nlg-eval.git (to revision master) to /tmp/pip-req-build-87_n0mz9\n",
            "  Running command git clone -q https://github.com/Maluuba/nlg-eval.git /tmp/pip-req-build-87_n0mz9\n",
            "Requirement already satisfied (use --upgrade to upgrade): nlg-eval==2.3 from git+https://github.com/Maluuba/nlg-eval.git@master in /usr/local/lib/python3.6/dist-packages\n",
            "Requirement already satisfied: click>=6.3 in /usr/local/lib/python3.6/dist-packages (from nlg-eval==2.3) (7.0)\n",
            "Requirement already satisfied: nltk>=3.1 in /usr/local/lib/python3.6/dist-packages (from nlg-eval==2.3) (3.2.5)\n",
            "Requirement already satisfied: numpy>=1.11.0 in /usr/local/lib/python3.6/dist-packages (from nlg-eval==2.3) (1.17.5)\n",
            "Requirement already satisfied: psutil>=5.6.2 in /usr/local/lib/python3.6/dist-packages (from nlg-eval==2.3) (5.7.0)\n",
            "Requirement already satisfied: requests>=2.19 in /usr/local/lib/python3.6/dist-packages (from nlg-eval==2.3) (2.21.0)\n",
            "Requirement already satisfied: six>=1.11 in /usr/local/lib/python3.6/dist-packages (from nlg-eval==2.3) (1.12.0)\n",
            "Requirement already satisfied: scipy>=0.17.0 in /usr/local/lib/python3.6/dist-packages (from nlg-eval==2.3) (1.4.1)\n",
            "Requirement already satisfied: scikit-learn>=0.17 in /usr/local/lib/python3.6/dist-packages (from nlg-eval==2.3) (0.22.1)\n",
            "Requirement already satisfied: gensim>=3 in /usr/local/lib/python3.6/dist-packages (from nlg-eval==2.3) (3.6.0)\n",
            "Requirement already satisfied: Theano>=0.8.1 in /usr/local/lib/python3.6/dist-packages (from nlg-eval==2.3) (1.0.4)\n",
            "Requirement already satisfied: tqdm>=4.24 in /usr/local/lib/python3.6/dist-packages (from nlg-eval==2.3) (4.28.1)\n",
            "Requirement already satisfied: xdg in /usr/local/lib/python3.6/dist-packages (from nlg-eval==2.3) (4.0.1)\n",
            "Requirement already satisfied: idna<2.9,>=2.5 in /usr/local/lib/python3.6/dist-packages (from requests>=2.19->nlg-eval==2.3) (2.8)\n",
            "Requirement already satisfied: certifi>=2017.4.17 in /usr/local/lib/python3.6/dist-packages (from requests>=2.19->nlg-eval==2.3) (2019.11.28)\n",
            "Requirement already satisfied: urllib3<1.25,>=1.21.1 in /usr/local/lib/python3.6/dist-packages (from requests>=2.19->nlg-eval==2.3) (1.24.3)\n",
            "Requirement already satisfied: chardet<3.1.0,>=3.0.2 in /usr/local/lib/python3.6/dist-packages (from requests>=2.19->nlg-eval==2.3) (3.0.4)\n",
            "Requirement already satisfied: joblib>=0.11 in /usr/local/lib/python3.6/dist-packages (from scikit-learn>=0.17->nlg-eval==2.3) (0.14.1)\n",
            "Requirement already satisfied: smart-open>=1.2.1 in /usr/local/lib/python3.6/dist-packages (from gensim>=3->nlg-eval==2.3) (1.9.0)\n",
            "Requirement already satisfied: boto3 in /usr/local/lib/python3.6/dist-packages (from smart-open>=1.2.1->gensim>=3->nlg-eval==2.3) (1.11.15)\n",
            "Requirement already satisfied: boto>=2.32 in /usr/local/lib/python3.6/dist-packages (from smart-open>=1.2.1->gensim>=3->nlg-eval==2.3) (2.49.0)\n",
            "Requirement already satisfied: s3transfer<0.4.0,>=0.3.0 in /usr/local/lib/python3.6/dist-packages (from boto3->smart-open>=1.2.1->gensim>=3->nlg-eval==2.3) (0.3.3)\n",
            "Requirement already satisfied: botocore<1.15.0,>=1.14.15 in /usr/local/lib/python3.6/dist-packages (from boto3->smart-open>=1.2.1->gensim>=3->nlg-eval==2.3) (1.14.15)\n",
            "Requirement already satisfied: jmespath<1.0.0,>=0.7.1 in /usr/local/lib/python3.6/dist-packages (from boto3->smart-open>=1.2.1->gensim>=3->nlg-eval==2.3) (0.9.4)\n",
            "Requirement already satisfied: docutils<0.16,>=0.10 in /usr/local/lib/python3.6/dist-packages (from botocore<1.15.0,>=1.14.15->boto3->smart-open>=1.2.1->gensim>=3->nlg-eval==2.3) (0.15.2)\n",
            "Requirement already satisfied: python-dateutil<3.0.0,>=2.1 in /usr/local/lib/python3.6/dist-packages (from botocore<1.15.0,>=1.14.15->boto3->smart-open>=1.2.1->gensim>=3->nlg-eval==2.3) (2.6.1)\n",
            "Building wheels for collected packages: nlg-eval\n",
            "  Building wheel for nlg-eval (setup.py) ... \u001b[?25l\u001b[?25hdone\n",
            "  Created wheel for nlg-eval: filename=nlg_eval-2.3-py3-none-any.whl size=68175137 sha256=12d26822e21bcb73d6d2688d353488389e59008b0c3669397cc3040d94cec9b4\n",
            "  Stored in directory: /tmp/pip-ephem-wheel-cache-grhyx6l9/wheels/ef/3b/5a/d7c919c82d24410162ed850529af95cc577a34a2bf64bd032a\n",
            "Successfully built nlg-eval\n",
            "[nltk_data] Downloading package punkt to /root/nltk_data...\n",
            "[nltk_data]   Package punkt is already up-to-date!\n",
            "\u001b[31mInstalling to /root/.cache/nlgeval\u001b[0m\n",
            "\u001b[31mIn case of incomplete downloads, delete the directory and run `nlg-eval --setup /root/.cache/nlgeval' again.\u001b[0m\n",
            "Downloading https://raw.githubusercontent.com/robmsmt/glove-gensim/4c2224bccd61627b76c50a5e1d6afd1c82699d22/glove2word2vec.py to /usr/local/lib/python3.6/dist-packages/nlgeval/word2vec.\n",
            "glove2word2vec.py: 100% 1.00/1.00 [00:00<00:00, 409 chunks/s]\n",
            "Traceback (most recent call last):\n",
            "  File \"/usr/local/bin/nlg-eval\", line 214, in <module>\n",
            "    setup()\n",
            "  File \"/usr/local/lib/python3.6/dist-packages/click/core.py\", line 764, in __call__\n",
            "    return self.main(*args, **kwargs)\n",
            "  File \"/usr/local/lib/python3.6/dist-packages/click/core.py\", line 717, in main\n",
            "    rv = self.invoke(ctx)\n",
            "  File \"/usr/local/lib/python3.6/dist-packages/click/core.py\", line 956, in invoke\n",
            "    return ctx.invoke(self.callback, **ctx.params)\n",
            "  File \"/usr/local/lib/python3.6/dist-packages/click/core.py\", line 555, in invoke\n",
            "    return callback(*args, **kwargs)\n",
            "  File \"/usr/local/bin/nlg-eval\", line 157, in setup\n",
            "    with ZipFile(os.path.join(data_path, 'glove.6B.zip')) as z:\n",
            "  File \"/usr/lib/python3.6/zipfile.py\", line 1131, in __init__\n",
            "    self._RealGetContents()\n",
            "  File \"/usr/lib/python3.6/zipfile.py\", line 1198, in _RealGetContents\n",
            "    raise BadZipFile(\"File is not a zip file\")\n",
            "zipfile.BadZipFile: File is not a zip file\n"
          ],
          "name": "stdout"
        }
      ]
    },
    {
      "cell_type": "markdown",
      "metadata": {
        "id": "m8Xz1oN4IpMD",
        "colab_type": "text"
      },
      "source": [
        "<img align=\"left\" margin-right=\"10px\" width=\"35\" height=\"35\" src=\"https://cdn1.iconfinder.com/data/icons/maps-locations-6/24/map_location_sign_road_direction-512.png\"><h3>&nbsp;&nbsp;Importing <b>Libraries</b></h3>"
      ]
    },
    {
      "cell_type": "code",
      "metadata": {
        "id": "ZpJ6ulgYIW4X",
        "colab_type": "code",
        "colab": {
          "base_uri": "https://localhost:8080/",
          "height": 96
        },
        "outputId": "c732c3ee-06d3-461e-bfa1-2fe749f95f8e"
      },
      "source": [
        "import pandas as pd\n",
        "import matplotlib.pyplot as plt\n",
        "from tqdm import tqdm\n",
        "from keras.applications import vgg16\n",
        "from keras.preprocessing import image\n",
        "from keras.applications.vgg16 import preprocess_input\n",
        "from keras.applications.resnet50 import ResNet50\n",
        "from keras.models import Model\n",
        "from keras.preprocessing.text import one_hot\n",
        "from keras.preprocessing.sequence import pad_sequences\n",
        "from keras.utils import to_categorical\n",
        "from nltk.translate.bleu_score import sentence_bleu\n",
        "from nltk.translate.bleu_score import SmoothingFunction\n",
        "from numpy import array\n",
        "import pickle\n",
        "import numpy as np\n",
        "import os\n",
        "import cv2"
      ],
      "execution_count": 5,
      "outputs": [
        {
          "output_type": "stream",
          "text": [
            "Using TensorFlow backend.\n"
          ],
          "name": "stderr"
        },
        {
          "output_type": "display_data",
          "data": {
            "text/html": [
              "<p style=\"color: red;\">\n",
              "The default version of TensorFlow in Colab will soon switch to TensorFlow 2.x.<br>\n",
              "We recommend you <a href=\"https://www.tensorflow.org/guide/migrate\" target=\"_blank\">upgrade</a> now \n",
              "or ensure your notebook will continue to use TensorFlow 1.x via the <code>%tensorflow_version 1.x</code> magic:\n",
              "<a href=\"https://colab.research.google.com/notebooks/tensorflow_version.ipynb\" target=\"_blank\">more info</a>.</p>\n"
            ],
            "text/plain": [
              "<IPython.core.display.HTML object>"
            ]
          },
          "metadata": {
            "tags": []
          }
        }
      ]
    },
    {
      "cell_type": "markdown",
      "metadata": {
        "id": "q2phWdSLVtrm",
        "colab_type": "text"
      },
      "source": [
        "<img align=\"left\" margin-right=\"10px\" width=\"35\" height=\"35\" src=\"https://cdn1.iconfinder.com/data/icons/maps-locations-6/24/map_location_sign_road_direction-512.png\"><h3>&nbsp;&nbsp;Importing Libraries for <b>pycocoevalcap</b></h3>"
      ]
    },
    {
      "cell_type": "code",
      "metadata": {
        "id": "p0ZhNr_fVsmc",
        "colab_type": "code",
        "colab": {}
      },
      "source": [
        "from pycocoevalcap.tokenizer.ptbtokenizer import PTBTokenizer\n",
        "from pycocoevalcap.bleu.bleu import Bleu\n",
        "from pycocoevalcap.meteor.meteor import Meteor\n",
        "from pycocoevalcap.rouge.rouge import Rouge\n",
        "from pycocoevalcap.cider.cider import Cider\n",
        "from pycocoevalcap.spice.spice import Spice"
      ],
      "execution_count": 0,
      "outputs": []
    },
    {
      "cell_type": "markdown",
      "metadata": {
        "id": "dkx1XFrQV6MB",
        "colab_type": "text"
      },
      "source": [
        "<img align=\"left\" margin-right=\"10px\" width=\"35\" height=\"35\" src=\"https://cdn1.iconfinder.com/data/icons/maps-locations-6/24/map_location_sign_road_direction-512.png\"><h3>&nbsp;&nbsp;Importing Libraries for <b>nlgeval</b></h3>"
      ]
    },
    {
      "cell_type": "code",
      "metadata": {
        "id": "55onlJ4pVnU3",
        "colab_type": "code",
        "colab": {}
      },
      "source": [
        "from __future__ import unicode_literals\n",
        "import os\n",
        "import unittest\n",
        "import nlgeval\n",
        "from nlgeval import NLGEval"
      ],
      "execution_count": 0,
      "outputs": []
    },
    {
      "cell_type": "markdown",
      "metadata": {
        "id": "IAgkSfDaJoIm",
        "colab_type": "text"
      },
      "source": [
        "<img align=\"left\" margin-right=\"10px\" width=\"35\" height=\"35\" src=\"https://cdn1.iconfinder.com/data/icons/maps-locations-6/24/map_location_sign_road_direction-512.png\"><h3>&nbsp;&nbsp;Loading **image directory** and counting the <b>No. of images</b></h3>"
      ]
    },
    {
      "cell_type": "code",
      "metadata": {
        "id": "AxADidoErhcp",
        "colab_type": "code",
        "colab": {}
      },
      "source": [
        "cap_per_img = {}\n",
        "defected_cap = {}"
      ],
      "execution_count": 0,
      "outputs": []
    },
    {
      "cell_type": "code",
      "metadata": {
        "id": "QUEf_Xc7ImJT",
        "colab_type": "code",
        "outputId": "72a0e18f-9d5e-4ecb-9242-78f91a5e1538",
        "colab": {
          "base_uri": "https://localhost:8080/",
          "height": 50
        }
      },
      "source": [
        "cnt_img = 0\n",
        "#image directory\n",
        "img_dir = \"/content/drive/My Drive/Automatic Image Captioning - 350 (2016331001,2016331011)/Flickr8k/Flicker8k_Dataset\"\n",
        "\n",
        "for filename in os.listdir(img_dir):\n",
        "  cap_per_img[filename] = []\n",
        "  defected_cap[filename] = []\n",
        "  cnt_img+=1\n",
        "    \n",
        "print(\"Number of images : \" , cnt_img)\n",
        "print(\"Number of captions should be : \" , cnt_img*5)"
      ],
      "execution_count": 9,
      "outputs": [
        {
          "output_type": "stream",
          "text": [
            "Number of images :  8091\n",
            "Number of captions should be :  40455\n"
          ],
          "name": "stdout"
        }
      ]
    },
    {
      "cell_type": "markdown",
      "metadata": {
        "id": "nqoHox7muPeV",
        "colab_type": "text"
      },
      "source": [
        "<img align=\"left\" margin-right=\"10px\" width=\"35\" height=\"35\" src=\"https://cdn1.iconfinder.com/data/icons/maps-locations-6/24/map_location_sign_road_direction-512.png\"><h3>&nbsp;&nbsp;Checking If captions are defected and print if it is with Image names</h3>"
      ]
    },
    {
      "cell_type": "code",
      "metadata": {
        "id": "DE_P9V0UsACj",
        "colab_type": "code",
        "colab": {
          "base_uri": "https://localhost:8080/",
          "height": 34
        },
        "outputId": "0b0c6aec-5925-4557-fe23-472bd78d3758"
      },
      "source": [
        "token_dir = \"/content/drive/My Drive/Automatic Image Captioning - 350 (2016331001,2016331011)/Flickr8k/Flickr8k_bangla.token.txt\"\n",
        "\n",
        "cnt_cap = 0\n",
        "\n",
        "with open (token_dir, \"r\",encoding=\"utf-16\") as fileHandler:\n",
        "        for line in fileHandler:\n",
        "            sentence = line.strip()\n",
        "            sentences = sentence.split(\"\\t\")\n",
        "            ans = sentences[0]\n",
        "            ans1 = ans.split(\"#\")\n",
        "            # print(ans1[0] , \" : \",ans1[1])\n",
        "            if ans1[0] in cap_per_img:\n",
        "              cap_per_img[ans1[0]].append(ans1[1])\n",
        "              cnt_cap+=1\n",
        "            else:\n",
        "              defected_cap[ans1[0]].append(ans1[1])\n",
        "\n",
        "if(cnt_img*5 == cnt_cap):\n",
        "  print(\"All captions are okay.\")\n",
        "elif(len(defected_cap) > 0):\n",
        "  print(\"Defected captions : \")\n",
        "  for img_nm in defected_cap:\n",
        "    print(\"Image Name : \",img_nm,\"  Number : \",defected_cap[img_nm])          \n"
      ],
      "execution_count": 10,
      "outputs": [
        {
          "output_type": "stream",
          "text": [
            "All captions are okay.\n"
          ],
          "name": "stdout"
        }
      ]
    },
    {
      "cell_type": "markdown",
      "metadata": {
        "id": "tHPfTBrWKFMi",
        "colab_type": "text"
      },
      "source": [
        "<img align=\"left\" margin-right=\"10px\" width=\"35\" height=\"35\" src=\"https://cdn1.iconfinder.com/data/icons/maps-locations-6/24/map_location_sign_road_direction-512.png\"><h3>&nbsp;&nbsp;Loading the directories of **token.csv** , **train.txt** , **test.txt** and **validation.txt** files and converting them to pandas &nbsp;&nbsp;dataframe</h3>"
      ]
    },
    {
      "cell_type": "code",
      "metadata": {
        "id": "ItePrEU2JkcN",
        "colab_type": "code",
        "colab": {}
      },
      "source": [
        "image_tokens=pd.read_csv(\"/content/drive/My Drive/Automatic Image Captioning - 350 (2016331001,2016331011)/Flickr8k/Flickr8k_bangla.token.txt\", encoding = \"utf-16\",sep='\\t',names=[\"img_id\",\"img_caption\"])\n",
        "train_image_names=pd.read_csv(\"/content/drive/My Drive/Automatic Image Captioning - 350 (2016331001,2016331011)/Flickr8k/Flickr_8k.trainImages.txt\",encoding = \"utf-16\",names=[\"img_id\"])\n",
        "test_image_names=pd.read_csv(\"/content/drive/My Drive/Automatic Image Captioning - 350 (2016331001,2016331011)/Flickr8k/Flickr_8k.testImages.txt\",encoding = \"utf-16\",names=[\"img_id\"])\n",
        "val_image_names=pd.read_csv(\"/content/drive/My Drive/Automatic Image Captioning - 350 (2016331001,2016331011)/Flickr8k/Flickr_8k.devImages.txt\",encoding = \"utf-16\",names=[\"img_id\"])"
      ],
      "execution_count": 0,
      "outputs": []
    },
    {
      "cell_type": "markdown",
      "metadata": {
        "id": "MXtfykJzK4i-",
        "colab_type": "text"
      },
      "source": [
        "<img align=\"left\" margin-right=\"10px\" width=\"35\" height=\"35\" src=\"https://cdn1.iconfinder.com/data/icons/maps-locations-6/24/map_location_sign_road_direction-512.png\"><h3>&nbsp;&nbsp;Visualizing the <b>image_tokens</b></h3>"
      ]
    },
    {
      "cell_type": "code",
      "metadata": {
        "id": "_sddh1GtKXZr",
        "colab_type": "code",
        "outputId": "579fc5c5-08f8-4bee-e392-e13c82c79ea0",
        "colab": {
          "base_uri": "https://localhost:8080/",
          "height": 195
        }
      },
      "source": [
        "image_tokens.head(5)"
      ],
      "execution_count": 12,
      "outputs": [
        {
          "output_type": "execute_result",
          "data": {
            "text/html": [
              "<div>\n",
              "<style scoped>\n",
              "    .dataframe tbody tr th:only-of-type {\n",
              "        vertical-align: middle;\n",
              "    }\n",
              "\n",
              "    .dataframe tbody tr th {\n",
              "        vertical-align: top;\n",
              "    }\n",
              "\n",
              "    .dataframe thead th {\n",
              "        text-align: right;\n",
              "    }\n",
              "</style>\n",
              "<table border=\"1\" class=\"dataframe\">\n",
              "  <thead>\n",
              "    <tr style=\"text-align: right;\">\n",
              "      <th></th>\n",
              "      <th>img_id</th>\n",
              "      <th>img_caption</th>\n",
              "    </tr>\n",
              "  </thead>\n",
              "  <tbody>\n",
              "    <tr>\n",
              "      <th>0</th>\n",
              "      <td>1000268201_693b08cb0e.jpg#0</td>\n",
              "      <td>গোলাপী পোশাকে একটি শিশু প্রবেশের পথে সিঁড়ির এ...</td>\n",
              "    </tr>\n",
              "    <tr>\n",
              "      <th>1</th>\n",
              "      <td>1000268201_693b08cb0e.jpg#1</td>\n",
              "      <td>একটি মেয়ে কাঠের ভবনে .ুকছে।</td>\n",
              "    </tr>\n",
              "    <tr>\n",
              "      <th>2</th>\n",
              "      <td>1000268201_693b08cb0e.jpg#2</td>\n",
              "      <td>একটি ছোট্ট মেয়ে কাঠের প্লে হাউসে উঠছে।</td>\n",
              "    </tr>\n",
              "    <tr>\n",
              "      <th>3</th>\n",
              "      <td>1000268201_693b08cb0e.jpg#3</td>\n",
              "      <td>একটি ছোট্ট মেয়ে সিঁড়ি বেয়ে তার প্লে হাউসে উ...</td>\n",
              "    </tr>\n",
              "    <tr>\n",
              "      <th>4</th>\n",
              "      <td>1000268201_693b08cb0e.jpg#4</td>\n",
              "      <td>গোলাপী পোশাকের একটি ছোট্ট মেয়ে কাঠের কেবিনে ....</td>\n",
              "    </tr>\n",
              "  </tbody>\n",
              "</table>\n",
              "</div>"
            ],
            "text/plain": [
              "                        img_id                                        img_caption\n",
              "0  1000268201_693b08cb0e.jpg#0  গোলাপী পোশাকে একটি শিশু প্রবেশের পথে সিঁড়ির এ...\n",
              "1  1000268201_693b08cb0e.jpg#1                       একটি মেয়ে কাঠের ভবনে .ুকছে।\n",
              "2  1000268201_693b08cb0e.jpg#2            একটি ছোট্ট মেয়ে কাঠের প্লে হাউসে উঠছে।\n",
              "3  1000268201_693b08cb0e.jpg#3  একটি ছোট্ট মেয়ে সিঁড়ি বেয়ে তার প্লে হাউসে উ...\n",
              "4  1000268201_693b08cb0e.jpg#4  গোলাপী পোশাকের একটি ছোট্ট মেয়ে কাঠের কেবিনে ...."
            ]
          },
          "metadata": {
            "tags": []
          },
          "execution_count": 12
        }
      ]
    },
    {
      "cell_type": "markdown",
      "metadata": {
        "id": "oSbzhjsiLCBC",
        "colab_type": "text"
      },
      "source": [
        "<img align=\"left\" margin-right=\"10px\" width=\"35\" height=\"35\" src=\"https://cdn1.iconfinder.com/data/icons/maps-locations-6/24/map_location_sign_road_direction-512.png\"><h3>&nbsp;&nbsp;Visualizing the <b>train image names</b></h3>"
      ]
    },
    {
      "cell_type": "code",
      "metadata": {
        "id": "V1k46UMFKyHq",
        "colab_type": "code",
        "outputId": "9d7c2d94-e70f-4c27-ca54-432d8270a0c1",
        "colab": {
          "base_uri": "https://localhost:8080/",
          "height": 195
        }
      },
      "source": [
        "train_image_names.head(5)"
      ],
      "execution_count": 13,
      "outputs": [
        {
          "output_type": "execute_result",
          "data": {
            "text/html": [
              "<div>\n",
              "<style scoped>\n",
              "    .dataframe tbody tr th:only-of-type {\n",
              "        vertical-align: middle;\n",
              "    }\n",
              "\n",
              "    .dataframe tbody tr th {\n",
              "        vertical-align: top;\n",
              "    }\n",
              "\n",
              "    .dataframe thead th {\n",
              "        text-align: right;\n",
              "    }\n",
              "</style>\n",
              "<table border=\"1\" class=\"dataframe\">\n",
              "  <thead>\n",
              "    <tr style=\"text-align: right;\">\n",
              "      <th></th>\n",
              "      <th>img_id</th>\n",
              "    </tr>\n",
              "  </thead>\n",
              "  <tbody>\n",
              "    <tr>\n",
              "      <th>0</th>\n",
              "      <td>2513260012_03d33305cf.jpg</td>\n",
              "    </tr>\n",
              "    <tr>\n",
              "      <th>1</th>\n",
              "      <td>2903617548_d3e38d7f88.jpg</td>\n",
              "    </tr>\n",
              "    <tr>\n",
              "      <th>2</th>\n",
              "      <td>3338291921_fe7ae0c8f8.jpg</td>\n",
              "    </tr>\n",
              "    <tr>\n",
              "      <th>3</th>\n",
              "      <td>488416045_1c6d903fe0.jpg</td>\n",
              "    </tr>\n",
              "    <tr>\n",
              "      <th>4</th>\n",
              "      <td>2644326817_8f45080b87.jpg</td>\n",
              "    </tr>\n",
              "  </tbody>\n",
              "</table>\n",
              "</div>"
            ],
            "text/plain": [
              "                      img_id\n",
              "0  2513260012_03d33305cf.jpg\n",
              "1  2903617548_d3e38d7f88.jpg\n",
              "2  3338291921_fe7ae0c8f8.jpg\n",
              "3   488416045_1c6d903fe0.jpg\n",
              "4  2644326817_8f45080b87.jpg"
            ]
          },
          "metadata": {
            "tags": []
          },
          "execution_count": 13
        }
      ]
    },
    {
      "cell_type": "markdown",
      "metadata": {
        "id": "YNWh426RLMBy",
        "colab_type": "text"
      },
      "source": [
        "<img align=\"left\" margin-right=\"10px\" width=\"35\" height=\"35\" src=\"https://cdn1.iconfinder.com/data/icons/maps-locations-6/24/map_location_sign_road_direction-512.png\"><h3>&nbsp;&nbsp;Visualizing one of the <b>train images</b></h3>"
      ]
    },
    {
      "cell_type": "code",
      "metadata": {
        "id": "GQyLRxLFK2mB",
        "colab_type": "code",
        "outputId": "867b7ea7-64b5-416e-802f-1b8c203808ee",
        "colab": {
          "base_uri": "https://localhost:8080/",
          "height": 286
        }
      },
      "source": [
        "img=cv2.imread(img_dir+ \"/\" +train_image_names.img_id[0])\n",
        "plt.imshow(cv2.cvtColor(img,cv2.COLOR_BGR2RGB))"
      ],
      "execution_count": 14,
      "outputs": [
        {
          "output_type": "execute_result",
          "data": {
            "text/plain": [
              "<matplotlib.image.AxesImage at 0x7f24930b2da0>"
            ]
          },
          "metadata": {
            "tags": []
          },
          "execution_count": 14
        },
        {
          "output_type": "display_data",
          "data": {
            "image/png": "[encoded data removed]",
            "text/plain": [
              "<Figure size 432x288 with 1 Axes>"
            ]
          },
          "metadata": {
            "tags": []
          }
        }
      ]
    },
    {
      "cell_type": "markdown",
      "metadata": {
        "id": "BxJYqNI3LfV7",
        "colab_type": "text"
      },
      "source": [
        "<img align=\"left\" margin-right=\"10px\" width=\"35\" height=\"35\" src=\"https://cdn1.iconfinder.com/data/icons/maps-locations-6/24/map_location_sign_road_direction-512.png\"><h3>&nbsp;&nbsp;Removing the #0 , #1 #2 , #3 , #4 from the <b>image ids</b></h3>"
      ]
    },
    {
      "cell_type": "code",
      "metadata": {
        "id": "AGgTodV_LT9b",
        "colab_type": "code",
        "colab": {}
      },
      "source": [
        "image_tokens[\"img_id\"]=image_tokens[\"img_id\"].map(lambda x: x[:len(x)-2])"
      ],
      "execution_count": 0,
      "outputs": []
    },
    {
      "cell_type": "markdown",
      "metadata": {
        "id": "D_6jSP1gLpAx",
        "colab_type": "text"
      },
      "source": [
        "<img align=\"left\" margin-right=\"10px\" width=\"35\" height=\"35\" src=\"https://cdn1.iconfinder.com/data/icons/maps-locations-6/24/map_location_sign_road_direction-512.png\"><h3>&nbsp;&nbsp;Visualizing the <b>image_tokens</b> again</h3>"
      ]
    },
    {
      "cell_type": "code",
      "metadata": {
        "id": "PPoofA-fLl7C",
        "colab_type": "code",
        "outputId": "942f46e5-a019-4f99-ff9e-d0a93d1eeae8",
        "colab": {
          "base_uri": "https://localhost:8080/",
          "height": 195
        }
      },
      "source": [
        "image_tokens.head(5)"
      ],
      "execution_count": 16,
      "outputs": [
        {
          "output_type": "execute_result",
          "data": {
            "text/html": [
              "<div>\n",
              "<style scoped>\n",
              "    .dataframe tbody tr th:only-of-type {\n",
              "        vertical-align: middle;\n",
              "    }\n",
              "\n",
              "    .dataframe tbody tr th {\n",
              "        vertical-align: top;\n",
              "    }\n",
              "\n",
              "    .dataframe thead th {\n",
              "        text-align: right;\n",
              "    }\n",
              "</style>\n",
              "<table border=\"1\" class=\"dataframe\">\n",
              "  <thead>\n",
              "    <tr style=\"text-align: right;\">\n",
              "      <th></th>\n",
              "      <th>img_id</th>\n",
              "      <th>img_caption</th>\n",
              "    </tr>\n",
              "  </thead>\n",
              "  <tbody>\n",
              "    <tr>\n",
              "      <th>0</th>\n",
              "      <td>1000268201_693b08cb0e.jpg</td>\n",
              "      <td>গোলাপী পোশাকে একটি শিশু প্রবেশের পথে সিঁড়ির এ...</td>\n",
              "    </tr>\n",
              "    <tr>\n",
              "      <th>1</th>\n",
              "      <td>1000268201_693b08cb0e.jpg</td>\n",
              "      <td>একটি মেয়ে কাঠের ভবনে .ুকছে।</td>\n",
              "    </tr>\n",
              "    <tr>\n",
              "      <th>2</th>\n",
              "      <td>1000268201_693b08cb0e.jpg</td>\n",
              "      <td>একটি ছোট্ট মেয়ে কাঠের প্লে হাউসে উঠছে।</td>\n",
              "    </tr>\n",
              "    <tr>\n",
              "      <th>3</th>\n",
              "      <td>1000268201_693b08cb0e.jpg</td>\n",
              "      <td>একটি ছোট্ট মেয়ে সিঁড়ি বেয়ে তার প্লে হাউসে উ...</td>\n",
              "    </tr>\n",
              "    <tr>\n",
              "      <th>4</th>\n",
              "      <td>1000268201_693b08cb0e.jpg</td>\n",
              "      <td>গোলাপী পোশাকের একটি ছোট্ট মেয়ে কাঠের কেবিনে ....</td>\n",
              "    </tr>\n",
              "  </tbody>\n",
              "</table>\n",
              "</div>"
            ],
            "text/plain": [
              "                      img_id                                        img_caption\n",
              "0  1000268201_693b08cb0e.jpg  গোলাপী পোশাকে একটি শিশু প্রবেশের পথে সিঁড়ির এ...\n",
              "1  1000268201_693b08cb0e.jpg                       একটি মেয়ে কাঠের ভবনে .ুকছে।\n",
              "2  1000268201_693b08cb0e.jpg            একটি ছোট্ট মেয়ে কাঠের প্লে হাউসে উঠছে।\n",
              "3  1000268201_693b08cb0e.jpg  একটি ছোট্ট মেয়ে সিঁড়ি বেয়ে তার প্লে হাউসে উ...\n",
              "4  1000268201_693b08cb0e.jpg  গোলাপী পোশাকের একটি ছোট্ট মেয়ে কাঠের কেবিনে ...."
            ]
          },
          "metadata": {
            "tags": []
          },
          "execution_count": 16
        }
      ]
    },
    {
      "cell_type": "code",
      "metadata": {
        "id": "ZgmZ11VWutJY",
        "colab_type": "code",
        "colab": {}
      },
      "source": [
        "image_tokens[\"img_caption\"]=image_tokens[\"img_caption\"].map(lambda x: str(x))"
      ],
      "execution_count": 0,
      "outputs": []
    },
    {
      "cell_type": "code",
      "metadata": {
        "id": "PpY1CdrouuP0",
        "colab_type": "code",
        "colab": {}
      },
      "source": [
        "image_tokens[\"img_caption\"]=image_tokens[\"img_caption\"].map(lambda x: \"<start> \" + x.strip() + \" <end>\")"
      ],
      "execution_count": 0,
      "outputs": []
    },
    {
      "cell_type": "markdown",
      "metadata": {
        "id": "scK7cu_DuzOE",
        "colab_type": "text"
      },
      "source": [
        "<img align=\"left\" margin-right=\"10px\" width=\"35\" height=\"35\" src=\"https://cdn1.iconfinder.com/data/icons/maps-locations-6/24/map_location_sign_road_direction-512.png\"><h3>&nbsp;&nbsp;Visualizing the <b>image_tokens</b> again with <b>`<start>`</b> and <b>`<end>`</b> </h3>"
      ]
    },
    {
      "cell_type": "code",
      "metadata": {
        "id": "DDzBfJ24uuI8",
        "colab_type": "code",
        "colab": {
          "base_uri": "https://localhost:8080/",
          "height": 195
        },
        "outputId": "1b127b04-671b-4cc3-d07d-62994fb9c5c7"
      },
      "source": [
        "image_tokens.head()"
      ],
      "execution_count": 19,
      "outputs": [
        {
          "output_type": "execute_result",
          "data": {
            "text/html": [
              "<div>\n",
              "<style scoped>\n",
              "    .dataframe tbody tr th:only-of-type {\n",
              "        vertical-align: middle;\n",
              "    }\n",
              "\n",
              "    .dataframe tbody tr th {\n",
              "        vertical-align: top;\n",
              "    }\n",
              "\n",
              "    .dataframe thead th {\n",
              "        text-align: right;\n",
              "    }\n",
              "</style>\n",
              "<table border=\"1\" class=\"dataframe\">\n",
              "  <thead>\n",
              "    <tr style=\"text-align: right;\">\n",
              "      <th></th>\n",
              "      <th>img_id</th>\n",
              "      <th>img_caption</th>\n",
              "    </tr>\n",
              "  </thead>\n",
              "  <tbody>\n",
              "    <tr>\n",
              "      <th>0</th>\n",
              "      <td>1000268201_693b08cb0e.jpg</td>\n",
              "      <td>&lt;start&gt; গোলাপী পোশাকে একটি শিশু প্রবেশের পথে স...</td>\n",
              "    </tr>\n",
              "    <tr>\n",
              "      <th>1</th>\n",
              "      <td>1000268201_693b08cb0e.jpg</td>\n",
              "      <td>&lt;start&gt; একটি মেয়ে কাঠের ভবনে .ুকছে। &lt;end&gt;</td>\n",
              "    </tr>\n",
              "    <tr>\n",
              "      <th>2</th>\n",
              "      <td>1000268201_693b08cb0e.jpg</td>\n",
              "      <td>&lt;start&gt; একটি ছোট্ট মেয়ে কাঠের প্লে হাউসে উঠছে...</td>\n",
              "    </tr>\n",
              "    <tr>\n",
              "      <th>3</th>\n",
              "      <td>1000268201_693b08cb0e.jpg</td>\n",
              "      <td>&lt;start&gt; একটি ছোট্ট মেয়ে সিঁড়ি বেয়ে তার প্লে...</td>\n",
              "    </tr>\n",
              "    <tr>\n",
              "      <th>4</th>\n",
              "      <td>1000268201_693b08cb0e.jpg</td>\n",
              "      <td>&lt;start&gt; গোলাপী পোশাকের একটি ছোট্ট মেয়ে কাঠের ...</td>\n",
              "    </tr>\n",
              "  </tbody>\n",
              "</table>\n",
              "</div>"
            ],
            "text/plain": [
              "                      img_id                                        img_caption\n",
              "0  1000268201_693b08cb0e.jpg  <start> গোলাপী পোশাকে একটি শিশু প্রবেশের পথে স...\n",
              "1  1000268201_693b08cb0e.jpg         <start> একটি মেয়ে কাঠের ভবনে .ুকছে। <end>\n",
              "2  1000268201_693b08cb0e.jpg  <start> একটি ছোট্ট মেয়ে কাঠের প্লে হাউসে উঠছে...\n",
              "3  1000268201_693b08cb0e.jpg  <start> একটি ছোট্ট মেয়ে সিঁড়ি বেয়ে তার প্লে...\n",
              "4  1000268201_693b08cb0e.jpg  <start> গোলাপী পোশাকের একটি ছোট্ট মেয়ে কাঠের ..."
            ]
          },
          "metadata": {
            "tags": []
          },
          "execution_count": 19
        }
      ]
    },
    {
      "cell_type": "markdown",
      "metadata": {
        "id": "lC6bgzfLNCW5",
        "colab_type": "text"
      },
      "source": [
        "<img align=\"left\" margin-right=\"10px\" width=\"35\" height=\"35\" src=\"https://cdn1.iconfinder.com/data/icons/maps-locations-6/24/map_location_sign_road_direction-512.png\"><h3>&nbsp;&nbsp;Creating **train dictionary** having key as the image id and value as a list of its captions</h3>"
      ]
    },
    {
      "cell_type": "code",
      "metadata": {
        "id": "CiM9n7ueM8HB",
        "colab_type": "code",
        "outputId": "ca2c41ce-de17-484c-b1e2-6583203a5c86",
        "colab": {
          "base_uri": "https://localhost:8080/",
          "height": 34
        }
      },
      "source": [
        "train_captions={}\n",
        "for i in tqdm(range(len(train_image_names))):\n",
        "  l=[caption for caption in(image_tokens[image_tokens[\"img_id\"]==train_image_names[\"img_id\"].iloc[i]].img_caption)]\n",
        "  train_captions[train_image_names[\"img_id\"].iloc[i]]=l"
      ],
      "execution_count": 20,
      "outputs": [
        {
          "output_type": "stream",
          "text": [
            "100%|██████████| 6000/6000 [00:19<00:00, 315.60it/s]\n"
          ],
          "name": "stderr"
        }
      ]
    },
    {
      "cell_type": "markdown",
      "metadata": {
        "id": "U-wahOjrNga6",
        "colab_type": "text"
      },
      "source": [
        "<img align=\"left\" margin-right=\"10px\" width=\"35\" height=\"35\" src=\"https://cdn1.iconfinder.com/data/icons/maps-locations-6/24/map_location_sign_road_direction-512.png\"><h3>&nbsp;&nbsp;Creating **test dictionary** having key as the image id and value as a list of its captions</h3>"
      ]
    },
    {
      "cell_type": "code",
      "metadata": {
        "id": "FKGoFUNHLuz6",
        "colab_type": "code",
        "outputId": "b8131f87-7c38-4168-9ff4-7a470e4b394e",
        "colab": {
          "base_uri": "https://localhost:8080/",
          "height": 34
        }
      },
      "source": [
        "test_captions={}\n",
        "for i in tqdm(range(len(test_image_names))):\n",
        "  l=[caption for caption in(image_tokens[image_tokens[\"img_id\"]==test_image_names[\"img_id\"].iloc[i]].img_caption)]\n",
        "  test_captions[test_image_names[\"img_id\"].iloc[i]]=l"
      ],
      "execution_count": 21,
      "outputs": [
        {
          "output_type": "stream",
          "text": [
            "100%|██████████| 1000/1000 [00:03<00:00, 307.11it/s]\n"
          ],
          "name": "stderr"
        }
      ]
    },
    {
      "cell_type": "markdown",
      "metadata": {
        "id": "Qw_D5MuKNz3B",
        "colab_type": "text"
      },
      "source": [
        "<img align=\"left\" margin-right=\"10px\" width=\"35\" height=\"35\" src=\"https://cdn1.iconfinder.com/data/icons/maps-locations-6/24/map_location_sign_road_direction-512.png\"><h3>&nbsp;&nbsp;Creating **validation dictionary** having key as the image id and value as a list of its captions</h3>"
      ]
    },
    {
      "cell_type": "code",
      "metadata": {
        "id": "z61W6zfPNzjs",
        "colab_type": "code",
        "outputId": "b1867205-add1-4d7c-d417-5b90b44ed381",
        "colab": {
          "base_uri": "https://localhost:8080/",
          "height": 34
        }
      },
      "source": [
        "validation_captions={}\n",
        "for i in tqdm(range(len(val_image_names))):\n",
        "  l=[caption for caption in(image_tokens[image_tokens[\"img_id\"]==val_image_names[\"img_id\"].iloc[i]].img_caption)]\n",
        "  validation_captions[val_image_names[\"img_id\"].iloc[i]]=l"
      ],
      "execution_count": 22,
      "outputs": [
        {
          "output_type": "stream",
          "text": [
            "100%|██████████| 1000/1000 [00:03<00:00, 310.41it/s]\n"
          ],
          "name": "stderr"
        }
      ]
    },
    {
      "cell_type": "markdown",
      "metadata": {
        "id": "rP_RsLMgOFnj",
        "colab_type": "text"
      },
      "source": [
        "<img align=\"left\" margin-right=\"10px\" width=\"35\" height=\"35\" src=\"https://cdn1.iconfinder.com/data/icons/maps-locations-6/24/map_location_sign_road_direction-512.png\"><h3>&nbsp;&nbsp;Importing the **ResNet50** model and printing the <b>summary</b></h3>"
      ]
    },
    {
      "cell_type": "code",
      "metadata": {
        "id": "E8otH1eqNv7t",
        "colab_type": "code",
        "outputId": "40a995d5-89ef-4383-c948-d89960cd2ae2",
        "colab": {
          "base_uri": "https://localhost:8080/",
          "height": 1000
        }
      },
      "source": [
        "model=ResNet50(include_top=False, weights='imagenet',pooling='avg',input_shape=(224,224,3))\n",
        "model.summary()"
      ],
      "execution_count": 23,
      "outputs": [
        {
          "output_type": "stream",
          "text": [
            "WARNING:tensorflow:From /usr/local/lib/python3.6/dist-packages/keras/backend/tensorflow_backend.py:66: The name tf.get_default_graph is deprecated. Please use tf.compat.v1.get_default_graph instead.\n",
            "\n",
            "WARNING:tensorflow:From /usr/local/lib/python3.6/dist-packages/keras/backend/tensorflow_backend.py:541: The name tf.placeholder is deprecated. Please use tf.compat.v1.placeholder instead.\n",
            "\n",
            "WARNING:tensorflow:From /usr/local/lib/python3.6/dist-packages/keras/backend/tensorflow_backend.py:4479: The name tf.truncated_normal is deprecated. Please use tf.random.truncated_normal instead.\n",
            "\n",
            "WARNING:tensorflow:From /usr/local/lib/python3.6/dist-packages/keras/backend/tensorflow_backend.py:190: The name tf.get_default_session is deprecated. Please use tf.compat.v1.get_default_session instead.\n",
            "\n",
            "WARNING:tensorflow:From /usr/local/lib/python3.6/dist-packages/keras/backend/tensorflow_backend.py:197: The name tf.ConfigProto is deprecated. Please use tf.compat.v1.ConfigProto instead.\n",
            "\n",
            "WARNING:tensorflow:From /usr/local/lib/python3.6/dist-packages/keras/backend/tensorflow_backend.py:203: The name tf.Session is deprecated. Please use tf.compat.v1.Session instead.\n",
            "\n",
            "WARNING:tensorflow:From /usr/local/lib/python3.6/dist-packages/keras/backend/tensorflow_backend.py:207: The name tf.global_variables is deprecated. Please use tf.compat.v1.global_variables instead.\n",
            "\n",
            "WARNING:tensorflow:From /usr/local/lib/python3.6/dist-packages/keras/backend/tensorflow_backend.py:216: The name tf.is_variable_initialized is deprecated. Please use tf.compat.v1.is_variable_initialized instead.\n",
            "\n",
            "WARNING:tensorflow:From /usr/local/lib/python3.6/dist-packages/keras/backend/tensorflow_backend.py:223: The name tf.variables_initializer is deprecated. Please use tf.compat.v1.variables_initializer instead.\n",
            "\n",
            "WARNING:tensorflow:From /usr/local/lib/python3.6/dist-packages/keras/backend/tensorflow_backend.py:2041: The name tf.nn.fused_batch_norm is deprecated. Please use tf.compat.v1.nn.fused_batch_norm instead.\n",
            "\n",
            "WARNING:tensorflow:From /usr/local/lib/python3.6/dist-packages/keras/backend/tensorflow_backend.py:148: The name tf.placeholder_with_default is deprecated. Please use tf.compat.v1.placeholder_with_default instead.\n",
            "\n",
            "WARNING:tensorflow:From /usr/local/lib/python3.6/dist-packages/keras/backend/tensorflow_backend.py:4267: The name tf.nn.max_pool is deprecated. Please use tf.nn.max_pool2d instead.\n",
            "\n",
            "Downloading data from https://github.com/fchollet/deep-learning-models/releases/download/v0.2/resnet50_weights_tf_dim_ordering_tf_kernels_notop.h5\n",
            "94658560/94653016 [==============================] - 1s 0us/step\n",
            "Model: \"resnet50\"\n",
            "__________________________________________________________________________________________________\n",
            "Layer (type)                    Output Shape         Param #     Connected to                     \n",
            "==================================================================================================\n",
            "input_1 (InputLayer)            (None, 224, 224, 3)  0                                            \n",
            "__________________________________________________________________________________________________\n",
            "conv1_pad (ZeroPadding2D)       (None, 230, 230, 3)  0           input_1[0][0]                    \n",
            "__________________________________________________________________________________________________\n",
            "conv1 (Conv2D)                  (None, 112, 112, 64) 9472        conv1_pad[0][0]                  \n",
            "__________________________________________________________________________________________________\n",
            "bn_conv1 (BatchNormalization)   (None, 112, 112, 64) 256         conv1[0][0]                      \n",
            "__________________________________________________________________________________________________\n",
            "activation_1 (Activation)       (None, 112, 112, 64) 0           bn_conv1[0][0]                   \n",
            "__________________________________________________________________________________________________\n",
            "pool1_pad (ZeroPadding2D)       (None, 114, 114, 64) 0           activation_1[0][0]               \n",
            "__________________________________________________________________________________________________\n",
            "max_pooling2d_1 (MaxPooling2D)  (None, 56, 56, 64)   0           pool1_pad[0][0]                  \n",
            "__________________________________________________________________________________________________\n",
            "res2a_branch2a (Conv2D)         (None, 56, 56, 64)   4160        max_pooling2d_1[0][0]            \n",
            "__________________________________________________________________________________________________\n",
            "bn2a_branch2a (BatchNormalizati (None, 56, 56, 64)   256         res2a_branch2a[0][0]             \n",
            "__________________________________________________________________________________________________\n",
            "activation_2 (Activation)       (None, 56, 56, 64)   0           bn2a_branch2a[0][0]              \n",
            "__________________________________________________________________________________________________\n",
            "res2a_branch2b (Conv2D)         (None, 56, 56, 64)   36928       activation_2[0][0]               \n",
            "__________________________________________________________________________________________________\n",
            "bn2a_branch2b (BatchNormalizati (None, 56, 56, 64)   256         res2a_branch2b[0][0]             \n",
            "__________________________________________________________________________________________________\n",
            "activation_3 (Activation)       (None, 56, 56, 64)   0           bn2a_branch2b[0][0]              \n",
            "__________________________________________________________________________________________________\n",
            "res2a_branch2c (Conv2D)         (None, 56, 56, 256)  16640       activation_3[0][0]               \n",
            "__________________________________________________________________________________________________\n",
            "res2a_branch1 (Conv2D)          (None, 56, 56, 256)  16640       max_pooling2d_1[0][0]            \n",
            "__________________________________________________________________________________________________\n",
            "bn2a_branch2c (BatchNormalizati (None, 56, 56, 256)  1024        res2a_branch2c[0][0]             \n",
            "__________________________________________________________________________________________________\n",
            "bn2a_branch1 (BatchNormalizatio (None, 56, 56, 256)  1024        res2a_branch1[0][0]              \n",
            "__________________________________________________________________________________________________\n",
            "add_1 (Add)                     (None, 56, 56, 256)  0           bn2a_branch2c[0][0]              \n",
            "                                                                 bn2a_branch1[0][0]               \n",
            "__________________________________________________________________________________________________\n",
            "activation_4 (Activation)       (None, 56, 56, 256)  0           add_1[0][0]                      \n",
            "__________________________________________________________________________________________________\n",
            "res2b_branch2a (Conv2D)         (None, 56, 56, 64)   16448       activation_4[0][0]               \n",
            "__________________________________________________________________________________________________\n",
            "bn2b_branch2a (BatchNormalizati (None, 56, 56, 64)   256         res2b_branch2a[0][0]             \n",
            "__________________________________________________________________________________________________\n",
            "activation_5 (Activation)       (None, 56, 56, 64)   0           bn2b_branch2a[0][0]              \n",
            "__________________________________________________________________________________________________\n",
            "res2b_branch2b (Conv2D)         (None, 56, 56, 64)   36928       activation_5[0][0]               \n",
            "__________________________________________________________________________________________________\n",
            "bn2b_branch2b (BatchNormalizati (None, 56, 56, 64)   256         res2b_branch2b[0][0]             \n",
            "__________________________________________________________________________________________________\n",
            "activation_6 (Activation)       (None, 56, 56, 64)   0           bn2b_branch2b[0][0]              \n",
            "__________________________________________________________________________________________________\n",
            "res2b_branch2c (Conv2D)         (None, 56, 56, 256)  16640       activation_6[0][0]               \n",
            "__________________________________________________________________________________________________\n",
            "bn2b_branch2c (BatchNormalizati (None, 56, 56, 256)  1024        res2b_branch2c[0][0]             \n",
            "__________________________________________________________________________________________________\n",
            "add_2 (Add)                     (None, 56, 56, 256)  0           bn2b_branch2c[0][0]              \n",
            "                                                                 activation_4[0][0]               \n",
            "__________________________________________________________________________________________________\n",
            "activation_7 (Activation)       (None, 56, 56, 256)  0           add_2[0][0]                      \n",
            "__________________________________________________________________________________________________\n",
            "res2c_branch2a (Conv2D)         (None, 56, 56, 64)   16448       activation_7[0][0]               \n",
            "__________________________________________________________________________________________________\n",
            "bn2c_branch2a (BatchNormalizati (None, 56, 56, 64)   256         res2c_branch2a[0][0]             \n",
            "__________________________________________________________________________________________________\n",
            "activation_8 (Activation)       (None, 56, 56, 64)   0           bn2c_branch2a[0][0]              \n",
            "__________________________________________________________________________________________________\n",
            "res2c_branch2b (Conv2D)         (None, 56, 56, 64)   36928       activation_8[0][0]               \n",
            "__________________________________________________________________________________________________\n",
            "bn2c_branch2b (BatchNormalizati (None, 56, 56, 64)   256         res2c_branch2b[0][0]             \n",
            "__________________________________________________________________________________________________\n",
            "activation_9 (Activation)       (None, 56, 56, 64)   0           bn2c_branch2b[0][0]              \n",
            "__________________________________________________________________________________________________\n",
            "res2c_branch2c (Conv2D)         (None, 56, 56, 256)  16640       activation_9[0][0]               \n",
            "__________________________________________________________________________________________________\n",
            "bn2c_branch2c (BatchNormalizati (None, 56, 56, 256)  1024        res2c_branch2c[0][0]             \n",
            "__________________________________________________________________________________________________\n",
            "add_3 (Add)                     (None, 56, 56, 256)  0           bn2c_branch2c[0][0]              \n",
            "                                                                 activation_7[0][0]               \n",
            "__________________________________________________________________________________________________\n",
            "activation_10 (Activation)      (None, 56, 56, 256)  0           add_3[0][0]                      \n",
            "__________________________________________________________________________________________________\n",
            "res3a_branch2a (Conv2D)         (None, 28, 28, 128)  32896       activation_10[0][0]              \n",
            "__________________________________________________________________________________________________\n",
            "bn3a_branch2a (BatchNormalizati (None, 28, 28, 128)  512         res3a_branch2a[0][0]             \n",
            "__________________________________________________________________________________________________\n",
            "activation_11 (Activation)      (None, 28, 28, 128)  0           bn3a_branch2a[0][0]              \n",
            "__________________________________________________________________________________________________\n",
            "res3a_branch2b (Conv2D)         (None, 28, 28, 128)  147584      activation_11[0][0]              \n",
            "__________________________________________________________________________________________________\n",
            "bn3a_branch2b (BatchNormalizati (None, 28, 28, 128)  512         res3a_branch2b[0][0]             \n",
            "__________________________________________________________________________________________________\n",
            "activation_12 (Activation)      (None, 28, 28, 128)  0           bn3a_branch2b[0][0]              \n",
            "__________________________________________________________________________________________________\n",
            "res3a_branch2c (Conv2D)         (None, 28, 28, 512)  66048       activation_12[0][0]              \n",
            "__________________________________________________________________________________________________\n",
            "res3a_branch1 (Conv2D)          (None, 28, 28, 512)  131584      activation_10[0][0]              \n",
            "__________________________________________________________________________________________________\n",
            "bn3a_branch2c (BatchNormalizati (None, 28, 28, 512)  2048        res3a_branch2c[0][0]             \n",
            "__________________________________________________________________________________________________\n",
            "bn3a_branch1 (BatchNormalizatio (None, 28, 28, 512)  2048        res3a_branch1[0][0]              \n",
            "__________________________________________________________________________________________________\n",
            "add_4 (Add)                     (None, 28, 28, 512)  0           bn3a_branch2c[0][0]              \n",
            "                                                                 bn3a_branch1[0][0]               \n",
            "__________________________________________________________________________________________________\n",
            "activation_13 (Activation)      (None, 28, 28, 512)  0           add_4[0][0]                      \n",
            "__________________________________________________________________________________________________\n",
            "res3b_branch2a (Conv2D)         (None, 28, 28, 128)  65664       activation_13[0][0]              \n",
            "__________________________________________________________________________________________________\n",
            "bn3b_branch2a (BatchNormalizati (None, 28, 28, 128)  512         res3b_branch2a[0][0]             \n",
            "__________________________________________________________________________________________________\n",
            "activation_14 (Activation)      (None, 28, 28, 128)  0           bn3b_branch2a[0][0]              \n",
            "__________________________________________________________________________________________________\n",
            "res3b_branch2b (Conv2D)         (None, 28, 28, 128)  147584      activation_14[0][0]              \n",
            "__________________________________________________________________________________________________\n",
            "bn3b_branch2b (BatchNormalizati (None, 28, 28, 128)  512         res3b_branch2b[0][0]             \n",
            "__________________________________________________________________________________________________\n",
            "activation_15 (Activation)      (None, 28, 28, 128)  0           bn3b_branch2b[0][0]              \n",
            "__________________________________________________________________________________________________\n",
            "res3b_branch2c (Conv2D)         (None, 28, 28, 512)  66048       activation_15[0][0]              \n",
            "__________________________________________________________________________________________________\n",
            "bn3b_branch2c (BatchNormalizati (None, 28, 28, 512)  2048        res3b_branch2c[0][0]             \n",
            "__________________________________________________________________________________________________\n",
            "add_5 (Add)                     (None, 28, 28, 512)  0           bn3b_branch2c[0][0]              \n",
            "                                                                 activation_13[0][0]              \n",
            "__________________________________________________________________________________________________\n",
            "activation_16 (Activation)      (None, 28, 28, 512)  0           add_5[0][0]                      \n",
            "__________________________________________________________________________________________________\n",
            "res3c_branch2a (Conv2D)         (None, 28, 28, 128)  65664       activation_16[0][0]              \n",
            "__________________________________________________________________________________________________\n",
            "bn3c_branch2a (BatchNormalizati (None, 28, 28, 128)  512         res3c_branch2a[0][0]             \n",
            "__________________________________________________________________________________________________\n",
            "activation_17 (Activation)      (None, 28, 28, 128)  0           bn3c_branch2a[0][0]              \n",
            "__________________________________________________________________________________________________\n",
            "res3c_branch2b (Conv2D)         (None, 28, 28, 128)  147584      activation_17[0][0]              \n",
            "__________________________________________________________________________________________________\n",
            "bn3c_branch2b (BatchNormalizati (None, 28, 28, 128)  512         res3c_branch2b[0][0]             \n",
            "__________________________________________________________________________________________________\n",
            "activation_18 (Activation)      (None, 28, 28, 128)  0           bn3c_branch2b[0][0]              \n",
            "__________________________________________________________________________________________________\n",
            "res3c_branch2c (Conv2D)         (None, 28, 28, 512)  66048       activation_18[0][0]              \n",
            "__________________________________________________________________________________________________\n",
            "bn3c_branch2c (BatchNormalizati (None, 28, 28, 512)  2048        res3c_branch2c[0][0]             \n",
            "__________________________________________________________________________________________________\n",
            "add_6 (Add)                     (None, 28, 28, 512)  0           bn3c_branch2c[0][0]              \n",
            "                                                                 activation_16[0][0]              \n",
            "__________________________________________________________________________________________________\n",
            "activation_19 (Activation)      (None, 28, 28, 512)  0           add_6[0][0]                      \n",
            "__________________________________________________________________________________________________\n",
            "res3d_branch2a (Conv2D)         (None, 28, 28, 128)  65664       activation_19[0][0]              \n",
            "__________________________________________________________________________________________________\n",
            "bn3d_branch2a (BatchNormalizati (None, 28, 28, 128)  512         res3d_branch2a[0][0]             \n",
            "__________________________________________________________________________________________________\n",
            "activation_20 (Activation)      (None, 28, 28, 128)  0           bn3d_branch2a[0][0]              \n",
            "__________________________________________________________________________________________________\n",
            "res3d_branch2b (Conv2D)         (None, 28, 28, 128)  147584      activation_20[0][0]              \n",
            "__________________________________________________________________________________________________\n",
            "bn3d_branch2b (BatchNormalizati (None, 28, 28, 128)  512         res3d_branch2b[0][0]             \n",
            "__________________________________________________________________________________________________\n",
            "activation_21 (Activation)      (None, 28, 28, 128)  0           bn3d_branch2b[0][0]              \n",
            "__________________________________________________________________________________________________\n",
            "res3d_branch2c (Conv2D)         (None, 28, 28, 512)  66048       activation_21[0][0]              \n",
            "__________________________________________________________________________________________________\n",
            "bn3d_branch2c (BatchNormalizati (None, 28, 28, 512)  2048        res3d_branch2c[0][0]             \n",
            "__________________________________________________________________________________________________\n",
            "add_7 (Add)                     (None, 28, 28, 512)  0           bn3d_branch2c[0][0]              \n",
            "                                                                 activation_19[0][0]              \n",
            "__________________________________________________________________________________________________\n",
            "activation_22 (Activation)      (None, 28, 28, 512)  0           add_7[0][0]                      \n",
            "__________________________________________________________________________________________________\n",
            "res4a_branch2a (Conv2D)         (None, 14, 14, 256)  131328      activation_22[0][0]              \n",
            "__________________________________________________________________________________________________\n",
            "bn4a_branch2a (BatchNormalizati (None, 14, 14, 256)  1024        res4a_branch2a[0][0]             \n",
            "__________________________________________________________________________________________________\n",
            "activation_23 (Activation)      (None, 14, 14, 256)  0           bn4a_branch2a[0][0]              \n",
            "__________________________________________________________________________________________________\n",
            "res4a_branch2b (Conv2D)         (None, 14, 14, 256)  590080      activation_23[0][0]              \n",
            "__________________________________________________________________________________________________\n",
            "bn4a_branch2b (BatchNormalizati (None, 14, 14, 256)  1024        res4a_branch2b[0][0]             \n",
            "__________________________________________________________________________________________________\n",
            "activation_24 (Activation)      (None, 14, 14, 256)  0           bn4a_branch2b[0][0]              \n",
            "__________________________________________________________________________________________________\n",
            "res4a_branch2c (Conv2D)         (None, 14, 14, 1024) 263168      activation_24[0][0]              \n",
            "__________________________________________________________________________________________________\n",
            "res4a_branch1 (Conv2D)          (None, 14, 14, 1024) 525312      activation_22[0][0]              \n",
            "__________________________________________________________________________________________________\n",
            "bn4a_branch2c (BatchNormalizati (None, 14, 14, 1024) 4096        res4a_branch2c[0][0]             \n",
            "__________________________________________________________________________________________________\n",
            "bn4a_branch1 (BatchNormalizatio (None, 14, 14, 1024) 4096        res4a_branch1[0][0]              \n",
            "__________________________________________________________________________________________________\n",
            "add_8 (Add)                     (None, 14, 14, 1024) 0           bn4a_branch2c[0][0]              \n",
            "                                                                 bn4a_branch1[0][0]               \n",
            "__________________________________________________________________________________________________\n",
            "activation_25 (Activation)      (None, 14, 14, 1024) 0           add_8[0][0]                      \n",
            "__________________________________________________________________________________________________\n",
            "res4b_branch2a (Conv2D)         (None, 14, 14, 256)  262400      activation_25[0][0]              \n",
            "__________________________________________________________________________________________________\n",
            "bn4b_branch2a (BatchNormalizati (None, 14, 14, 256)  1024        res4b_branch2a[0][0]             \n",
            "__________________________________________________________________________________________________\n",
            "activation_26 (Activation)      (None, 14, 14, 256)  0           bn4b_branch2a[0][0]              \n",
            "__________________________________________________________________________________________________\n",
            "res4b_branch2b (Conv2D)         (None, 14, 14, 256)  590080      activation_26[0][0]              \n",
            "__________________________________________________________________________________________________\n",
            "bn4b_branch2b (BatchNormalizati (None, 14, 14, 256)  1024        res4b_branch2b[0][0]             \n",
            "__________________________________________________________________________________________________\n",
            "activation_27 (Activation)      (None, 14, 14, 256)  0           bn4b_branch2b[0][0]              \n",
            "__________________________________________________________________________________________________\n",
            "res4b_branch2c (Conv2D)         (None, 14, 14, 1024) 263168      activation_27[0][0]              \n",
            "__________________________________________________________________________________________________\n",
            "bn4b_branch2c (BatchNormalizati (None, 14, 14, 1024) 4096        res4b_branch2c[0][0]             \n",
            "__________________________________________________________________________________________________\n",
            "add_9 (Add)                     (None, 14, 14, 1024) 0           bn4b_branch2c[0][0]              \n",
            "                                                                 activation_25[0][0]              \n",
            "__________________________________________________________________________________________________\n",
            "activation_28 (Activation)      (None, 14, 14, 1024) 0           add_9[0][0]                      \n",
            "__________________________________________________________________________________________________\n",
            "res4c_branch2a (Conv2D)         (None, 14, 14, 256)  262400      activation_28[0][0]              \n",
            "__________________________________________________________________________________________________\n",
            "bn4c_branch2a (BatchNormalizati (None, 14, 14, 256)  1024        res4c_branch2a[0][0]             \n",
            "__________________________________________________________________________________________________\n",
            "activation_29 (Activation)      (None, 14, 14, 256)  0           bn4c_branch2a[0][0]              \n",
            "__________________________________________________________________________________________________\n",
            "res4c_branch2b (Conv2D)         (None, 14, 14, 256)  590080      activation_29[0][0]              \n",
            "__________________________________________________________________________________________________\n",
            "bn4c_branch2b (BatchNormalizati (None, 14, 14, 256)  1024        res4c_branch2b[0][0]             \n",
            "__________________________________________________________________________________________________\n",
            "activation_30 (Activation)      (None, 14, 14, 256)  0           bn4c_branch2b[0][0]              \n",
            "__________________________________________________________________________________________________\n",
            "res4c_branch2c (Conv2D)         (None, 14, 14, 1024) 263168      activation_30[0][0]              \n",
            "__________________________________________________________________________________________________\n",
            "bn4c_branch2c (BatchNormalizati (None, 14, 14, 1024) 4096        res4c_branch2c[0][0]             \n",
            "__________________________________________________________________________________________________\n",
            "add_10 (Add)                    (None, 14, 14, 1024) 0           bn4c_branch2c[0][0]              \n",
            "                                                                 activation_28[0][0]              \n",
            "__________________________________________________________________________________________________\n",
            "activation_31 (Activation)      (None, 14, 14, 1024) 0           add_10[0][0]                     \n",
            "__________________________________________________________________________________________________\n",
            "res4d_branch2a (Conv2D)         (None, 14, 14, 256)  262400      activation_31[0][0]              \n",
            "__________________________________________________________________________________________________\n",
            "bn4d_branch2a (BatchNormalizati (None, 14, 14, 256)  1024        res4d_branch2a[0][0]             \n",
            "__________________________________________________________________________________________________\n",
            "activation_32 (Activation)      (None, 14, 14, 256)  0           bn4d_branch2a[0][0]              \n",
            "__________________________________________________________________________________________________\n",
            "res4d_branch2b (Conv2D)         (None, 14, 14, 256)  590080      activation_32[0][0]              \n",
            "__________________________________________________________________________________________________\n",
            "bn4d_branch2b (BatchNormalizati (None, 14, 14, 256)  1024        res4d_branch2b[0][0]             \n",
            "__________________________________________________________________________________________________\n",
            "activation_33 (Activation)      (None, 14, 14, 256)  0           bn4d_branch2b[0][0]              \n",
            "__________________________________________________________________________________________________\n",
            "res4d_branch2c (Conv2D)         (None, 14, 14, 1024) 263168      activation_33[0][0]              \n",
            "__________________________________________________________________________________________________\n",
            "bn4d_branch2c (BatchNormalizati (None, 14, 14, 1024) 4096        res4d_branch2c[0][0]             \n",
            "__________________________________________________________________________________________________\n",
            "add_11 (Add)                    (None, 14, 14, 1024) 0           bn4d_branch2c[0][0]              \n",
            "                                                                 activation_31[0][0]              \n",
            "__________________________________________________________________________________________________\n",
            "activation_34 (Activation)      (None, 14, 14, 1024) 0           add_11[0][0]                     \n",
            "__________________________________________________________________________________________________\n",
            "res4e_branch2a (Conv2D)         (None, 14, 14, 256)  262400      activation_34[0][0]              \n",
            "__________________________________________________________________________________________________\n",
            "bn4e_branch2a (BatchNormalizati (None, 14, 14, 256)  1024        res4e_branch2a[0][0]             \n",
            "__________________________________________________________________________________________________\n",
            "activation_35 (Activation)      (None, 14, 14, 256)  0           bn4e_branch2a[0][0]              \n",
            "__________________________________________________________________________________________________\n",
            "res4e_branch2b (Conv2D)         (None, 14, 14, 256)  590080      activation_35[0][0]              \n",
            "__________________________________________________________________________________________________\n",
            "bn4e_branch2b (BatchNormalizati (None, 14, 14, 256)  1024        res4e_branch2b[0][0]             \n",
            "__________________________________________________________________________________________________\n",
            "activation_36 (Activation)      (None, 14, 14, 256)  0           bn4e_branch2b[0][0]              \n",
            "__________________________________________________________________________________________________\n",
            "res4e_branch2c (Conv2D)         (None, 14, 14, 1024) 263168      activation_36[0][0]              \n",
            "__________________________________________________________________________________________________\n",
            "bn4e_branch2c (BatchNormalizati (None, 14, 14, 1024) 4096        res4e_branch2c[0][0]             \n",
            "__________________________________________________________________________________________________\n",
            "add_12 (Add)                    (None, 14, 14, 1024) 0           bn4e_branch2c[0][0]              \n",
            "                                                                 activation_34[0][0]              \n",
            "__________________________________________________________________________________________________\n",
            "activation_37 (Activation)      (None, 14, 14, 1024) 0           add_12[0][0]                     \n",
            "__________________________________________________________________________________________________\n",
            "res4f_branch2a (Conv2D)         (None, 14, 14, 256)  262400      activation_37[0][0]              \n",
            "__________________________________________________________________________________________________\n",
            "bn4f_branch2a (BatchNormalizati (None, 14, 14, 256)  1024        res4f_branch2a[0][0]             \n",
            "__________________________________________________________________________________________________\n",
            "activation_38 (Activation)      (None, 14, 14, 256)  0           bn4f_branch2a[0][0]              \n",
            "__________________________________________________________________________________________________\n",
            "res4f_branch2b (Conv2D)         (None, 14, 14, 256)  590080      activation_38[0][0]              \n",
            "__________________________________________________________________________________________________\n",
            "bn4f_branch2b (BatchNormalizati (None, 14, 14, 256)  1024        res4f_branch2b[0][0]             \n",
            "__________________________________________________________________________________________________\n",
            "activation_39 (Activation)      (None, 14, 14, 256)  0           bn4f_branch2b[0][0]              \n",
            "__________________________________________________________________________________________________\n",
            "res4f_branch2c (Conv2D)         (None, 14, 14, 1024) 263168      activation_39[0][0]              \n",
            "__________________________________________________________________________________________________\n",
            "bn4f_branch2c (BatchNormalizati (None, 14, 14, 1024) 4096        res4f_branch2c[0][0]             \n",
            "__________________________________________________________________________________________________\n",
            "add_13 (Add)                    (None, 14, 14, 1024) 0           bn4f_branch2c[0][0]              \n",
            "                                                                 activation_37[0][0]              \n",
            "__________________________________________________________________________________________________\n",
            "activation_40 (Activation)      (None, 14, 14, 1024) 0           add_13[0][0]                     \n",
            "__________________________________________________________________________________________________\n",
            "res5a_branch2a (Conv2D)         (None, 7, 7, 512)    524800      activation_40[0][0]              \n",
            "__________________________________________________________________________________________________\n",
            "bn5a_branch2a (BatchNormalizati (None, 7, 7, 512)    2048        res5a_branch2a[0][0]             \n",
            "__________________________________________________________________________________________________\n",
            "activation_41 (Activation)      (None, 7, 7, 512)    0           bn5a_branch2a[0][0]              \n",
            "__________________________________________________________________________________________________\n",
            "res5a_branch2b (Conv2D)         (None, 7, 7, 512)    2359808     activation_41[0][0]              \n",
            "__________________________________________________________________________________________________\n",
            "bn5a_branch2b (BatchNormalizati (None, 7, 7, 512)    2048        res5a_branch2b[0][0]             \n",
            "__________________________________________________________________________________________________\n",
            "activation_42 (Activation)      (None, 7, 7, 512)    0           bn5a_branch2b[0][0]              \n",
            "__________________________________________________________________________________________________\n",
            "res5a_branch2c (Conv2D)         (None, 7, 7, 2048)   1050624     activation_42[0][0]              \n",
            "__________________________________________________________________________________________________\n",
            "res5a_branch1 (Conv2D)          (None, 7, 7, 2048)   2099200     activation_40[0][0]              \n",
            "__________________________________________________________________________________________________\n",
            "bn5a_branch2c (BatchNormalizati (None, 7, 7, 2048)   8192        res5a_branch2c[0][0]             \n",
            "__________________________________________________________________________________________________\n",
            "bn5a_branch1 (BatchNormalizatio (None, 7, 7, 2048)   8192        res5a_branch1[0][0]              \n",
            "__________________________________________________________________________________________________\n",
            "add_14 (Add)                    (None, 7, 7, 2048)   0           bn5a_branch2c[0][0]              \n",
            "                                                                 bn5a_branch1[0][0]               \n",
            "__________________________________________________________________________________________________\n",
            "activation_43 (Activation)      (None, 7, 7, 2048)   0           add_14[0][0]                     \n",
            "__________________________________________________________________________________________________\n",
            "res5b_branch2a (Conv2D)         (None, 7, 7, 512)    1049088     activation_43[0][0]              \n",
            "__________________________________________________________________________________________________\n",
            "bn5b_branch2a (BatchNormalizati (None, 7, 7, 512)    2048        res5b_branch2a[0][0]             \n",
            "__________________________________________________________________________________________________\n",
            "activation_44 (Activation)      (None, 7, 7, 512)    0           bn5b_branch2a[0][0]              \n",
            "__________________________________________________________________________________________________\n",
            "res5b_branch2b (Conv2D)         (None, 7, 7, 512)    2359808     activation_44[0][0]              \n",
            "__________________________________________________________________________________________________\n",
            "bn5b_branch2b (BatchNormalizati (None, 7, 7, 512)    2048        res5b_branch2b[0][0]             \n",
            "__________________________________________________________________________________________________\n",
            "activation_45 (Activation)      (None, 7, 7, 512)    0           bn5b_branch2b[0][0]              \n",
            "__________________________________________________________________________________________________\n",
            "res5b_branch2c (Conv2D)         (None, 7, 7, 2048)   1050624     activation_45[0][0]              \n",
            "__________________________________________________________________________________________________\n",
            "bn5b_branch2c (BatchNormalizati (None, 7, 7, 2048)   8192        res5b_branch2c[0][0]             \n",
            "__________________________________________________________________________________________________\n",
            "add_15 (Add)                    (None, 7, 7, 2048)   0           bn5b_branch2c[0][0]              \n",
            "                                                                 activation_43[0][0]              \n",
            "__________________________________________________________________________________________________\n",
            "activation_46 (Activation)      (None, 7, 7, 2048)   0           add_15[0][0]                     \n",
            "__________________________________________________________________________________________________\n",
            "res5c_branch2a (Conv2D)         (None, 7, 7, 512)    1049088     activation_46[0][0]              \n",
            "__________________________________________________________________________________________________\n",
            "bn5c_branch2a (BatchNormalizati (None, 7, 7, 512)    2048        res5c_branch2a[0][0]             \n",
            "__________________________________________________________________________________________________\n",
            "activation_47 (Activation)      (None, 7, 7, 512)    0           bn5c_branch2a[0][0]              \n",
            "__________________________________________________________________________________________________\n",
            "res5c_branch2b (Conv2D)         (None, 7, 7, 512)    2359808     activation_47[0][0]              \n",
            "__________________________________________________________________________________________________\n",
            "bn5c_branch2b (BatchNormalizati (None, 7, 7, 512)    2048        res5c_branch2b[0][0]             \n",
            "__________________________________________________________________________________________________\n",
            "activation_48 (Activation)      (None, 7, 7, 512)    0           bn5c_branch2b[0][0]              \n",
            "__________________________________________________________________________________________________\n",
            "res5c_branch2c (Conv2D)         (None, 7, 7, 2048)   1050624     activation_48[0][0]              \n",
            "__________________________________________________________________________________________________\n",
            "bn5c_branch2c (BatchNormalizati (None, 7, 7, 2048)   8192        res5c_branch2c[0][0]             \n",
            "__________________________________________________________________________________________________\n",
            "add_16 (Add)                    (None, 7, 7, 2048)   0           bn5c_branch2c[0][0]              \n",
            "                                                                 activation_46[0][0]              \n",
            "__________________________________________________________________________________________________\n",
            "activation_49 (Activation)      (None, 7, 7, 2048)   0           add_16[0][0]                     \n",
            "__________________________________________________________________________________________________\n",
            "global_average_pooling2d_1 (Glo (None, 2048)         0           activation_49[0][0]              \n",
            "==================================================================================================\n",
            "Total params: 23,587,712\n",
            "Trainable params: 23,534,592\n",
            "Non-trainable params: 53,120\n",
            "__________________________________________________________________________________________________\n"
          ],
          "name": "stdout"
        }
      ]
    },
    {
      "cell_type": "markdown",
      "metadata": {
        "id": "Zk6jSHZPBq7w",
        "colab_type": "text"
      },
      "source": [
        "<img align=\"left\" margin-right=\"10px\" width=\"35\" height=\"35\" src=\"https://cdn1.iconfinder.com/data/icons/maps-locations-6/24/map_location_sign_road_direction-512.png\"><h3>&nbsp;&nbsp;Defining the path to save the <b>pickle file</b></h3>"
      ]
    },
    {
      "cell_type": "code",
      "metadata": {
        "id": "ysHjrhMTOgSr",
        "colab_type": "code",
        "colab": {}
      },
      "source": [
        "pickle_path = \"/content/drive/My Drive/Automatic Image Captioning - 350 (2016331001,2016331011)/Flickr8k/\""
      ],
      "execution_count": 0,
      "outputs": []
    },
    {
      "cell_type": "markdown",
      "metadata": {
        "id": "rlE_EVFvOVpC",
        "colab_type": "text"
      },
      "source": [
        "<img align=\"left\" margin-right=\"10px\" width=\"35\" height=\"35\" src=\"https://cdn1.iconfinder.com/data/icons/maps-locations-6/24/map_location_sign_road_direction-512.png\"><h3>&nbsp;&nbsp;Extracting image encodings(features) from **ResNet50** and forming dict **train_features** and encoding as a <b>pkl</b> &nbsp;&nbsp;file</h3>"
      ]
    },
    {
      "cell_type": "code",
      "metadata": {
        "id": "HXH4drtEOA9Z",
        "colab_type": "code",
        "outputId": "a7474f5a-2ea3-43e2-a56c-1a249c3a37d8",
        "colab": {
          "base_uri": "https://localhost:8080/",
          "height": 34
        }
      },
      "source": [
        "path=img_dir+\"/\"\n",
        "train_features={}\n",
        "c=0\n",
        "for image_name in tqdm(train_captions):\n",
        "  img_path=path+image_name\n",
        "  img=image.load_img(img_path,target_size=(224,224))\n",
        "  x = image.img_to_array(img)\n",
        "  x = np.expand_dims(x, axis=0)\n",
        "  x = preprocess_input(x)\n",
        "  features = model.predict(x)\n",
        "  train_features[image_name]=features.squeeze()"
      ],
      "execution_count": 0,
      "outputs": [
        {
          "output_type": "stream",
          "text": [
            " 22%|██▏       | 1334/6000 [12:45<49:25,  1.57it/s]"
          ],
          "name": "stderr"
        }
      ]
    },
    {
      "cell_type": "code",
      "metadata": {
        "id": "lQqw91wjRXRC",
        "colab_type": "code",
        "colab": {}
      },
      "source": [
        "print(\"After Extracting Features length of train_features : \")\n",
        "print(len(train_features))"
      ],
      "execution_count": 0,
      "outputs": []
    },
    {
      "cell_type": "code",
      "metadata": {
        "id": "F1ney8pjQ-gs",
        "colab_type": "code",
        "colab": {}
      },
      "source": [
        "with open( pickle_path+\"encoded_train_images_machine_translated.pkl\", \"wb\" ) as pickle_f:\n",
        "    pickle.dump(train_features, pickle_f )"
      ],
      "execution_count": 0,
      "outputs": []
    },
    {
      "cell_type": "code",
      "metadata": {
        "id": "3j5tXRGpRFuA",
        "colab_type": "code",
        "colab": {}
      },
      "source": [
        "train_features = {}\n",
        "pickle_in = open(pickle_path + \"encoded_train_images_machine_translated.pkl\",\"rb\")\n",
        "train_features = pickle.load(pickle_in)"
      ],
      "execution_count": 0,
      "outputs": []
    },
    {
      "cell_type": "code",
      "metadata": {
        "id": "uIeNuWcPRchh",
        "colab_type": "code",
        "outputId": "61756a34-2bd0-4ff8-d1f2-e1c73ad0827d",
        "colab": {
          "base_uri": "https://localhost:8080/",
          "height": 50
        }
      },
      "source": [
        "print(\"After Extracting from pkl file length of train_features : \")\n",
        "print(len(train_features))"
      ],
      "execution_count": 26,
      "outputs": [
        {
          "output_type": "stream",
          "text": [
            "After Extracting from pkl file length of train_features : \n",
            "1000\n"
          ],
          "name": "stdout"
        }
      ]
    },
    {
      "cell_type": "markdown",
      "metadata": {
        "id": "NecH4j7FOyKM",
        "colab_type": "text"
      },
      "source": [
        "<img align=\"left\" margin-right=\"10px\" width=\"35\" height=\"35\" src=\"https://cdn1.iconfinder.com/data/icons/maps-locations-6/24/map_location_sign_road_direction-512.png\"><h3>&nbsp;&nbsp;Extracting image encodings(features) from **ResNet50** and forming dict <b>test_features</b> and encoding as a <b>pkl</b> &nbsp;&nbsp;file</h3>"
      ]
    },
    {
      "cell_type": "code",
      "metadata": {
        "id": "L2Oa6QUuRdx7",
        "colab_type": "code",
        "colab": {}
      },
      "source": [
        "path=img_dir+\"/\"\n",
        "test_features={}\n",
        "c=0\n",
        "for image_name in tqdm(test_captions):\n",
        "  img_path=path+image_name\n",
        "  img=image.load_img(img_path,target_size=(224,224))\n",
        "  x = image.img_to_array(img)\n",
        "  x = np.expand_dims(x, axis=0)\n",
        "  x = preprocess_input(x)\n",
        "  features = model.predict(x)\n",
        "  test_features[image_name]=features.squeeze()"
      ],
      "execution_count": 0,
      "outputs": []
    },
    {
      "cell_type": "code",
      "metadata": {
        "id": "md98bThIVMis",
        "colab_type": "code",
        "colab": {}
      },
      "source": [
        "with open( pickle_path+\"encoded_train_images_machine_translated.pkl\", \"wb\" ) as pickle_f1:\n",
        "    pickle.dump(test_features, pickle_f1 )"
      ],
      "execution_count": 0,
      "outputs": []
    },
    {
      "cell_type": "code",
      "metadata": {
        "id": "ISkVAAR3VXMG",
        "colab_type": "code",
        "colab": {}
      },
      "source": [
        "test_features = {}\n",
        "pickle_in = open(pickle_path + \"encoded_train_images_machine_translated.pkl\",\"rb\")\n",
        "test_features = pickle.load(pickle_in)"
      ],
      "execution_count": 0,
      "outputs": []
    },
    {
      "cell_type": "markdown",
      "metadata": {
        "id": "8khhNCjTO7h0",
        "colab_type": "text"
      },
      "source": [
        "<img align=\"left\" margin-right=\"10px\" width=\"35\" height=\"35\" src=\"https://cdn1.iconfinder.com/data/icons/maps-locations-6/24/map_location_sign_road_direction-512.png\"><h3>&nbsp;&nbsp;Extracting image encodings(features) from **ResNet50** and forming dict <b>validation_features</b> and encoding as a <b>&nbsp;&nbsp;pkl</b> file</h3>"
      ]
    },
    {
      "cell_type": "code",
      "metadata": {
        "id": "wxfVOJpFVOye",
        "colab_type": "code",
        "colab": {}
      },
      "source": [
        "path=img_dir+\"/\"\n",
        "validation_features={}\n",
        "c=0\n",
        "for image_name in tqdm(validation_captions):\n",
        "  img_path=path+image_name\n",
        "  img=image.load_img(img_path,target_size=(224,224))\n",
        "  x = image.img_to_array(img)\n",
        "  x = np.expand_dims(x, axis=0)\n",
        "  x = preprocess_input(x)\n",
        "  features = model.predict(x)\n",
        "  validation_features[image_name]=features.squeeze()"
      ],
      "execution_count": 0,
      "outputs": []
    },
    {
      "cell_type": "code",
      "metadata": {
        "id": "x1ihQUD_VQvY",
        "colab_type": "code",
        "colab": {}
      },
      "source": [
        "with open( pickle_path+\"encoded_validation_images_machine_translated.pkl\", \"wb\" ) as pickle_f2:\n",
        "    pickle.dump(validation_features, pickle_f2 )"
      ],
      "execution_count": 0,
      "outputs": []
    },
    {
      "cell_type": "code",
      "metadata": {
        "id": "CVQ5rd5VVf4S",
        "colab_type": "code",
        "colab": {}
      },
      "source": [
        "validation_features = {}\n",
        "pickle_in = open(pickle_path + \"encoded_validation_images_machine_translated.pkl\",\"rb\")\n",
        "validation_features = pickle.load(pickle_in)"
      ],
      "execution_count": 0,
      "outputs": []
    },
    {
      "cell_type": "code",
      "metadata": {
        "id": "Z7cWyp1Ovatf",
        "colab_type": "code",
        "colab": {}
      },
      "source": [
        "print(train_captions)"
      ],
      "execution_count": 0,
      "outputs": []
    },
    {
      "cell_type": "code",
      "metadata": {
        "id": "zmiPEshTVw_e",
        "colab_type": "code",
        "colab": {}
      },
      "source": [
        "all_captions=[]\n",
        "for img_id in tqdm(train_captions):\n",
        "  for captions in train_captions[img_id]:\n",
        "    all_captions.append(str(captions))\n",
        "\n",
        "all_words=\" \".join(all_captions)\n",
        "print()\n",
        "print(len(all_words))\n",
        "unique_words=list(set(all_words.strip().split(\" \")))\n",
        "print(len(unique_words))"
      ],
      "execution_count": 0,
      "outputs": []
    },
    {
      "cell_type": "code",
      "metadata": {
        "id": "VXcKHF4nYxX6",
        "colab_type": "code",
        "colab": {}
      },
      "source": [
        "x = all_captions[14381]\n",
        "print(x)"
      ],
      "execution_count": 0,
      "outputs": []
    },
    {
      "cell_type": "markdown",
      "metadata": {
        "id": "HK8R2VgmRRSX",
        "colab_type": "text"
      },
      "source": [
        "<img align=\"left\" margin-right=\"10px\" width=\"35\" height=\"35\" src=\"https://cdn1.iconfinder.com/data/icons/maps-locations-6/24/map_location_sign_road_direction-512.png\"><h3>&nbsp;&nbsp;Defining **max_length** and **vocabulary size**</h3>"
      ]
    },
    {
      "cell_type": "code",
      "metadata": {
        "id": "sYZ5mUFWRNcQ",
        "colab_type": "code",
        "colab": {}
      },
      "source": [
        "vocab_size=len(unique_words)+1\n",
        "max_length=40"
      ],
      "execution_count": 0,
      "outputs": []
    },
    {
      "cell_type": "markdown",
      "metadata": {
        "id": "rQHFk1SuSN4K",
        "colab_type": "text"
      },
      "source": [
        "<img align=\"left\" margin-right=\"10px\" width=\"35\" height=\"35\" src=\"https://cdn1.iconfinder.com/data/icons/maps-locations-6/24/map_location_sign_road_direction-512.png\"><h3>&nbsp;&nbsp;Forming dictionaries containg mapping of **words to indices** and <b>indices to words</b></h3>"
      ]
    },
    {
      "cell_type": "code",
      "metadata": {
        "id": "0KXRBwB5RNZm",
        "colab_type": "code",
        "colab": {}
      },
      "source": [
        "words_to_indices={val:index+1 for index, val in enumerate(unique_words)}\n",
        "indices_to_words = { index+1:val for index, val in enumerate(unique_words)}\n",
        "words_to_indices[\"Unk\"]=0\n",
        "indices_to_words[0]=\"Unk\""
      ],
      "execution_count": 0,
      "outputs": []
    },
    {
      "cell_type": "markdown",
      "metadata": {
        "id": "gLedWi_1SvM9",
        "colab_type": "text"
      },
      "source": [
        "<img align=\"left\" margin-right=\"10px\" width=\"35\" height=\"35\" src=\"https://cdn1.iconfinder.com/data/icons/maps-locations-6/24/map_location_sign_road_direction-512.png\"><h3>&nbsp;&nbsp;Forming dictionary having <b>encoded captions</b></h3>"
      ]
    },
    {
      "cell_type": "code",
      "metadata": {
        "id": "PDQMZodrRNWe",
        "colab_type": "code",
        "colab": {}
      },
      "source": [
        "train_encoded_captions={}\n",
        "for img_id in tqdm(train_captions):\n",
        "  train_encoded_captions[img_id]=[]\n",
        "  for i in range(5):\n",
        "    print(img_id)\n",
        "    train_encoded_captions[img_id].append([words_to_indices[s] for s in train_captions[img_id][i].split(\" \")])"
      ],
      "execution_count": 0,
      "outputs": []
    },
    {
      "cell_type": "code",
      "metadata": {
        "id": "WWQ2In5xRNUc",
        "colab_type": "code",
        "colab": {}
      },
      "source": [
        "for img_id in tqdm(train_encoded_captions):\n",
        "  train_encoded_captions[img_id]=pad_sequences(train_encoded_captions[img_id], maxlen=max_length, padding='post')"
      ],
      "execution_count": 0,
      "outputs": []
    },
    {
      "cell_type": "code",
      "metadata": {
        "id": "6Ry7P3XfRNRS",
        "colab_type": "code",
        "colab": {}
      },
      "source": [
        "def data_generator(train_encoded_captions,train_features,num_of_photos):\n",
        "  X1, X2, Y = list(), list(), list()\n",
        "  max_length=40\n",
        "  n=0\n",
        "  for img_id in tqdm(train_encoded_captions):\n",
        "    n+=1\n",
        "    for i in range(2):\n",
        "      for j in range(1,40):\n",
        "        curr_sequence=train_encoded_captions[img_id][i][0:j].tolist()\n",
        "        next_word=train_encoded_captions[img_id][i][j]\n",
        "        curr_sequence=pad_sequences([curr_sequence], maxlen=max_length, padding='post')[0]\n",
        "        one_hot_next_word=to_categorical([next_word],vocab_size)[0]\n",
        "        X1.append(train_features[img_id])\n",
        "        X2.append(curr_sequence)\n",
        "        Y.append(one_hot_next_word)\n",
        "    if(n==num_of_photos):\n",
        "      yield [[array(X1), array(X2)], array(Y)]\n",
        "      X1, X2, Y = list(), list(), list()\n",
        "      n=0"
      ],
      "execution_count": 0,
      "outputs": []
    },
    {
      "cell_type": "markdown",
      "metadata": {
        "id": "GPW5Yx67XXMB",
        "colab_type": "text"
      },
      "source": [
        "<img align=\"left\" margin-right=\"10px\" width=\"35\" height=\"35\" src=\"https://cdn1.iconfinder.com/data/icons/maps-locations-6/24/map_location_sign_road_direction-512.png\"><h3>&nbsp;&nbsp;Importing **Libraries**</h3>"
      ]
    },
    {
      "cell_type": "code",
      "metadata": {
        "id": "Beg4JK3GRNO7",
        "colab_type": "code",
        "colab": {}
      },
      "source": [
        "from keras.models import Model\n",
        "from keras.layers import Input\n",
        "from keras.layers import Dense\n",
        "from keras.layers import Dropout\n",
        "from keras.layers.recurrent import LSTM\n",
        "from keras.layers import Conv1D, MaxPooling1D, GlobalMaxPooling1D \n",
        "from keras.layers.merge import add\n",
        "from keras.layers.embeddings import Embedding"
      ],
      "execution_count": 0,
      "outputs": []
    },
    {
      "cell_type": "markdown",
      "metadata": {
        "id": "jTY1UBokXe2H",
        "colab_type": "text"
      },
      "source": [
        "<img align=\"left\" margin-right=\"10px\" width=\"35\" height=\"35\" src=\"https://cdn1.iconfinder.com/data/icons/maps-locations-6/24/map_location_sign_road_direction-512.png\"><h3>&nbsp;&nbsp;Defining <b>Model</b> for generating captions</h3>"
      ]
    },
    {
      "cell_type": "code",
      "metadata": {
        "id": "BPAM29XvRNNM",
        "colab_type": "code",
        "colab": {}
      },
      "source": [
        "input_1=Input(shape=(2048,))\n",
        "dropout_1=Dropout(0.2)(input_1)\n",
        "dense_1=Dense(256,activation='relu')(dropout_1)\n",
        "\n",
        "input_2=Input(shape=(max_length,))\n",
        "embedding_1=Embedding(vocab_size,256)(input_2)\n",
        "dropout_2=Dropout(0.2)(embedding_1)\n",
        "#lstm_1=LSTM(256)(dropout_2)\n",
        "\n",
        "#changes done to integrate 1D- Convolutional layer\n",
        "conv_1D = Conv1D(filters=256, kernel_size=3, activation='relu')(dropout_2)\n",
        "pool_1 = GlobalMaxPooling1D()(conv_1D)\n",
        "\n",
        "add_1=add([dense_1,pool_1])\n",
        "#add_2=add([add_1,pool_1])\n",
        "dense_2=Dense(256,activation='relu')(add_1)\n",
        "dense_3=Dense(vocab_size,activation='softmax')(dense_2)\n",
        "\n",
        "model=Model(inputs=[input_1,input_2],outputs=dense_3)\n",
        "model.summary()"
      ],
      "execution_count": 0,
      "outputs": []
    },
    {
      "cell_type": "code",
      "metadata": {
        "id": "qE-uKpE3RNKt",
        "colab_type": "code",
        "colab": {}
      },
      "source": [
        "model.compile(loss='categorical_crossentropy', optimizer='adam',metrics=['accuracy'])"
      ],
      "execution_count": 0,
      "outputs": []
    },
    {
      "cell_type": "markdown",
      "metadata": {
        "id": "4bmTgm_OWSho",
        "colab_type": "text"
      },
      "source": [
        "<img align=\"left\" margin-right=\"10px\" width=\"35\" height=\"35\" src=\"https://cdn1.iconfinder.com/data/icons/maps-locations-6/24/map_location_sign_road_direction-512.png\"><h3>&nbsp;&nbsp;Fitting the model with <b>epoch 1</b></h3>"
      ]
    },
    {
      "cell_type": "code",
      "metadata": {
        "id": "7SyUzWBsRNIy",
        "colab_type": "code",
        "colab": {}
      },
      "source": [
        "epochs=1\n",
        "no_of_photos=5\n",
        "steps=len(train_encoded_captions)//no_of_photos\n",
        "for i in range(epochs):\n",
        "  generator=data_generator(train_encoded_captions,train_features,no_of_photos)\n",
        "  model.fit_generator(generator,epochs=1,steps_per_epoch=steps,verbose=1)"
      ],
      "execution_count": 0,
      "outputs": []
    },
    {
      "cell_type": "markdown",
      "metadata": {
        "id": "GPadQ-uyWbja",
        "colab_type": "text"
      },
      "source": [
        "<img align=\"left\" margin-right=\"10px\" width=\"35\" height=\"35\" src=\"https://cdn1.iconfinder.com/data/icons/maps-locations-6/24/map_location_sign_road_direction-512.png\"><h3>&nbsp;&nbsp;Fitting the model with <b>epoch 10</b></h3>"
      ]
    },
    {
      "cell_type": "code",
      "metadata": {
        "id": "8PTsOzCmRNFF",
        "colab_type": "code",
        "colab": {}
      },
      "source": [
        "epochs=10\n",
        "no_of_photos=5\n",
        "steps=len(train_encoded_captions)//no_of_photos\n",
        "for i in range(epochs):\n",
        "  print(\"epoch number : \",i+1)\n",
        "  generator=data_generator(train_encoded_captions,train_features,no_of_photos)\n",
        "  model.fit_generator(generator,epochs=1,steps_per_epoch=steps,verbose=1)"
      ],
      "execution_count": 0,
      "outputs": []
    },
    {
      "cell_type": "markdown",
      "metadata": {
        "id": "aeJ2yIWMWf28",
        "colab_type": "text"
      },
      "source": [
        "<img align=\"left\" margin-right=\"10px\" width=\"35\" height=\"35\" src=\"https://cdn1.iconfinder.com/data/icons/maps-locations-6/24/map_location_sign_road_direction-512.png\"><h3>&nbsp;&nbsp;Defining method for <b>Greedy Search</b></h3>"
      ]
    },
    {
      "cell_type": "code",
      "metadata": {
        "id": "vKqJ3-q5RNET",
        "colab_type": "code",
        "colab": {}
      },
      "source": [
        "def greedy_search(photo):\n",
        "  photo=photo.reshape(1,2048)\n",
        "  in_text='<start>'\n",
        "  for i in range(max_length):\n",
        "    sequence = [words_to_indices[s] for s in in_text.split(\" \") if s in words_to_indices]\n",
        "    sequence = pad_sequences([sequence], maxlen=max_length, padding='post')\n",
        "    y_pred = model.predict([photo,sequence],verbose=0)\n",
        "    y_pred = np.argmax(y_pred[0])\n",
        "    word = indices_to_words[y_pred]\n",
        "    in_text += ' ' + word\n",
        "    if word == '<end>':\n",
        "      break\n",
        "  final = in_text.split()\n",
        "  final = final[1:-1]\n",
        "  #final = \" \".join(final)\n",
        "  return final"
      ],
      "execution_count": 0,
      "outputs": []
    },
    {
      "cell_type": "markdown",
      "metadata": {
        "id": "BTnahZl9Wos3",
        "colab_type": "text"
      },
      "source": [
        "<img align=\"left\" margin-right=\"10px\" width=\"35\" height=\"35\" src=\"https://cdn1.iconfinder.com/data/icons/maps-locations-6/24/map_location_sign_road_direction-512.png\"><h3>&nbsp;&nbsp;Defining method for <b>Beam Search</b></h3>"
      ]
    },
    {
      "cell_type": "code",
      "metadata": {
        "id": "Aadq_x1pRNBi",
        "colab_type": "code",
        "colab": {}
      },
      "source": [
        "def beam_search(photo,k):\n",
        "  photo=photo.reshape(1,2048)\n",
        "  in_text='<start>'\n",
        "  sequence = [words_to_indices[s] for s in in_text.split(\" \") if s in words_to_indices]\n",
        "  sequence = pad_sequences([sequence], maxlen=max_length, padding='post')\n",
        "  y_pred = model.predict([photo,sequence],verbose=0)\n",
        "  predicted=[]\n",
        "  y_pred=y_pred.reshape(-1)\n",
        "  for i in range(y_pred.shape[0]):\n",
        "    predicted.append((i,y_pred[i]))\n",
        "  predicted=sorted(predicted,key=lambda x:x[1])[::-1]\n",
        "  b_search=[]\n",
        "  for i in range(k):\n",
        "    word = indices_to_words[predicted[i][0]]\n",
        "    b_search.append((in_text +' ' + word,predicted[i][1]))\n",
        "    \n",
        "  for idx in range(max_length):\n",
        "    b_search_square=[]\n",
        "    for text in b_search:\n",
        "      if text[0].split(\" \")[-1]==\"<end>\":\n",
        "        break\n",
        "      sequence = [words_to_indices[s] for s in text[0].split(\" \") if s in words_to_indices]\n",
        "      sequence = pad_sequences([sequence], maxlen=max_length, padding='post')\n",
        "      y_pred = model.predict([photo,sequence],verbose=0)\n",
        "      predicted=[]\n",
        "      y_pred=y_pred.reshape(-1)\n",
        "      for i in range(y_pred.shape[0]):\n",
        "        predicted.append((i,y_pred[i]))\n",
        "      predicted=sorted(predicted,key=lambda x:x[1])[::-1]\n",
        "      for i in range(k):\n",
        "        word = indices_to_words[predicted[i][0]]\n",
        "        b_search_square.append((text[0] +' ' + word,predicted[i][1]*text[1]))\n",
        "    if(len(b_search_square)>0):\n",
        "      b_search=(sorted(b_search_square,key=lambda x:x[1])[::-1])[:5]\n",
        "  final=b_search[0][0].split()\n",
        "  final = final[1:-1]\n",
        "  #final=\" \".join(final)\n",
        "  return final"
      ],
      "execution_count": 0,
      "outputs": []
    },
    {
      "cell_type": "markdown",
      "metadata": {
        "id": "WAQVP3-KWthZ",
        "colab_type": "text"
      },
      "source": [
        "<img align=\"left\" margin-right=\"10px\" width=\"35\" height=\"35\" src=\"https://cdn1.iconfinder.com/data/icons/maps-locations-6/24/map_location_sign_road_direction-512.png\"><h3>&nbsp;&nbsp;Defining method for calculating scores by <b>pycocoevalcap</b></h3>"
      ]
    },
    {
      "cell_type": "code",
      "metadata": {
        "id": "kixgbwo3RM-h",
        "colab_type": "code",
        "colab": {}
      },
      "source": [
        "def calc_scores(ref, hypo):\n",
        "    print(type(ref))\n",
        "    scorers = [\n",
        "        (Bleu(4), [\"Bleu_1\", \"Bleu_2\", \"Bleu_3\", \"Bleu_4\"]),\n",
        "        (Meteor(),\"METEOR\"),\n",
        "        (Rouge(), \"ROUGE_L\"),\n",
        "        (Cider(), \"CIDEr\"),\n",
        "        (Spice(), \"SPICE\")\n",
        "    ]\n",
        "    final_scores = {}\n",
        "    for scorer, method in scorers:\n",
        "        score, scores = scorer.compute_score(ref, hypo)\n",
        "        if type(score) == list:\n",
        "            for m, s in zip(method, score):\n",
        "                final_scores[m] = s\n",
        "        else:\n",
        "            final_scores[method] = score\n",
        "    return final_scores "
      ],
      "execution_count": 0,
      "outputs": []
    },
    {
      "cell_type": "code",
      "metadata": {
        "id": "FO-xD6qkRM77",
        "colab_type": "code",
        "colab": {}
      },
      "source": [
        "i=0\n",
        "for img_id in test_features:\n",
        "  i+=1\n",
        "  img=cv2.imread(img_dir+ \"/\" + img_id)\n",
        "  plt.imshow(cv2.cvtColor(img,cv2.COLOR_BGR2RGB))\n",
        "  photo=test_features[img_id]\n",
        "  plt.show()\n",
        "  reference=[]\n",
        "  for caps in test_captions[img_id]:\n",
        "    list_caps=caps.split(\" \")\n",
        "    list_caps=list_caps[1:-1]\n",
        "    reference.append(list_caps)\n",
        "  candidate_greedy=greedy_search(photo)\n",
        "  candidate3=beam_search(photo,3)\n",
        "  candidate5=beam_search(photo,5)\n",
        "  candidate7=beam_search(photo,7)\n",
        "  weights = (0.5, 0.5, 0, 0)\n",
        "# sentence_bleu([reference1, reference2, reference3], hypothesis1, weights)\n",
        "# , smoothing_function=SmoothingFunction().method1\n",
        "  score_greedy = sentence_bleu(reference, candidate_greedy, weights)\n",
        "  score3 = sentence_bleu(reference, candidate3, weights)\n",
        "  score5 = sentence_bleu(reference, candidate5, weights)\n",
        "  score7 = sentence_bleu(reference, candidate7, weights)\n",
        "  print(\"Referance Captions: \")\n",
        "  for cap in reference:\n",
        "    print(\" \".join(cap))\n",
        "  print(\"Predicted Caption for Greedy Search : \")\n",
        "  print(\" \".join(candidate_greedy))\n",
        "  print(\"bleu score: \",score_greedy)\n",
        "  print(\"Predicted Caption for Beam Search, k=3: \")\n",
        "  print(\" \".join(candidate3))\n",
        "  print(\"bleu score: \",score3)\n",
        "  print(\"Predicted Caption for Beam Search, k=5: \")\n",
        "  print(\" \".join(candidate5))\n",
        "  print(\"bleu score: \",score5)\n",
        "  print(\"Predicted Caption for Beam Search, k=7: \")\n",
        "  print(\" \".join(candidate7))\n",
        "  print(\"bleu score: \",score7)\n",
        "  if(i==5):\n",
        "    break"
      ],
      "execution_count": 0,
      "outputs": []
    },
    {
      "cell_type": "code",
      "metadata": {
        "id": "RpKXhonbRM5N",
        "colab_type": "code",
        "colab": {}
      },
      "source": [
        "i=0\n",
        "tot_score_greedy=0\n",
        "tot_score3=0\n",
        "tot_score5=0\n",
        "tot_score7=0\n",
        "for img_id in tqdm(test_features):\n",
        "  i+=1\n",
        "  photo=test_features[img_id]\n",
        "  reference=[]\n",
        "  for caps in test_captions[img_id]:\n",
        "    list_caps=caps.split(\" \")\n",
        "    list_caps=list_caps[1:-1]\n",
        "    reference.append(list_caps)\n",
        "  candidate_greedy=greedy_search(photo)\n",
        "  candidate3=beam_search(photo,3)\n",
        "  candidate5=beam_search(photo,5)\n",
        "  candidate7=beam_search(photo,7)\n",
        "  score_greedy = sentence_bleu(reference, candidate_greedy,smoothing_function=SmoothingFunction().method1)\n",
        "  score3 = sentence_bleu(reference, candidate3,smoothing_function=SmoothingFunction().method1)\n",
        "  score5 = sentence_bleu(reference, candidate5,smoothing_function=SmoothingFunction().method1)\n",
        "  score7 = sentence_bleu(reference, candidate7,smoothing_function=SmoothingFunction().method1)\n",
        "  tot_score_greedy+=score_greedy\n",
        "  tot_score3+=score3\n",
        "  tot_score5+=score5\n",
        "  tot_score7+=score7\n",
        "avg_score_greedy=tot_score_greedy/i\n",
        "avg_score_k3=tot_score3/i\n",
        "avg_score_k5=tot_score5/i\n",
        "avg_score_k7=tot_score7/i\n",
        "avg_score = (tot_score3+tot_score5+tot_score7+tot_score_greedy)/(i*4)\n",
        "print()\n",
        "print(\"Average Bleu score on Greedy search : \",avg_score_greedy)\n",
        "print(\"Average Bleu score on Beam search with k=3 : \",avg_score_k3)\n",
        "print(\"Average Bleu score on Beam search with k=5 : \",avg_score_k5)\n",
        "print(\"Average Bleu score on Beam search with k=7 : \",avg_score_k7)\n",
        "print(\"Average score of all average scores of greedy search and beam search k=3,5,7 is \"+str(avg_score))"
      ],
      "execution_count": 0,
      "outputs": []
    },
    {
      "cell_type": "markdown",
      "metadata": {
        "id": "oEctIQFOwS1Z",
        "colab_type": "text"
      },
      "source": [
        "<img align=\"left\" margin-right=\"10px\" width=\"35\" height=\"35\" src=\"https://cdn1.iconfinder.com/data/icons/maps-locations-6/24/map_location_sign_road_direction-512.png\"><h3>&nbsp;&nbsp;Creating an instance of NLGEVAL() Class from <b>nlgeval</b> Library</h3>"
      ]
    },
    {
      "cell_type": "code",
      "metadata": {
        "id": "PsspVe31q3dz",
        "colab_type": "code",
        "colab": {}
      },
      "source": [
        "n = NLGEval()"
      ],
      "execution_count": 0,
      "outputs": []
    },
    {
      "cell_type": "code",
      "metadata": {
        "id": "1XXnxIV3RM3k",
        "colab_type": "code",
        "colab": {}
      },
      "source": [
        "i=0\n",
        "for img_id in test_features:\n",
        "  i+=1\n",
        "  if(i<5):\n",
        "    continue\n",
        "  img=cv2.imread(img_dir+ \"/\" + img_id)\n",
        "  plt.imshow(cv2.cvtColor(img,cv2.COLOR_BGR2RGB))\n",
        "  photo=test_features[img_id]\n",
        "  plt.show()\n",
        "  reference=[]\n",
        "  for caps in test_captions[img_id]:\n",
        "    list_caps=caps.split(\" \")\n",
        "    list_caps=list_caps[1:-1]\n",
        "    reference.append(list_caps)\n",
        "\n",
        "  #generating reference captions  \n",
        "  ref_caps=[]\n",
        "  print(\"Reference Captions: \")\n",
        "  for cap in reference:\n",
        "    ref_caps.append(\" \".join(cap))\n",
        "\n",
        "  print(ref_caps)\n",
        "\n",
        "  candidate_greedy = greedy_search(photo)\n",
        "  candidate3 = beam_search(photo,3)\n",
        "  candidate5 = beam_search(photo,5)\n",
        "  candidate7 = beam_search(photo,7)\n",
        "\n",
        "  #generating hypothesis captions\n",
        "  hypo_greedy = \" \".join(candidate_greedy)\n",
        "  hypo_3 = \" \".join(candidate3)\n",
        "  hypo_5 = \" \".join(candidate5)\n",
        "  hypo_7 = \" \".join(candidate7)\n",
        "\n",
        "  print(\"hypothesis in greedy: \")\n",
        "  print(hypo_greedy)\n",
        "  print([hypo_greedy])\n",
        "  print(\"hypothesis in beam with k=3\")\n",
        "  print(hypo_3)\n",
        "  scores_greedy = n.compute_individual_metrics(ref_caps, hypo_greedy)\n",
        "  scores3 = n.compute_individual_metrics(ref_caps, hypo_3)\n",
        "  scores5 = n.compute_individual_metrics(ref_caps, hypo_5)\n",
        "  scores7 = n.compute_individual_metrics(ref_caps, hypo_7)\n",
        "\n",
        "  print(\"Results of pycocoevalcap : \")\n",
        "  ref={}\n",
        "  hyp={}\n",
        "  ref[0] = ref_caps\n",
        "  hyp[0] = [hypo_greedy]\n",
        "  pycoco_score={}\n",
        "  pycoco_score = calc_scores(ref,hyp)\n",
        "  # print(type(calc_scores(ref, hyp)))\n",
        "  print(pycoco_score)\n",
        "  for key in pycoco_score:\n",
        "    print(key,\" : \",pycoco_score[key])\n",
        "\n",
        "\n",
        "\n",
        "  print(\"Referance Captions: \")\n",
        "  print(ref_caps[0])\n",
        "  print(ref_caps[1])\n",
        "  print(\"Predicted Caption for Greedy Search : \")\n",
        "  print(hypo_greedy)\n",
        "  print(\"Bleu_1 score : \",scores_greedy['Bleu_1'])\n",
        "  print(\"Bleu_2 score : \",scores_greedy['Bleu_2'])\n",
        "  print(\"Bleu_3 score : \",scores_greedy['Bleu_3'])\n",
        "  print(\"Bleu_4 score : \",scores_greedy['Bleu_4'])\n",
        "  print(\"METEOR score : \",scores_greedy['METEOR'])\n",
        "  print(\"ROUGE_L score : \",scores_greedy['ROUGE_L'])\n",
        "  print(\"CIDEr score : \",scores_greedy['CIDEr'])\n",
        "  print(\"SkipThoughtCS score : \",scores_greedy['SkipThoughtCS'])\n",
        "  print(\"EmbeddingAverageCosineSimilarity score : \",scores_greedy['EmbeddingAverageCosineSimilarity'])\n",
        "  print(\"VectorExtremaCosineSimilarity score : \",scores_greedy['VectorExtremaCosineSimilarity'])\n",
        "  print(\"GreedyMatchingScore score : \",scores_greedy['GreedyMatchingScore'])\n",
        "  if(i==5):\n",
        "    break"
      ],
      "execution_count": 0,
      "outputs": []
    },
    {
      "cell_type": "code",
      "metadata": {
        "id": "DH5iBwkcRMzi",
        "colab_type": "code",
        "colab": {}
      },
      "source": [
        "scores = {}\n",
        "final_scores = {}\n",
        "metrics = ['Bleu_1','Bleu_2','Bleu_3','Bleu_4','METEOR','ROUGE_L','CIDEr','SkipThoughtCS','EmbeddingAverageCosineSimilarity','VectorExtremaCosineSimilarity','GreedyMatchingScore']\n",
        "search_type = ['greedy','beam_k3','beam_k5','beam_k7']\n",
        "i=0\n",
        "\n",
        "for img_id in tqdm(test_features):\n",
        "  i+=1\n",
        "  photo=test_features[img_id]\n",
        "  reference=[]\n",
        "  for caps in test_captions[img_id]:\n",
        "    list_caps=caps.split(\" \")\n",
        "    list_caps=list_caps[1:-1]\n",
        "    reference.append(list_caps)\n",
        "\n",
        "  #generating reference captions  \n",
        "  ref_caps=[]\n",
        "  print(\"Referance Captions: \")\n",
        "  for cap in reference:\n",
        "    ref_caps.append(\" \".join(cap))\n",
        "\n",
        "\n",
        "  #generating hypothesis captions\n",
        "  hypo_greedy = \" \".join(candidate_greedy)\n",
        "  hypo_3 = \" \".join(candidate3)\n",
        "  hypo_5 = \" \".join(candidate5)\n",
        "  hypo_7 = \" \".join(candidate7)\n",
        "\n",
        "\n",
        "  candidate_greedy=greedy_search(photo)\n",
        "  candidate3=beam_search(photo,3)\n",
        "  candidate5=beam_search(photo,5)\n",
        "  candidate7=beam_search(photo,7)\n",
        "  \n",
        "  \n",
        "  \n",
        "  scores['greedy'] = n.compute_individual_metrics(ref_caps, hypo_greedy)\n",
        "  scores['beam_k3'] = n.compute_individual_metrics(ref_caps, hypo_3)\n",
        "  scores['beam_k5'] = n.compute_individual_metrics(ref_caps, hypo_5)\n",
        "  scores['beam_k7'] = n.compute_individual_metrics(ref_caps, hypo_7)\n",
        "\n",
        "\n",
        "\n",
        "  \n",
        "\n",
        "  for s_type in search_type:\n",
        "    final_scores[s_type] = {}\n",
        "\n",
        "  for s_type in search_type:\n",
        "    for metric in metrics:\n",
        "      final_scores[s_type][metric] = 0.0\n",
        "\n",
        "\n",
        "  for s_type in search_type:\n",
        "    for metric in metrics:\n",
        "      final_scores[s_type][metric] += scores[s_type][metric]\n",
        "  \n",
        "if(i==5):\n",
        "    break\n",
        "\n",
        "\n",
        "for s_type in search_type:\n",
        "  print()\n",
        "  print()\n",
        "  print(s_type, \" : \")\n",
        "  for metric in metrics:\n",
        "    print(metric,\"  :  \",final_scores[s_type][metric]/i)"
      ],
      "execution_count": 0,
      "outputs": []
    }
  ]
}
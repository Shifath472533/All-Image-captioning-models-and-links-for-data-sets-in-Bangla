{
  "nbformat": 4,
  "nbformat_minor": 0,
  "metadata": {
    "colab": {
      "name": "ResNet Bangla (Machine Translated) with CNN.ipynb",
      "provenance": [],
      "authorship_tag": "ABX9TyMFTwBJWzD9NnQGxvHl04Ut",
      "include_colab_link": true
    },
    "kernelspec": {
      "name": "python3",
      "display_name": "Python 3"
    },
    "accelerator": "TPU"
  },
  "cells": [
    {
      "cell_type": "markdown",
      "metadata": {
        "id": "view-in-github",
        "colab_type": "text"
      },
      "source": [
        "<a href=\"https://colab.research.google.com/github/Shifath472533/All-Image-captioning-models-and-links-for-data-sets-in-Bangla/blob/master/ResNet_Bangla_(Machine_Translated)_with_CNN.ipynb\" target=\"_parent\"><img src=\"https://colab.research.google.com/assets/colab-badge.svg\" alt=\"Open In Colab\"/></a>"
      ]
    },
    {
      "cell_type": "markdown",
      "metadata": {
        "id": "UyJs6hZTIumk",
        "colab_type": "text"
      },
      "source": [
        "### Mounting google drive"
      ]
    },
    {
      "cell_type": "code",
      "metadata": {
        "id": "E1Q3SMfWHj4H",
        "colab_type": "code",
        "outputId": "6e68c5d7-dac6-4830-dc16-8308a46929f7",
        "colab": {
          "base_uri": "https://localhost:8080/",
          "height": 34
        }
      },
      "source": [
        "from google.colab import drive\n",
        "drive.mount('/content/drive')"
      ],
      "execution_count": 0,
      "outputs": [
        {
          "output_type": "stream",
          "text": [
            "Drive already mounted at /content/drive; to attempt to forcibly remount, call drive.mount(\"/content/drive\", force_remount=True).\n"
          ],
          "name": "stdout"
        }
      ]
    },
    {
      "cell_type": "markdown",
      "metadata": {
        "id": "vmOxRH8tU-0R",
        "colab_type": "text"
      },
      "source": [
        "### Setting up <b>dependencies</b>"
      ]
    },
    {
      "cell_type": "code",
      "metadata": {
        "id": "sXoKNpwAU911",
        "colab_type": "code",
        "outputId": "057f1656-71ca-4dbb-b48f-482f1b50f3d8",
        "colab": {
          "base_uri": "https://localhost:8080/",
          "height": 1000
        }
      },
      "source": [
        "!pip install --upgrade pip\n",
        "!pip install pycocotools\n",
        "!pip install git+https://github.com/salaniz/pycocoevalcap          #this is for pycocoevalcap library to calulate metrics\n",
        "!pip install git+https://github.com/Maluuba/nlg-eval.git@master    #this is for nlgeval library to calulate metrics\n",
        "!nlg-eval --setup"
      ],
      "execution_count": 0,
      "outputs": [
        {
          "output_type": "stream",
          "text": [
            "Collecting pip\n",
            "\u001b[?25l  Downloading https://files.pythonhosted.org/packages/54/0c/d01aa759fdc501a58f431eb594a17495f15b88da142ce14b5845662c13f3/pip-20.0.2-py2.py3-none-any.whl (1.4MB)\n",
            "\u001b[K     |████████████████████████████████| 1.4MB 3.3MB/s \n",
            "\u001b[?25hInstalling collected packages: pip\n",
            "  Found existing installation: pip 19.3.1\n",
            "    Uninstalling pip-19.3.1:\n",
            "      Successfully uninstalled pip-19.3.1\n",
            "Successfully installed pip-20.0.2\n",
            "Requirement already satisfied: pycocotools in /usr/local/lib/python3.6/dist-packages (2.0.0)\n",
            "Collecting git+https://github.com/salaniz/pycocoevalcap\n",
            "  Cloning https://github.com/salaniz/pycocoevalcap to /tmp/pip-req-build-tt4xvrxt\n",
            "  Running command git clone -q https://github.com/salaniz/pycocoevalcap /tmp/pip-req-build-tt4xvrxt\n",
            "Requirement already satisfied: pycocotools>=2.0.0 in /usr/local/lib/python3.6/dist-packages (from pycocoevalcap==1.1) (2.0.0)\n",
            "Building wheels for collected packages: pycocoevalcap\n",
            "  Building wheel for pycocoevalcap (setup.py) ... \u001b[?25l\u001b[?25hdone\n",
            "  Created wheel for pycocoevalcap: filename=pycocoevalcap-1.1-py3-none-any.whl size=104310172 sha256=f661b2ba7e259e268728a171ee85bff74003490c9441347a32e1829986755747\n",
            "  Stored in directory: /tmp/pip-ephem-wheel-cache-rep2fwrq/wheels/df/74/69/758b2491ca93bf681a1509671df34df9cf5ff605edf6e112ed\n",
            "Successfully built pycocoevalcap\n",
            "Installing collected packages: pycocoevalcap\n",
            "Successfully installed pycocoevalcap-1.1\n",
            "Collecting git+https://github.com/Maluuba/nlg-eval.git@master\n",
            "  Cloning https://github.com/Maluuba/nlg-eval.git (to revision master) to /tmp/pip-req-build-cppb6zf6\n",
            "  Running command git clone -q https://github.com/Maluuba/nlg-eval.git /tmp/pip-req-build-cppb6zf6\n",
            "Requirement already satisfied: click>=6.3 in /usr/local/lib/python3.6/dist-packages (from nlg-eval==2.3) (7.0)\n",
            "Requirement already satisfied: nltk>=3.1 in /usr/local/lib/python3.6/dist-packages (from nlg-eval==2.3) (3.2.5)\n",
            "Requirement already satisfied: numpy>=1.11.0 in /usr/local/lib/python3.6/dist-packages (from nlg-eval==2.3) (1.17.5)\n",
            "Collecting psutil>=5.6.2\n",
            "  Downloading psutil-5.7.0.tar.gz (449 kB)\n",
            "\u001b[K     |████████████████████████████████| 449 kB 3.3 MB/s \n",
            "\u001b[?25hRequirement already satisfied: requests>=2.19 in /usr/local/lib/python3.6/dist-packages (from nlg-eval==2.3) (2.21.0)\n",
            "Requirement already satisfied: six>=1.11 in /usr/local/lib/python3.6/dist-packages (from nlg-eval==2.3) (1.12.0)\n",
            "Requirement already satisfied: scipy>=0.17.0 in /usr/local/lib/python3.6/dist-packages (from nlg-eval==2.3) (1.4.1)\n",
            "Requirement already satisfied: scikit-learn>=0.17 in /usr/local/lib/python3.6/dist-packages (from nlg-eval==2.3) (0.22.1)\n",
            "Requirement already satisfied: gensim>=3 in /usr/local/lib/python3.6/dist-packages (from nlg-eval==2.3) (3.6.0)\n",
            "Requirement already satisfied: Theano>=0.8.1 in /usr/local/lib/python3.6/dist-packages (from nlg-eval==2.3) (1.0.4)\n",
            "Requirement already satisfied: tqdm>=4.24 in /usr/local/lib/python3.6/dist-packages (from nlg-eval==2.3) (4.28.1)\n",
            "Collecting xdg\n",
            "  Downloading xdg-4.0.1-py3-none-any.whl (4.2 kB)\n",
            "Requirement already satisfied: urllib3<1.25,>=1.21.1 in /usr/local/lib/python3.6/dist-packages (from requests>=2.19->nlg-eval==2.3) (1.24.3)\n",
            "Requirement already satisfied: chardet<3.1.0,>=3.0.2 in /usr/local/lib/python3.6/dist-packages (from requests>=2.19->nlg-eval==2.3) (3.0.4)\n",
            "Requirement already satisfied: idna<2.9,>=2.5 in /usr/local/lib/python3.6/dist-packages (from requests>=2.19->nlg-eval==2.3) (2.8)\n",
            "Requirement already satisfied: certifi>=2017.4.17 in /usr/local/lib/python3.6/dist-packages (from requests>=2.19->nlg-eval==2.3) (2019.11.28)\n",
            "Requirement already satisfied: joblib>=0.11 in /usr/local/lib/python3.6/dist-packages (from scikit-learn>=0.17->nlg-eval==2.3) (0.14.1)\n",
            "Requirement already satisfied: smart-open>=1.2.1 in /usr/local/lib/python3.6/dist-packages (from gensim>=3->nlg-eval==2.3) (1.9.0)\n",
            "Requirement already satisfied: boto3 in /usr/local/lib/python3.6/dist-packages (from smart-open>=1.2.1->gensim>=3->nlg-eval==2.3) (1.11.15)\n",
            "Requirement already satisfied: boto>=2.32 in /usr/local/lib/python3.6/dist-packages (from smart-open>=1.2.1->gensim>=3->nlg-eval==2.3) (2.49.0)\n",
            "Requirement already satisfied: s3transfer<0.4.0,>=0.3.0 in /usr/local/lib/python3.6/dist-packages (from boto3->smart-open>=1.2.1->gensim>=3->nlg-eval==2.3) (0.3.3)\n",
            "Requirement already satisfied: botocore<1.15.0,>=1.14.15 in /usr/local/lib/python3.6/dist-packages (from boto3->smart-open>=1.2.1->gensim>=3->nlg-eval==2.3) (1.14.15)\n",
            "Requirement already satisfied: jmespath<1.0.0,>=0.7.1 in /usr/local/lib/python3.6/dist-packages (from boto3->smart-open>=1.2.1->gensim>=3->nlg-eval==2.3) (0.9.4)\n",
            "Requirement already satisfied: docutils<0.16,>=0.10 in /usr/local/lib/python3.6/dist-packages (from botocore<1.15.0,>=1.14.15->boto3->smart-open>=1.2.1->gensim>=3->nlg-eval==2.3) (0.15.2)\n",
            "Requirement already satisfied: python-dateutil<3.0.0,>=2.1 in /usr/local/lib/python3.6/dist-packages (from botocore<1.15.0,>=1.14.15->boto3->smart-open>=1.2.1->gensim>=3->nlg-eval==2.3) (2.6.1)\n",
            "Building wheels for collected packages: nlg-eval, psutil\n",
            "  Building wheel for nlg-eval (setup.py) ... \u001b[?25l\u001b[?25hdone\n",
            "  Created wheel for nlg-eval: filename=nlg_eval-2.3-py3-none-any.whl size=68175137 sha256=d20674cd286f0c094bc1a6469cb988f2bb3d751975b831c236d84ef1fd17ec94\n",
            "  Stored in directory: /tmp/pip-ephem-wheel-cache-9j19018e/wheels/ef/3b/5a/d7c919c82d24410162ed850529af95cc577a34a2bf64bd032a\n",
            "  Building wheel for psutil (setup.py) ... \u001b[?25l\u001b[?25hdone\n",
            "  Created wheel for psutil: filename=psutil-5.7.0-cp36-cp36m-linux_x86_64.whl size=272661 sha256=954c467667152d7102934cd621137b326986a2a563cc8c04c90f9733ac0e5859\n",
            "  Stored in directory: /root/.cache/pip/wheels/a1/d9/f2/b5620c01e9b3e858c6877b1045fda5b115cf7df6490f883382\n",
            "Successfully built nlg-eval psutil\n",
            "Installing collected packages: psutil, xdg, nlg-eval\n",
            "  Attempting uninstall: psutil\n",
            "    Found existing installation: psutil 5.4.8\n",
            "    Uninstalling psutil-5.4.8:\n",
            "      Successfully uninstalled psutil-5.4.8\n",
            "Successfully installed nlg-eval-2.3 psutil-5.7.0 xdg-4.0.1\n"
          ],
          "name": "stdout"
        },
        {
          "output_type": "display_data",
          "data": {
            "application/vnd.colab-display-data+json": {
              "pip_warning": {
                "packages": [
                  "psutil"
                ]
              }
            }
          },
          "metadata": {
            "tags": []
          }
        },
        {
          "output_type": "stream",
          "text": [
            "[nltk_data] Downloading package punkt to /root/nltk_data...\n",
            "[nltk_data]   Unzipping tokenizers/punkt.zip.\n",
            "\u001b[31mInstalling to /root/.cache/nlgeval\u001b[0m\n",
            "\u001b[31mIn case of incomplete downloads, delete the directory and run `nlg-eval --setup /root/.cache/nlgeval' again.\u001b[0m\n",
            "Downloading http://nlp.stanford.edu/data/glove.6B.zip to /root/.cache/nlgeval.\n",
            "Downloading http://www.cs.toronto.edu/~rkiros/models/dictionary.txt to /root/.cache/nlgeval.\n",
            "Downloading https://raw.githubusercontent.com/robmsmt/glove-gensim/4c2224bccd61627b76c50a5e1d6afd1c82699d22/glove2word2vec.py to /usr/local/lib/python3.6/dist-packages/nlgeval/word2vec.\n",
            "Downloading http://www.cs.toronto.edu/~rkiros/models/utable.npy to /root/.cache/nlgeval.\n",
            "glove2word2vec.py: 100% 1.00/1.00 [00:00<00:00, 350 chunks/s]\n",
            "Downloading http://www.cs.toronto.edu/~rkiros/models/btable.npy to /root/.cache/nlgeval.\n",
            "dictionary.txt: 550 chunks [00:00, 1.05k chunks/s]\n",
            "Downloading http://www.cs.toronto.edu/~rkiros/models/uni_skip.npz to /root/.cache/nlgeval.\n",
            "uni_skip.npz: 100% 634/634 [00:23<00:00, 27.3 chunks/s]\n",
            "Downloading http://www.cs.toronto.edu/~rkiros/models/uni_skip.npz.pkl to /root/.cache/nlgeval.\n",
            "uni_skip.npz.pkl: 100% 1.00/1.00 [00:00<00:00, 922 chunks/s]\n",
            "Downloading http://www.cs.toronto.edu/~rkiros/models/bi_skip.npz to /root/.cache/nlgeval.\n",
            "bi_skip.npz: 100% 276/276 [00:20<00:00, 13.7 chunks/s]\n",
            "Downloading http://www.cs.toronto.edu/~rkiros/models/bi_skip.npz.pkl to /root/.cache/nlgeval.\n",
            "bi_skip.npz.pkl: 100% 1.00/1.00 [00:00<00:00, 1.42k chunks/s]\n",
            "Downloading https://raw.githubusercontent.com/moses-smt/mosesdecoder/b199e654df2a26ea58f234cbb642e89d9c1f269d/scripts/generic/multi-bleu.perl to /usr/local/lib/python3.6/dist-packages/nlgeval/multibleu.\n",
            "multi-bleu.perl: 100% 1.00/1.00 [00:00<00:00, 365 chunks/s]\n",
            "utable.npy: 100% 2.23k/2.23k [01:14<00:00, 30.0 chunks/s]\n",
            "btable.npy: 100% 2.23k/2.23k [01:17<00:00, 28.8 chunks/s]\n",
            "glove.6B.zip: 100% 823/823 [06:27<00:00, 2.12 chunks/s]\n",
            "/usr/local/lib/python3.6/dist-packages/smart_open/smart_open_lib.py:402: UserWarning: This function is deprecated, use smart_open.open instead. See the migration notes for details: https://github.com/RaRe-Technologies/smart_open/blob/master/README.rst#migrating-to-the-new-open-function\n",
            "  'See the migration notes for details: %s' % _MIGRATION_NOTES_URL\n",
            "2020-02-27 16:02:42,340 : MainThread : INFO : 400000 lines with 300 dimensions\n",
            "2020-02-27 16:02:46,052 : MainThread : INFO : Model /root/.cache/nlgeval/glove.6B.300d.model.txt successfully created !!\n",
            "2020-02-27 16:02:46,052 : MainThread : INFO : loading projection weights from /root/.cache/nlgeval/glove.6B.300d.model.txt\n",
            "2020-02-27 16:04:52,995 : MainThread : INFO : loaded (400000, 300) matrix from /root/.cache/nlgeval/glove.6B.300d.model.txt\n",
            "2020-02-27 16:04:52,995 : MainThread : INFO : precomputing L2-norms of word weight vectors\n",
            "/usr/local/lib/python3.6/dist-packages/gensim/matutils.py:737: FutureWarning: Conversion of the second argument of issubdtype from `int` to `np.signedinteger` is deprecated. In future, it will be treated as `np.int64 == np.dtype(int).type`.\n",
            "  if np.issubdtype(vec.dtype, np.int):\n",
            "2020-02-27 16:04:54,513 : MainThread : INFO : Most similar to king are: [('queen', 0.6336469054222107), ('prince', 0.619662344455719), ('monarch', 0.5899620652198792), ('kingdom', 0.5791267156600952), ('throne', 0.5606487989425659), ('ii', 0.5562329888343811), ('iii', 0.5503199100494385), ('crown', 0.5224862694740295), ('reign', 0.521735429763794), ('kings', 0.5066401362419128)]\n",
            "2020-02-27 16:04:54,513 : MainThread : INFO : Similarity score between woman and man is 0.6998663 \n",
            "2020-02-27 16:04:54,513 : MainThread : INFO : Finished running --setup\n",
            "2020-02-27 16:04:54,634 : MainThread : INFO : loading projection weights from /root/.cache/nlgeval/glove.6B.300d.model.txt\n",
            "2020-02-27 16:07:00,774 : MainThread : INFO : loaded (400000, 300) matrix from /root/.cache/nlgeval/glove.6B.300d.model.txt\n",
            "2020-02-27 16:07:00,774 : MainThread : INFO : saving Word2VecKeyedVectors object under /root/.cache/nlgeval/glove.6B.300d.model.bin, separately None\n",
            "2020-02-27 16:07:00,774 : MainThread : INFO : storing np array 'vectors' to /root/.cache/nlgeval/glove.6B.300d.model.bin.vectors.npy\n",
            "2020-02-27 16:07:01,913 : MainThread : INFO : not storing attribute vectors_norm\n",
            "2020-02-27 16:07:02,872 : MainThread : INFO : saved /root/.cache/nlgeval/glove.6B.300d.model.bin\n",
            "2020-02-27 16:07:02,872 : MainThread : INFO : loading Word2VecKeyedVectors object from /root/.cache/nlgeval/glove.6B.300d.model.bin\n",
            "2020-02-27 16:07:03,848 : MainThread : INFO : loading vectors from /root/.cache/nlgeval/glove.6B.300d.model.bin.vectors.npy with mmap=r\n",
            "2020-02-27 16:07:03,849 : MainThread : INFO : setting ignored attribute vectors_norm to None\n",
            "2020-02-27 16:07:03,849 : MainThread : INFO : loaded /root/.cache/nlgeval/glove.6B.300d.model.bin\n",
            "WARNING: could not read rc.json in /root/.config/nlgeval, overwriting\n"
          ],
          "name": "stdout"
        }
      ]
    },
    {
      "cell_type": "markdown",
      "metadata": {
        "id": "m8Xz1oN4IpMD",
        "colab_type": "text"
      },
      "source": [
        "### Importing the <b>libraries</b>"
      ]
    },
    {
      "cell_type": "code",
      "metadata": {
        "id": "ZpJ6ulgYIW4X",
        "colab_type": "code",
        "colab": {}
      },
      "source": [
        "import pandas as pd\n",
        "import matplotlib.pyplot as plt\n",
        "from tqdm import tqdm\n",
        "from keras.applications import vgg16\n",
        "from keras.preprocessing import image\n",
        "from keras.applications.vgg16 import preprocess_input\n",
        "from keras.applications.resnet50 import ResNet50\n",
        "from keras.models import Model\n",
        "from keras.preprocessing.text import one_hot\n",
        "from keras.preprocessing.sequence import pad_sequences\n",
        "from keras.utils import to_categorical\n",
        "from nltk.translate.bleu_score import sentence_bleu\n",
        "from nltk.translate.bleu_score import SmoothingFunction\n",
        "from numpy import array\n",
        "import pickle\n",
        "import numpy as np\n",
        "import os\n",
        "import cv2"
      ],
      "execution_count": 0,
      "outputs": []
    },
    {
      "cell_type": "markdown",
      "metadata": {
        "id": "q2phWdSLVtrm",
        "colab_type": "text"
      },
      "source": [
        "### Importing Libraries for <b>pycocoevalcap</b>"
      ]
    },
    {
      "cell_type": "code",
      "metadata": {
        "id": "p0ZhNr_fVsmc",
        "colab_type": "code",
        "colab": {}
      },
      "source": [
        "from pycocoevalcap.tokenizer.ptbtokenizer import PTBTokenizer\n",
        "from pycocoevalcap.bleu.bleu import Bleu\n",
        "from pycocoevalcap.meteor.meteor import Meteor\n",
        "from pycocoevalcap.rouge.rouge import Rouge\n",
        "from pycocoevalcap.cider.cider import Cider\n",
        "from pycocoevalcap.spice.spice import Spice"
      ],
      "execution_count": 0,
      "outputs": []
    },
    {
      "cell_type": "markdown",
      "metadata": {
        "id": "dkx1XFrQV6MB",
        "colab_type": "text"
      },
      "source": [
        "### Importing Libraries for <b>nlgeval</b>"
      ]
    },
    {
      "cell_type": "code",
      "metadata": {
        "id": "55onlJ4pVnU3",
        "colab_type": "code",
        "outputId": "8420b06b-2660-4f4f-c2cc-18101524e723",
        "colab": {
          "base_uri": "https://localhost:8080/",
          "height": 87
        }
      },
      "source": [
        "from __future__ import unicode_literals\n",
        "import os\n",
        "import unittest\n",
        "import nlgeval\n",
        "from nlgeval import NLGEval\n",
        "n = NLGEval()"
      ],
      "execution_count": 0,
      "outputs": [
        {
          "output_type": "stream",
          "text": [
            "WARNING (theano.tensor.blas): We did not find a dynamic library in the library_dir of the library we use for blas. If you use ATLAS, make sure to compile it with dynamics library.\n",
            "/usr/local/lib/python3.6/dist-packages/smart_open/smart_open_lib.py:402: UserWarning: This function is deprecated, use smart_open.open instead. See the migration notes for details: https://github.com/RaRe-Technologies/smart_open/blob/master/README.rst#migrating-to-the-new-open-function\n",
            "  'See the migration notes for details: %s' % _MIGRATION_NOTES_URL\n"
          ],
          "name": "stderr"
        }
      ]
    },
    {
      "cell_type": "markdown",
      "metadata": {
        "id": "IAgkSfDaJoIm",
        "colab_type": "text"
      },
      "source": [
        "### Loading image directory and counting the number of images"
      ]
    },
    {
      "cell_type": "code",
      "metadata": {
        "id": "QUEf_Xc7ImJT",
        "colab_type": "code",
        "outputId": "8cec2c0a-a216-4d48-f92e-8cc3bf441451",
        "colab": {
          "base_uri": "https://localhost:8080/",
          "height": 50
        }
      },
      "source": [
        "cnt = 0\n",
        "extra = 0\n",
        "#image directory\n",
        "img_dir = \"/content/drive/My Drive/Automatic Image Captioning - 350 (2016331001,2016331011)/Flickr8k/Flicker8k_Dataset\"\n",
        "\n",
        "for filename in os.listdir(img_dir):\n",
        "  filename = filename.split(\".\")[0]\n",
        "  cnt+=1\n",
        "    \n",
        "print(\"Number of images : \" , cnt)\n",
        "print(\"Number of captions : \" , cnt*5)"
      ],
      "execution_count": 0,
      "outputs": [
        {
          "output_type": "stream",
          "text": [
            "Number of images :  9154\n",
            "Number of captions :  18308\n"
          ],
          "name": "stdout"
        }
      ]
    },
    {
      "cell_type": "markdown",
      "metadata": {
        "id": "tHPfTBrWKFMi",
        "colab_type": "text"
      },
      "source": [
        "### Defining the directories of token.csv , train , test and validation text files and converting them to **pandas dataframe**"
      ]
    },
    {
      "cell_type": "code",
      "metadata": {
        "id": "ItePrEU2JkcN",
        "colab_type": "code",
        "colab": {}
      },
      "source": [
        "image_tokens=pd.read_csv(\"/content/drive/My Drive/Automatic Image Captioning - 350 (2016331001,2016331011)/Flickr8k/Flickr8k_bangla.token_main.txt\", encoding = \"utf-16\",sep='\\t',names=[\"img_id\",\"img_caption\"])\n",
        "train_image_names=pd.read_csv(\"/content/drive/My Drive/Automatic Image Captioning - 350 (2016331001,2016331011)/Flickr8k/Flickr_8k.trainImages.txt\",encoding = \"utf-16\",names=[\"img_id\"])\n",
        "test_image_names=pd.read_csv(\"/content/drive/My Drive/Automatic Image Captioning - 350 (2016331001,2016331011)/Flickr8k/Flickr_8k.testImages.txt\",encoding = \"utf-16\",names=[\"img_id\"])\n",
        "val_image_names=pd.read_csv(\"/content/drive/My Drive/Automatic Image Captioning - 350 (2016331001,2016331011)/Flickr8k/Flickr_8k.devImages.txt\",encoding = \"utf-16\",names=[\"img_id\"])"
      ],
      "execution_count": 0,
      "outputs": []
    },
    {
      "cell_type": "markdown",
      "metadata": {
        "id": "MXtfykJzK4i-",
        "colab_type": "text"
      },
      "source": [
        "### Visualizing the <b>image_tokens</b>"
      ]
    },
    {
      "cell_type": "code",
      "metadata": {
        "id": "_sddh1GtKXZr",
        "colab_type": "code",
        "outputId": "ce177051-a24e-415e-bd88-7c85afd212b2",
        "colab": {
          "base_uri": "https://localhost:8080/",
          "height": 195
        }
      },
      "source": [
        "image_tokens.head(5)"
      ],
      "execution_count": 0,
      "outputs": [
        {
          "output_type": "execute_result",
          "data": {
            "text/html": [
              "<div>\n",
              "<style scoped>\n",
              "    .dataframe tbody tr th:only-of-type {\n",
              "        vertical-align: middle;\n",
              "    }\n",
              "\n",
              "    .dataframe tbody tr th {\n",
              "        vertical-align: top;\n",
              "    }\n",
              "\n",
              "    .dataframe thead th {\n",
              "        text-align: right;\n",
              "    }\n",
              "</style>\n",
              "<table border=\"1\" class=\"dataframe\">\n",
              "  <thead>\n",
              "    <tr style=\"text-align: right;\">\n",
              "      <th></th>\n",
              "      <th>img_id</th>\n",
              "      <th>img_caption</th>\n",
              "    </tr>\n",
              "  </thead>\n",
              "  <tbody>\n",
              "    <tr>\n",
              "      <th>0</th>\n",
              "      <td>01.png#0</td>\n",
              "      <td>দুই জন মেয়ে মানুষ আছে। এক জন দাড়িয়ে আছে আর এক ...</td>\n",
              "    </tr>\n",
              "    <tr>\n",
              "      <th>1</th>\n",
              "      <td>01.png#1</td>\n",
              "      <td>একটি হলুদ জামা পায়জামা পরা মহিলা দাড়িয়ে হাতে এ...</td>\n",
              "    </tr>\n",
              "    <tr>\n",
              "      <th>2</th>\n",
              "      <td>02.png#0</td>\n",
              "      <td>জলাশয় এ একজন ছেলে মানুষ ও একটি বাচ্চা মানুষ আছ...</td>\n",
              "    </tr>\n",
              "    <tr>\n",
              "      <th>3</th>\n",
              "      <td>02.png#1</td>\n",
              "      <td>২ জন মানুষ যার একজন পুরুষ একটি নৌকায় দাড়িয়ে চা...</td>\n",
              "    </tr>\n",
              "    <tr>\n",
              "      <th>4</th>\n",
              "      <td>03.png#0</td>\n",
              "      <td>অনেক মেয়ে মানুষ বসে আছে।</td>\n",
              "    </tr>\n",
              "  </tbody>\n",
              "</table>\n",
              "</div>"
            ],
            "text/plain": [
              "     img_id                                        img_caption\n",
              "0  01.png#0  দুই জন মেয়ে মানুষ আছে। এক জন দাড়িয়ে আছে আর এক ...\n",
              "1  01.png#1  একটি হলুদ জামা পায়জামা পরা মহিলা দাড়িয়ে হাতে এ...\n",
              "2  02.png#0  জলাশয় এ একজন ছেলে মানুষ ও একটি বাচ্চা মানুষ আছ...\n",
              "3  02.png#1  ২ জন মানুষ যার একজন পুরুষ একটি নৌকায় দাড়িয়ে চা...\n",
              "4  03.png#0                           অনেক মেয়ে মানুষ বসে আছে।"
            ]
          },
          "metadata": {
            "tags": []
          },
          "execution_count": 36
        }
      ]
    },
    {
      "cell_type": "markdown",
      "metadata": {
        "id": "oSbzhjsiLCBC",
        "colab_type": "text"
      },
      "source": [
        "### Visualizing the <b>train image names</b>"
      ]
    },
    {
      "cell_type": "code",
      "metadata": {
        "id": "V1k46UMFKyHq",
        "colab_type": "code",
        "outputId": "8ade4811-d2a8-4e97-edc3-86e1a8207a17",
        "colab": {
          "base_uri": "https://localhost:8080/",
          "height": 195
        }
      },
      "source": [
        "train_image_names.head(5)"
      ],
      "execution_count": 0,
      "outputs": [
        {
          "output_type": "execute_result",
          "data": {
            "text/html": [
              "<div>\n",
              "<style scoped>\n",
              "    .dataframe tbody tr th:only-of-type {\n",
              "        vertical-align: middle;\n",
              "    }\n",
              "\n",
              "    .dataframe tbody tr th {\n",
              "        vertical-align: top;\n",
              "    }\n",
              "\n",
              "    .dataframe thead th {\n",
              "        text-align: right;\n",
              "    }\n",
              "</style>\n",
              "<table border=\"1\" class=\"dataframe\">\n",
              "  <thead>\n",
              "    <tr style=\"text-align: right;\">\n",
              "      <th></th>\n",
              "      <th>img_id</th>\n",
              "    </tr>\n",
              "  </thead>\n",
              "  <tbody>\n",
              "    <tr>\n",
              "      <th>0</th>\n",
              "      <td>01.png</td>\n",
              "    </tr>\n",
              "    <tr>\n",
              "      <th>1</th>\n",
              "      <td>02.png</td>\n",
              "    </tr>\n",
              "    <tr>\n",
              "      <th>2</th>\n",
              "      <td>03.png</td>\n",
              "    </tr>\n",
              "    <tr>\n",
              "      <th>3</th>\n",
              "      <td>04.png</td>\n",
              "    </tr>\n",
              "    <tr>\n",
              "      <th>4</th>\n",
              "      <td>05.png</td>\n",
              "    </tr>\n",
              "  </tbody>\n",
              "</table>\n",
              "</div>"
            ],
            "text/plain": [
              "   img_id\n",
              "0  01.png\n",
              "1  02.png\n",
              "2  03.png\n",
              "3  04.png\n",
              "4  05.png"
            ]
          },
          "metadata": {
            "tags": []
          },
          "execution_count": 37
        }
      ]
    },
    {
      "cell_type": "markdown",
      "metadata": {
        "id": "YNWh426RLMBy",
        "colab_type": "text"
      },
      "source": [
        "### Visualising one of the <b>train images</b>"
      ]
    },
    {
      "cell_type": "code",
      "metadata": {
        "id": "GQyLRxLFK2mB",
        "colab_type": "code",
        "outputId": "04200d7e-97e8-4261-d052-d5215f19d143",
        "colab": {
          "base_uri": "https://localhost:8080/",
          "height": 286
        }
      },
      "source": [
        "img=cv2.imread(img_dir+ \"/\" +train_image_names.img_id[0])\n",
        "plt.imshow(cv2.cvtColor(img,cv2.COLOR_BGR2RGB))"
      ],
      "execution_count": 0,
      "outputs": [
        {
          "output_type": "execute_result",
          "data": {
            "text/plain": [
              "<matplotlib.image.AxesImage at 0x7f4f8850c128>"
            ]
          },
          "metadata": {
            "tags": []
          },
          "execution_count": 38
        },
        {
          "output_type": "display_data",
          "data": {
            "image/png": "[encoded data removed]",
            "text/plain": [
              "<Figure size 432x288 with 1 Axes>"
            ]
          },
          "metadata": {
            "tags": []
          }
        }
      ]
    },
    {
      "cell_type": "markdown",
      "metadata": {
        "id": "BxJYqNI3LfV7",
        "colab_type": "text"
      },
      "source": [
        "### removing the #0,#1,#2,#3,#5 from the <b>image ids</b>"
      ]
    },
    {
      "cell_type": "code",
      "metadata": {
        "id": "AGgTodV_LT9b",
        "colab_type": "code",
        "colab": {}
      },
      "source": [
        "image_tokens[\"img_id\"]=image_tokens[\"img_id\"].map(lambda x: x[:len(x)-2])"
      ],
      "execution_count": 0,
      "outputs": []
    },
    {
      "cell_type": "markdown",
      "metadata": {
        "id": "D_6jSP1gLpAx",
        "colab_type": "text"
      },
      "source": [
        "### Visualizing the <b>image_tokens</b> again"
      ]
    },
    {
      "cell_type": "code",
      "metadata": {
        "id": "PPoofA-fLl7C",
        "colab_type": "code",
        "outputId": "b0e611d5-afc8-4085-aefb-0e24b5ff97a1",
        "colab": {
          "base_uri": "https://localhost:8080/",
          "height": 195
        }
      },
      "source": [
        "image_tokens.head(5)"
      ],
      "execution_count": 0,
      "outputs": [
        {
          "output_type": "execute_result",
          "data": {
            "text/html": [
              "<div>\n",
              "<style scoped>\n",
              "    .dataframe tbody tr th:only-of-type {\n",
              "        vertical-align: middle;\n",
              "    }\n",
              "\n",
              "    .dataframe tbody tr th {\n",
              "        vertical-align: top;\n",
              "    }\n",
              "\n",
              "    .dataframe thead th {\n",
              "        text-align: right;\n",
              "    }\n",
              "</style>\n",
              "<table border=\"1\" class=\"dataframe\">\n",
              "  <thead>\n",
              "    <tr style=\"text-align: right;\">\n",
              "      <th></th>\n",
              "      <th>img_id</th>\n",
              "      <th>img_caption</th>\n",
              "    </tr>\n",
              "  </thead>\n",
              "  <tbody>\n",
              "    <tr>\n",
              "      <th>0</th>\n",
              "      <td>01.png</td>\n",
              "      <td>দুই জন মেয়ে মানুষ আছে। এক জন দাড়িয়ে আছে আর এক ...</td>\n",
              "    </tr>\n",
              "    <tr>\n",
              "      <th>1</th>\n",
              "      <td>01.png</td>\n",
              "      <td>একটি হলুদ জামা পায়জামা পরা মহিলা দাড়িয়ে হাতে এ...</td>\n",
              "    </tr>\n",
              "    <tr>\n",
              "      <th>2</th>\n",
              "      <td>02.png</td>\n",
              "      <td>জলাশয় এ একজন ছেলে মানুষ ও একটি বাচ্চা মানুষ আছ...</td>\n",
              "    </tr>\n",
              "    <tr>\n",
              "      <th>3</th>\n",
              "      <td>02.png</td>\n",
              "      <td>২ জন মানুষ যার একজন পুরুষ একটি নৌকায় দাড়িয়ে চা...</td>\n",
              "    </tr>\n",
              "    <tr>\n",
              "      <th>4</th>\n",
              "      <td>03.png</td>\n",
              "      <td>অনেক মেয়ে মানুষ বসে আছে।</td>\n",
              "    </tr>\n",
              "  </tbody>\n",
              "</table>\n",
              "</div>"
            ],
            "text/plain": [
              "   img_id                                        img_caption\n",
              "0  01.png  দুই জন মেয়ে মানুষ আছে। এক জন দাড়িয়ে আছে আর এক ...\n",
              "1  01.png  একটি হলুদ জামা পায়জামা পরা মহিলা দাড়িয়ে হাতে এ...\n",
              "2  02.png  জলাশয় এ একজন ছেলে মানুষ ও একটি বাচ্চা মানুষ আছ...\n",
              "3  02.png  ২ জন মানুষ যার একজন পুরুষ একটি নৌকায় দাড়িয়ে চা...\n",
              "4  03.png                           অনেক মেয়ে মানুষ বসে আছে।"
            ]
          },
          "metadata": {
            "tags": []
          },
          "execution_count": 40
        }
      ]
    },
    {
      "cell_type": "markdown",
      "metadata": {
        "id": "lC6bgzfLNCW5",
        "colab_type": "text"
      },
      "source": [
        "### creating train dictionary having *key* as the **image id** and *value* as a list of its **captions**"
      ]
    },
    {
      "cell_type": "code",
      "metadata": {
        "id": "CiM9n7ueM8HB",
        "colab_type": "code",
        "outputId": "4d559886-78c1-40a2-c099-331a8782c115",
        "colab": {
          "base_uri": "https://localhost:8080/",
          "height": 34
        }
      },
      "source": [
        "train_captions={}\n",
        "for i in tqdm(range(len(train_image_names))):\n",
        "  l=[caption for caption in(image_tokens[image_tokens[\"img_id\"]==train_image_names[\"img_id\"].iloc[i]].img_caption)]\n",
        "  train_captions[train_image_names[\"img_id\"].iloc[i]]=l"
      ],
      "execution_count": 0,
      "outputs": [
        {
          "output_type": "stream",
          "text": [
            "100%|██████████| 7154/7154 [00:13<00:00, 515.94it/s]\n"
          ],
          "name": "stderr"
        }
      ]
    },
    {
      "cell_type": "markdown",
      "metadata": {
        "id": "U-wahOjrNga6",
        "colab_type": "text"
      },
      "source": [
        "### creating test dictionary having *key* as the **image id** and *value* as a list of its **captions**"
      ]
    },
    {
      "cell_type": "code",
      "metadata": {
        "id": "FKGoFUNHLuz6",
        "colab_type": "code",
        "outputId": "60090024-4385-4675-db30-bed921216e96",
        "colab": {
          "base_uri": "https://localhost:8080/",
          "height": 34
        }
      },
      "source": [
        "test_captions={}\n",
        "for i in tqdm(range(len(test_image_names))):\n",
        "  l=[caption for caption in(image_tokens[image_tokens[\"img_id\"]==test_image_names[\"img_id\"].iloc[i]].img_caption)]\n",
        "  test_captions[test_image_names[\"img_id\"].iloc[i]]=l"
      ],
      "execution_count": 0,
      "outputs": [
        {
          "output_type": "stream",
          "text": [
            "100%|██████████| 1000/1000 [00:01<00:00, 519.19it/s]\n"
          ],
          "name": "stderr"
        }
      ]
    },
    {
      "cell_type": "markdown",
      "metadata": {
        "id": "Qw_D5MuKNz3B",
        "colab_type": "text"
      },
      "source": [
        "### creating validation dictionary having *key* as the **image id** and *value* as a list of its **captions**"
      ]
    },
    {
      "cell_type": "code",
      "metadata": {
        "id": "z61W6zfPNzjs",
        "colab_type": "code",
        "outputId": "6328245f-608e-4701-e81b-ccfbcd3f4a9b",
        "colab": {
          "base_uri": "https://localhost:8080/",
          "height": 34
        }
      },
      "source": [
        "validation_captions={}\n",
        "for i in tqdm(range(len(val_image_names))):\n",
        "  l=[caption for caption in(image_tokens[image_tokens[\"img_id\"]==val_image_names[\"img_id\"].iloc[i]].img_caption)]\n",
        "  validation_captions[val_image_names[\"img_id\"].iloc[i]]=l"
      ],
      "execution_count": 0,
      "outputs": [
        {
          "output_type": "stream",
          "text": [
            "100%|██████████| 1000/1000 [00:01<00:00, 510.38it/s]\n"
          ],
          "name": "stderr"
        }
      ]
    },
    {
      "cell_type": "markdown",
      "metadata": {
        "id": "rP_RsLMgOFnj",
        "colab_type": "text"
      },
      "source": [
        "### Importing the **ResNet50** model and printing the **summary**"
      ]
    },
    {
      "cell_type": "code",
      "metadata": {
        "id": "E8otH1eqNv7t",
        "colab_type": "code",
        "outputId": "ac30b9b1-6597-497b-81f0-f21d515159d8",
        "colab": {
          "base_uri": "https://localhost:8080/",
          "height": 1000
        }
      },
      "source": [
        "model=ResNet50(include_top=False, weights='imagenet',pooling='avg',input_shape=(224,224,3))\n",
        "model.summary()"
      ],
      "execution_count": 0,
      "outputs": [
        {
          "output_type": "stream",
          "text": [
            "Model: \"resnet50\"\n",
            "__________________________________________________________________________________________________\n",
            "Layer (type)                    Output Shape         Param #     Connected to                     \n",
            "==================================================================================================\n",
            "input_3 (InputLayer)            (None, 224, 224, 3)  0                                            \n",
            "__________________________________________________________________________________________________\n",
            "conv1_pad (ZeroPadding2D)       (None, 230, 230, 3)  0           input_3[0][0]                    \n",
            "__________________________________________________________________________________________________\n",
            "conv1 (Conv2D)                  (None, 112, 112, 64) 9472        conv1_pad[0][0]                  \n",
            "__________________________________________________________________________________________________\n",
            "bn_conv1 (BatchNormalization)   (None, 112, 112, 64) 256         conv1[0][0]                      \n",
            "__________________________________________________________________________________________________\n",
            "activation_99 (Activation)      (None, 112, 112, 64) 0           bn_conv1[0][0]                   \n",
            "__________________________________________________________________________________________________\n",
            "pool1_pad (ZeroPadding2D)       (None, 114, 114, 64) 0           activation_99[0][0]              \n",
            "__________________________________________________________________________________________________\n",
            "max_pooling2d_3 (MaxPooling2D)  (None, 56, 56, 64)   0           pool1_pad[0][0]                  \n",
            "__________________________________________________________________________________________________\n",
            "res2a_branch2a (Conv2D)         (None, 56, 56, 64)   4160        max_pooling2d_3[0][0]            \n",
            "__________________________________________________________________________________________________\n",
            "bn2a_branch2a (BatchNormalizati (None, 56, 56, 64)   256         res2a_branch2a[0][0]             \n",
            "__________________________________________________________________________________________________\n",
            "activation_100 (Activation)     (None, 56, 56, 64)   0           bn2a_branch2a[0][0]              \n",
            "__________________________________________________________________________________________________\n",
            "res2a_branch2b (Conv2D)         (None, 56, 56, 64)   36928       activation_100[0][0]             \n",
            "__________________________________________________________________________________________________\n",
            "bn2a_branch2b (BatchNormalizati (None, 56, 56, 64)   256         res2a_branch2b[0][0]             \n",
            "__________________________________________________________________________________________________\n",
            "activation_101 (Activation)     (None, 56, 56, 64)   0           bn2a_branch2b[0][0]              \n",
            "__________________________________________________________________________________________________\n",
            "res2a_branch2c (Conv2D)         (None, 56, 56, 256)  16640       activation_101[0][0]             \n",
            "__________________________________________________________________________________________________\n",
            "res2a_branch1 (Conv2D)          (None, 56, 56, 256)  16640       max_pooling2d_3[0][0]            \n",
            "__________________________________________________________________________________________________\n",
            "bn2a_branch2c (BatchNormalizati (None, 56, 56, 256)  1024        res2a_branch2c[0][0]             \n",
            "__________________________________________________________________________________________________\n",
            "bn2a_branch1 (BatchNormalizatio (None, 56, 56, 256)  1024        res2a_branch1[0][0]              \n",
            "__________________________________________________________________________________________________\n",
            "add_33 (Add)                    (None, 56, 56, 256)  0           bn2a_branch2c[0][0]              \n",
            "                                                                 bn2a_branch1[0][0]               \n",
            "__________________________________________________________________________________________________\n",
            "activation_102 (Activation)     (None, 56, 56, 256)  0           add_33[0][0]                     \n",
            "__________________________________________________________________________________________________\n",
            "res2b_branch2a (Conv2D)         (None, 56, 56, 64)   16448       activation_102[0][0]             \n",
            "__________________________________________________________________________________________________\n",
            "bn2b_branch2a (BatchNormalizati (None, 56, 56, 64)   256         res2b_branch2a[0][0]             \n",
            "__________________________________________________________________________________________________\n",
            "activation_103 (Activation)     (None, 56, 56, 64)   0           bn2b_branch2a[0][0]              \n",
            "__________________________________________________________________________________________________\n",
            "res2b_branch2b (Conv2D)         (None, 56, 56, 64)   36928       activation_103[0][0]             \n",
            "__________________________________________________________________________________________________\n",
            "bn2b_branch2b (BatchNormalizati (None, 56, 56, 64)   256         res2b_branch2b[0][0]             \n",
            "__________________________________________________________________________________________________\n",
            "activation_104 (Activation)     (None, 56, 56, 64)   0           bn2b_branch2b[0][0]              \n",
            "__________________________________________________________________________________________________\n",
            "res2b_branch2c (Conv2D)         (None, 56, 56, 256)  16640       activation_104[0][0]             \n",
            "__________________________________________________________________________________________________\n",
            "bn2b_branch2c (BatchNormalizati (None, 56, 56, 256)  1024        res2b_branch2c[0][0]             \n",
            "__________________________________________________________________________________________________\n",
            "add_34 (Add)                    (None, 56, 56, 256)  0           bn2b_branch2c[0][0]              \n",
            "                                                                 activation_102[0][0]             \n",
            "__________________________________________________________________________________________________\n",
            "activation_105 (Activation)     (None, 56, 56, 256)  0           add_34[0][0]                     \n",
            "__________________________________________________________________________________________________\n",
            "res2c_branch2a (Conv2D)         (None, 56, 56, 64)   16448       activation_105[0][0]             \n",
            "__________________________________________________________________________________________________\n",
            "bn2c_branch2a (BatchNormalizati (None, 56, 56, 64)   256         res2c_branch2a[0][0]             \n",
            "__________________________________________________________________________________________________\n",
            "activation_106 (Activation)     (None, 56, 56, 64)   0           bn2c_branch2a[0][0]              \n",
            "__________________________________________________________________________________________________\n",
            "res2c_branch2b (Conv2D)         (None, 56, 56, 64)   36928       activation_106[0][0]             \n",
            "__________________________________________________________________________________________________\n",
            "bn2c_branch2b (BatchNormalizati (None, 56, 56, 64)   256         res2c_branch2b[0][0]             \n",
            "__________________________________________________________________________________________________\n",
            "activation_107 (Activation)     (None, 56, 56, 64)   0           bn2c_branch2b[0][0]              \n",
            "__________________________________________________________________________________________________\n",
            "res2c_branch2c (Conv2D)         (None, 56, 56, 256)  16640       activation_107[0][0]             \n",
            "__________________________________________________________________________________________________\n",
            "bn2c_branch2c (BatchNormalizati (None, 56, 56, 256)  1024        res2c_branch2c[0][0]             \n",
            "__________________________________________________________________________________________________\n",
            "add_35 (Add)                    (None, 56, 56, 256)  0           bn2c_branch2c[0][0]              \n",
            "                                                                 activation_105[0][0]             \n",
            "__________________________________________________________________________________________________\n",
            "activation_108 (Activation)     (None, 56, 56, 256)  0           add_35[0][0]                     \n",
            "__________________________________________________________________________________________________\n",
            "res3a_branch2a (Conv2D)         (None, 28, 28, 128)  32896       activation_108[0][0]             \n",
            "__________________________________________________________________________________________________\n",
            "bn3a_branch2a (BatchNormalizati (None, 28, 28, 128)  512         res3a_branch2a[0][0]             \n",
            "__________________________________________________________________________________________________\n",
            "activation_109 (Activation)     (None, 28, 28, 128)  0           bn3a_branch2a[0][0]              \n",
            "__________________________________________________________________________________________________\n",
            "res3a_branch2b (Conv2D)         (None, 28, 28, 128)  147584      activation_109[0][0]             \n",
            "__________________________________________________________________________________________________\n",
            "bn3a_branch2b (BatchNormalizati (None, 28, 28, 128)  512         res3a_branch2b[0][0]             \n",
            "__________________________________________________________________________________________________\n",
            "activation_110 (Activation)     (None, 28, 28, 128)  0           bn3a_branch2b[0][0]              \n",
            "__________________________________________________________________________________________________\n",
            "res3a_branch2c (Conv2D)         (None, 28, 28, 512)  66048       activation_110[0][0]             \n",
            "__________________________________________________________________________________________________\n",
            "res3a_branch1 (Conv2D)          (None, 28, 28, 512)  131584      activation_108[0][0]             \n",
            "__________________________________________________________________________________________________\n",
            "bn3a_branch2c (BatchNormalizati (None, 28, 28, 512)  2048        res3a_branch2c[0][0]             \n",
            "__________________________________________________________________________________________________\n",
            "bn3a_branch1 (BatchNormalizatio (None, 28, 28, 512)  2048        res3a_branch1[0][0]              \n",
            "__________________________________________________________________________________________________\n",
            "add_36 (Add)                    (None, 28, 28, 512)  0           bn3a_branch2c[0][0]              \n",
            "                                                                 bn3a_branch1[0][0]               \n",
            "__________________________________________________________________________________________________\n",
            "activation_111 (Activation)     (None, 28, 28, 512)  0           add_36[0][0]                     \n",
            "__________________________________________________________________________________________________\n",
            "res3b_branch2a (Conv2D)         (None, 28, 28, 128)  65664       activation_111[0][0]             \n",
            "__________________________________________________________________________________________________\n",
            "bn3b_branch2a (BatchNormalizati (None, 28, 28, 128)  512         res3b_branch2a[0][0]             \n",
            "__________________________________________________________________________________________________\n",
            "activation_112 (Activation)     (None, 28, 28, 128)  0           bn3b_branch2a[0][0]              \n",
            "__________________________________________________________________________________________________\n",
            "res3b_branch2b (Conv2D)         (None, 28, 28, 128)  147584      activation_112[0][0]             \n",
            "__________________________________________________________________________________________________\n",
            "bn3b_branch2b (BatchNormalizati (None, 28, 28, 128)  512         res3b_branch2b[0][0]             \n",
            "__________________________________________________________________________________________________\n",
            "activation_113 (Activation)     (None, 28, 28, 128)  0           bn3b_branch2b[0][0]              \n",
            "__________________________________________________________________________________________________\n",
            "res3b_branch2c (Conv2D)         (None, 28, 28, 512)  66048       activation_113[0][0]             \n",
            "__________________________________________________________________________________________________\n",
            "bn3b_branch2c (BatchNormalizati (None, 28, 28, 512)  2048        res3b_branch2c[0][0]             \n",
            "__________________________________________________________________________________________________\n",
            "add_37 (Add)                    (None, 28, 28, 512)  0           bn3b_branch2c[0][0]              \n",
            "                                                                 activation_111[0][0]             \n",
            "__________________________________________________________________________________________________\n",
            "activation_114 (Activation)     (None, 28, 28, 512)  0           add_37[0][0]                     \n",
            "__________________________________________________________________________________________________\n",
            "res3c_branch2a (Conv2D)         (None, 28, 28, 128)  65664       activation_114[0][0]             \n",
            "__________________________________________________________________________________________________\n",
            "bn3c_branch2a (BatchNormalizati (None, 28, 28, 128)  512         res3c_branch2a[0][0]             \n",
            "__________________________________________________________________________________________________\n",
            "activation_115 (Activation)     (None, 28, 28, 128)  0           bn3c_branch2a[0][0]              \n",
            "__________________________________________________________________________________________________\n",
            "res3c_branch2b (Conv2D)         (None, 28, 28, 128)  147584      activation_115[0][0]             \n",
            "__________________________________________________________________________________________________\n",
            "bn3c_branch2b (BatchNormalizati (None, 28, 28, 128)  512         res3c_branch2b[0][0]             \n",
            "__________________________________________________________________________________________________\n",
            "activation_116 (Activation)     (None, 28, 28, 128)  0           bn3c_branch2b[0][0]              \n",
            "__________________________________________________________________________________________________\n",
            "res3c_branch2c (Conv2D)         (None, 28, 28, 512)  66048       activation_116[0][0]             \n",
            "__________________________________________________________________________________________________\n",
            "bn3c_branch2c (BatchNormalizati (None, 28, 28, 512)  2048        res3c_branch2c[0][0]             \n",
            "__________________________________________________________________________________________________\n",
            "add_38 (Add)                    (None, 28, 28, 512)  0           bn3c_branch2c[0][0]              \n",
            "                                                                 activation_114[0][0]             \n",
            "__________________________________________________________________________________________________\n",
            "activation_117 (Activation)     (None, 28, 28, 512)  0           add_38[0][0]                     \n",
            "__________________________________________________________________________________________________\n",
            "res3d_branch2a (Conv2D)         (None, 28, 28, 128)  65664       activation_117[0][0]             \n",
            "__________________________________________________________________________________________________\n",
            "bn3d_branch2a (BatchNormalizati (None, 28, 28, 128)  512         res3d_branch2a[0][0]             \n",
            "__________________________________________________________________________________________________\n",
            "activation_118 (Activation)     (None, 28, 28, 128)  0           bn3d_branch2a[0][0]              \n",
            "__________________________________________________________________________________________________\n",
            "res3d_branch2b (Conv2D)         (None, 28, 28, 128)  147584      activation_118[0][0]             \n",
            "__________________________________________________________________________________________________\n",
            "bn3d_branch2b (BatchNormalizati (None, 28, 28, 128)  512         res3d_branch2b[0][0]             \n",
            "__________________________________________________________________________________________________\n",
            "activation_119 (Activation)     (None, 28, 28, 128)  0           bn3d_branch2b[0][0]              \n",
            "__________________________________________________________________________________________________\n",
            "res3d_branch2c (Conv2D)         (None, 28, 28, 512)  66048       activation_119[0][0]             \n",
            "__________________________________________________________________________________________________\n",
            "bn3d_branch2c (BatchNormalizati (None, 28, 28, 512)  2048        res3d_branch2c[0][0]             \n",
            "__________________________________________________________________________________________________\n",
            "add_39 (Add)                    (None, 28, 28, 512)  0           bn3d_branch2c[0][0]              \n",
            "                                                                 activation_117[0][0]             \n",
            "__________________________________________________________________________________________________\n",
            "activation_120 (Activation)     (None, 28, 28, 512)  0           add_39[0][0]                     \n",
            "__________________________________________________________________________________________________\n",
            "res4a_branch2a (Conv2D)         (None, 14, 14, 256)  131328      activation_120[0][0]             \n",
            "__________________________________________________________________________________________________\n",
            "bn4a_branch2a (BatchNormalizati (None, 14, 14, 256)  1024        res4a_branch2a[0][0]             \n",
            "__________________________________________________________________________________________________\n",
            "activation_121 (Activation)     (None, 14, 14, 256)  0           bn4a_branch2a[0][0]              \n",
            "__________________________________________________________________________________________________\n",
            "res4a_branch2b (Conv2D)         (None, 14, 14, 256)  590080      activation_121[0][0]             \n",
            "__________________________________________________________________________________________________\n",
            "bn4a_branch2b (BatchNormalizati (None, 14, 14, 256)  1024        res4a_branch2b[0][0]             \n",
            "__________________________________________________________________________________________________\n",
            "activation_122 (Activation)     (None, 14, 14, 256)  0           bn4a_branch2b[0][0]              \n",
            "__________________________________________________________________________________________________\n",
            "res4a_branch2c (Conv2D)         (None, 14, 14, 1024) 263168      activation_122[0][0]             \n",
            "__________________________________________________________________________________________________\n",
            "res4a_branch1 (Conv2D)          (None, 14, 14, 1024) 525312      activation_120[0][0]             \n",
            "__________________________________________________________________________________________________\n",
            "bn4a_branch2c (BatchNormalizati (None, 14, 14, 1024) 4096        res4a_branch2c[0][0]             \n",
            "__________________________________________________________________________________________________\n",
            "bn4a_branch1 (BatchNormalizatio (None, 14, 14, 1024) 4096        res4a_branch1[0][0]              \n",
            "__________________________________________________________________________________________________\n",
            "add_40 (Add)                    (None, 14, 14, 1024) 0           bn4a_branch2c[0][0]              \n",
            "                                                                 bn4a_branch1[0][0]               \n",
            "__________________________________________________________________________________________________\n",
            "activation_123 (Activation)     (None, 14, 14, 1024) 0           add_40[0][0]                     \n",
            "__________________________________________________________________________________________________\n",
            "res4b_branch2a (Conv2D)         (None, 14, 14, 256)  262400      activation_123[0][0]             \n",
            "__________________________________________________________________________________________________\n",
            "bn4b_branch2a (BatchNormalizati (None, 14, 14, 256)  1024        res4b_branch2a[0][0]             \n",
            "__________________________________________________________________________________________________\n",
            "activation_124 (Activation)     (None, 14, 14, 256)  0           bn4b_branch2a[0][0]              \n",
            "__________________________________________________________________________________________________\n",
            "res4b_branch2b (Conv2D)         (None, 14, 14, 256)  590080      activation_124[0][0]             \n",
            "__________________________________________________________________________________________________\n",
            "bn4b_branch2b (BatchNormalizati (None, 14, 14, 256)  1024        res4b_branch2b[0][0]             \n",
            "__________________________________________________________________________________________________\n",
            "activation_125 (Activation)     (None, 14, 14, 256)  0           bn4b_branch2b[0][0]              \n",
            "__________________________________________________________________________________________________\n",
            "res4b_branch2c (Conv2D)         (None, 14, 14, 1024) 263168      activation_125[0][0]             \n",
            "__________________________________________________________________________________________________\n",
            "bn4b_branch2c (BatchNormalizati (None, 14, 14, 1024) 4096        res4b_branch2c[0][0]             \n",
            "__________________________________________________________________________________________________\n",
            "add_41 (Add)                    (None, 14, 14, 1024) 0           bn4b_branch2c[0][0]              \n",
            "                                                                 activation_123[0][0]             \n",
            "__________________________________________________________________________________________________\n",
            "activation_126 (Activation)     (None, 14, 14, 1024) 0           add_41[0][0]                     \n",
            "__________________________________________________________________________________________________\n",
            "res4c_branch2a (Conv2D)         (None, 14, 14, 256)  262400      activation_126[0][0]             \n",
            "__________________________________________________________________________________________________\n",
            "bn4c_branch2a (BatchNormalizati (None, 14, 14, 256)  1024        res4c_branch2a[0][0]             \n",
            "__________________________________________________________________________________________________\n",
            "activation_127 (Activation)     (None, 14, 14, 256)  0           bn4c_branch2a[0][0]              \n",
            "__________________________________________________________________________________________________\n",
            "res4c_branch2b (Conv2D)         (None, 14, 14, 256)  590080      activation_127[0][0]             \n",
            "__________________________________________________________________________________________________\n",
            "bn4c_branch2b (BatchNormalizati (None, 14, 14, 256)  1024        res4c_branch2b[0][0]             \n",
            "__________________________________________________________________________________________________\n",
            "activation_128 (Activation)     (None, 14, 14, 256)  0           bn4c_branch2b[0][0]              \n",
            "__________________________________________________________________________________________________\n",
            "res4c_branch2c (Conv2D)         (None, 14, 14, 1024) 263168      activation_128[0][0]             \n",
            "__________________________________________________________________________________________________\n",
            "bn4c_branch2c (BatchNormalizati (None, 14, 14, 1024) 4096        res4c_branch2c[0][0]             \n",
            "__________________________________________________________________________________________________\n",
            "add_42 (Add)                    (None, 14, 14, 1024) 0           bn4c_branch2c[0][0]              \n",
            "                                                                 activation_126[0][0]             \n",
            "__________________________________________________________________________________________________\n",
            "activation_129 (Activation)     (None, 14, 14, 1024) 0           add_42[0][0]                     \n",
            "__________________________________________________________________________________________________\n",
            "res4d_branch2a (Conv2D)         (None, 14, 14, 256)  262400      activation_129[0][0]             \n",
            "__________________________________________________________________________________________________\n",
            "bn4d_branch2a (BatchNormalizati (None, 14, 14, 256)  1024        res4d_branch2a[0][0]             \n",
            "__________________________________________________________________________________________________\n",
            "activation_130 (Activation)     (None, 14, 14, 256)  0           bn4d_branch2a[0][0]              \n",
            "__________________________________________________________________________________________________\n",
            "res4d_branch2b (Conv2D)         (None, 14, 14, 256)  590080      activation_130[0][0]             \n",
            "__________________________________________________________________________________________________\n",
            "bn4d_branch2b (BatchNormalizati (None, 14, 14, 256)  1024        res4d_branch2b[0][0]             \n",
            "__________________________________________________________________________________________________\n",
            "activation_131 (Activation)     (None, 14, 14, 256)  0           bn4d_branch2b[0][0]              \n",
            "__________________________________________________________________________________________________\n",
            "res4d_branch2c (Conv2D)         (None, 14, 14, 1024) 263168      activation_131[0][0]             \n",
            "__________________________________________________________________________________________________\n",
            "bn4d_branch2c (BatchNormalizati (None, 14, 14, 1024) 4096        res4d_branch2c[0][0]             \n",
            "__________________________________________________________________________________________________\n",
            "add_43 (Add)                    (None, 14, 14, 1024) 0           bn4d_branch2c[0][0]              \n",
            "                                                                 activation_129[0][0]             \n",
            "__________________________________________________________________________________________________\n",
            "activation_132 (Activation)     (None, 14, 14, 1024) 0           add_43[0][0]                     \n",
            "__________________________________________________________________________________________________\n",
            "res4e_branch2a (Conv2D)         (None, 14, 14, 256)  262400      activation_132[0][0]             \n",
            "__________________________________________________________________________________________________\n",
            "bn4e_branch2a (BatchNormalizati (None, 14, 14, 256)  1024        res4e_branch2a[0][0]             \n",
            "__________________________________________________________________________________________________\n",
            "activation_133 (Activation)     (None, 14, 14, 256)  0           bn4e_branch2a[0][0]              \n",
            "__________________________________________________________________________________________________\n",
            "res4e_branch2b (Conv2D)         (None, 14, 14, 256)  590080      activation_133[0][0]             \n",
            "__________________________________________________________________________________________________\n",
            "bn4e_branch2b (BatchNormalizati (None, 14, 14, 256)  1024        res4e_branch2b[0][0]             \n",
            "__________________________________________________________________________________________________\n",
            "activation_134 (Activation)     (None, 14, 14, 256)  0           bn4e_branch2b[0][0]              \n",
            "__________________________________________________________________________________________________\n",
            "res4e_branch2c (Conv2D)         (None, 14, 14, 1024) 263168      activation_134[0][0]             \n",
            "__________________________________________________________________________________________________\n",
            "bn4e_branch2c (BatchNormalizati (None, 14, 14, 1024) 4096        res4e_branch2c[0][0]             \n",
            "__________________________________________________________________________________________________\n",
            "add_44 (Add)                    (None, 14, 14, 1024) 0           bn4e_branch2c[0][0]              \n",
            "                                                                 activation_132[0][0]             \n",
            "__________________________________________________________________________________________________\n",
            "activation_135 (Activation)     (None, 14, 14, 1024) 0           add_44[0][0]                     \n",
            "__________________________________________________________________________________________________\n",
            "res4f_branch2a (Conv2D)         (None, 14, 14, 256)  262400      activation_135[0][0]             \n",
            "__________________________________________________________________________________________________\n",
            "bn4f_branch2a (BatchNormalizati (None, 14, 14, 256)  1024        res4f_branch2a[0][0]             \n",
            "__________________________________________________________________________________________________\n",
            "activation_136 (Activation)     (None, 14, 14, 256)  0           bn4f_branch2a[0][0]              \n",
            "__________________________________________________________________________________________________\n",
            "res4f_branch2b (Conv2D)         (None, 14, 14, 256)  590080      activation_136[0][0]             \n",
            "__________________________________________________________________________________________________\n",
            "bn4f_branch2b (BatchNormalizati (None, 14, 14, 256)  1024        res4f_branch2b[0][0]             \n",
            "__________________________________________________________________________________________________\n",
            "activation_137 (Activation)     (None, 14, 14, 256)  0           bn4f_branch2b[0][0]              \n",
            "__________________________________________________________________________________________________\n",
            "res4f_branch2c (Conv2D)         (None, 14, 14, 1024) 263168      activation_137[0][0]             \n",
            "__________________________________________________________________________________________________\n",
            "bn4f_branch2c (BatchNormalizati (None, 14, 14, 1024) 4096        res4f_branch2c[0][0]             \n",
            "__________________________________________________________________________________________________\n",
            "add_45 (Add)                    (None, 14, 14, 1024) 0           bn4f_branch2c[0][0]              \n",
            "                                                                 activation_135[0][0]             \n",
            "__________________________________________________________________________________________________\n",
            "activation_138 (Activation)     (None, 14, 14, 1024) 0           add_45[0][0]                     \n",
            "__________________________________________________________________________________________________\n",
            "res5a_branch2a (Conv2D)         (None, 7, 7, 512)    524800      activation_138[0][0]             \n",
            "__________________________________________________________________________________________________\n",
            "bn5a_branch2a (BatchNormalizati (None, 7, 7, 512)    2048        res5a_branch2a[0][0]             \n",
            "__________________________________________________________________________________________________\n",
            "activation_139 (Activation)     (None, 7, 7, 512)    0           bn5a_branch2a[0][0]              \n",
            "__________________________________________________________________________________________________\n",
            "res5a_branch2b (Conv2D)         (None, 7, 7, 512)    2359808     activation_139[0][0]             \n",
            "__________________________________________________________________________________________________\n",
            "bn5a_branch2b (BatchNormalizati (None, 7, 7, 512)    2048        res5a_branch2b[0][0]             \n",
            "__________________________________________________________________________________________________\n",
            "activation_140 (Activation)     (None, 7, 7, 512)    0           bn5a_branch2b[0][0]              \n",
            "__________________________________________________________________________________________________\n",
            "res5a_branch2c (Conv2D)         (None, 7, 7, 2048)   1050624     activation_140[0][0]             \n",
            "__________________________________________________________________________________________________\n",
            "res5a_branch1 (Conv2D)          (None, 7, 7, 2048)   2099200     activation_138[0][0]             \n",
            "__________________________________________________________________________________________________\n",
            "bn5a_branch2c (BatchNormalizati (None, 7, 7, 2048)   8192        res5a_branch2c[0][0]             \n",
            "__________________________________________________________________________________________________\n",
            "bn5a_branch1 (BatchNormalizatio (None, 7, 7, 2048)   8192        res5a_branch1[0][0]              \n",
            "__________________________________________________________________________________________________\n",
            "add_46 (Add)                    (None, 7, 7, 2048)   0           bn5a_branch2c[0][0]              \n",
            "                                                                 bn5a_branch1[0][0]               \n",
            "__________________________________________________________________________________________________\n",
            "activation_141 (Activation)     (None, 7, 7, 2048)   0           add_46[0][0]                     \n",
            "__________________________________________________________________________________________________\n",
            "res5b_branch2a (Conv2D)         (None, 7, 7, 512)    1049088     activation_141[0][0]             \n",
            "__________________________________________________________________________________________________\n",
            "bn5b_branch2a (BatchNormalizati (None, 7, 7, 512)    2048        res5b_branch2a[0][0]             \n",
            "__________________________________________________________________________________________________\n",
            "activation_142 (Activation)     (None, 7, 7, 512)    0           bn5b_branch2a[0][0]              \n",
            "__________________________________________________________________________________________________\n",
            "res5b_branch2b (Conv2D)         (None, 7, 7, 512)    2359808     activation_142[0][0]             \n",
            "__________________________________________________________________________________________________\n",
            "bn5b_branch2b (BatchNormalizati (None, 7, 7, 512)    2048        res5b_branch2b[0][0]             \n",
            "__________________________________________________________________________________________________\n",
            "activation_143 (Activation)     (None, 7, 7, 512)    0           bn5b_branch2b[0][0]              \n",
            "__________________________________________________________________________________________________\n",
            "res5b_branch2c (Conv2D)         (None, 7, 7, 2048)   1050624     activation_143[0][0]             \n",
            "__________________________________________________________________________________________________\n",
            "bn5b_branch2c (BatchNormalizati (None, 7, 7, 2048)   8192        res5b_branch2c[0][0]             \n",
            "__________________________________________________________________________________________________\n",
            "add_47 (Add)                    (None, 7, 7, 2048)   0           bn5b_branch2c[0][0]              \n",
            "                                                                 activation_141[0][0]             \n",
            "__________________________________________________________________________________________________\n",
            "activation_144 (Activation)     (None, 7, 7, 2048)   0           add_47[0][0]                     \n",
            "__________________________________________________________________________________________________\n",
            "res5c_branch2a (Conv2D)         (None, 7, 7, 512)    1049088     activation_144[0][0]             \n",
            "__________________________________________________________________________________________________\n",
            "bn5c_branch2a (BatchNormalizati (None, 7, 7, 512)    2048        res5c_branch2a[0][0]             \n",
            "__________________________________________________________________________________________________\n",
            "activation_145 (Activation)     (None, 7, 7, 512)    0           bn5c_branch2a[0][0]              \n",
            "__________________________________________________________________________________________________\n",
            "res5c_branch2b (Conv2D)         (None, 7, 7, 512)    2359808     activation_145[0][0]             \n",
            "__________________________________________________________________________________________________\n",
            "bn5c_branch2b (BatchNormalizati (None, 7, 7, 512)    2048        res5c_branch2b[0][0]             \n",
            "__________________________________________________________________________________________________\n",
            "activation_146 (Activation)     (None, 7, 7, 512)    0           bn5c_branch2b[0][0]              \n",
            "__________________________________________________________________________________________________\n",
            "res5c_branch2c (Conv2D)         (None, 7, 7, 2048)   1050624     activation_146[0][0]             \n",
            "__________________________________________________________________________________________________\n",
            "bn5c_branch2c (BatchNormalizati (None, 7, 7, 2048)   8192        res5c_branch2c[0][0]             \n",
            "__________________________________________________________________________________________________\n",
            "add_48 (Add)                    (None, 7, 7, 2048)   0           bn5c_branch2c[0][0]              \n",
            "                                                                 activation_144[0][0]             \n",
            "__________________________________________________________________________________________________\n",
            "activation_147 (Activation)     (None, 7, 7, 2048)   0           add_48[0][0]                     \n",
            "__________________________________________________________________________________________________\n",
            "global_average_pooling2d_3 (Glo (None, 2048)         0           activation_147[0][0]             \n",
            "==================================================================================================\n",
            "Total params: 23,587,712\n",
            "Trainable params: 23,534,592\n",
            "Non-trainable params: 53,120\n",
            "__________________________________________________________________________________________________\n"
          ],
          "name": "stdout"
        }
      ]
    },
    {
      "cell_type": "markdown",
      "metadata": {
        "id": "Zk6jSHZPBq7w",
        "colab_type": "text"
      },
      "source": [
        "### Defining the path to save the **pickle file**"
      ]
    },
    {
      "cell_type": "code",
      "metadata": {
        "id": "ysHjrhMTOgSr",
        "colab_type": "code",
        "colab": {}
      },
      "source": [
        "pickle_path = \"/content/drive/My /ADriveutomatic Image Captioning - 350 (2016331001,2016331011)/Flickr8k/\""
      ],
      "execution_count": 0,
      "outputs": []
    },
    {
      "cell_type": "markdown",
      "metadata": {
        "id": "rlE_EVFvOVpC",
        "colab_type": "text"
      },
      "source": [
        "### Extracting image encodings(features) from **ResNet50** and forming dict **train_features** and encoding as a <b>pkl</b> file"
      ]
    },
    {
      "cell_type": "code",
      "metadata": {
        "id": "HXH4drtEOA9Z",
        "colab_type": "code",
        "outputId": "e1571438-88e3-4101-9677-1b28d20e3357",
        "colab": {
          "base_uri": "https://localhost:8080/",
          "height": 34
        }
      },
      "source": [
        "path=img_dir+\"/\"\n",
        "train_features={}\n",
        "c=0\n",
        "for image_name in tqdm(train_captions):\n",
        "  img_path=path+image_name\n",
        "  img=image.load_img(img_path,target_size=(224,224))\n",
        "  x = image.img_to_array(img)\n",
        "  x = np.expand_dims(x, axis=0)\n",
        "  x = preprocess_input(x)\n",
        "  features = model.predict(x)\n",
        "  train_features[image_name]=features.squeeze()"
      ],
      "execution_count": 0,
      "outputs": [
        {
          "output_type": "stream",
          "text": [
            " 35%|███▌      | 2527/7154 [13:54<29:37,  2.60it/s]"
          ],
          "name": "stderr"
        }
      ]
    },
    {
      "cell_type": "code",
      "metadata": {
        "id": "lQqw91wjRXRC",
        "colab_type": "code",
        "outputId": "b6555293-95d6-44ea-ee11-bb8bb910221c",
        "colab": {
          "base_uri": "https://localhost:8080/",
          "height": 34
        }
      },
      "source": [
        "print(\"After Extracting Features length of train_features : \")\n",
        "print(len(train_features))"
      ],
      "execution_count": 0,
      "outputs": [
        {
          "output_type": "stream",
          "text": [
            "25\n"
          ],
          "name": "stdout"
        }
      ]
    },
    {
      "cell_type": "code",
      "metadata": {
        "id": "F1ney8pjQ-gs",
        "colab_type": "code",
        "colab": {}
      },
      "source": [
        "with open( pickle_path+\"encoded_train_images_machine_translated.pkl\", \"wb\" ) as pickle_f:\n",
        "    pickle.dump(train_features, pickle_f )"
      ],
      "execution_count": 0,
      "outputs": []
    },
    {
      "cell_type": "code",
      "metadata": {
        "id": "3j5tXRGpRFuA",
        "colab_type": "code",
        "colab": {}
      },
      "source": [
        "train_features = {}\n",
        "pickle_in = open(pickle_path + \"encoded_train_images_machine_translated.pkl\",\"rb\")\n",
        "train_features = pickle.load(pickle_in)"
      ],
      "execution_count": 0,
      "outputs": []
    },
    {
      "cell_type": "code",
      "metadata": {
        "id": "uIeNuWcPRchh",
        "colab_type": "code",
        "outputId": "3447047f-1759-4e26-8ae4-08686df31ddc",
        "colab": {
          "base_uri": "https://localhost:8080/",
          "height": 34
        }
      },
      "source": [
        "print(\"After Extracting from pkl file length of train_features : \")\n",
        "print(len(train_features))"
      ],
      "execution_count": 0,
      "outputs": [
        {
          "output_type": "stream",
          "text": [
            "25\n"
          ],
          "name": "stdout"
        }
      ]
    },
    {
      "cell_type": "markdown",
      "metadata": {
        "id": "NecH4j7FOyKM",
        "colab_type": "text"
      },
      "source": [
        "### Extracting image encodings(features) from **ResNet50** and forming dict <b>test_features</b> and encoding as a <b>pkl</b> file"
      ]
    },
    {
      "cell_type": "code",
      "metadata": {
        "id": "L2Oa6QUuRdx7",
        "colab_type": "code",
        "colab": {}
      },
      "source": [
        "path=img_dir+\"/\"\n",
        "test_features={}\n",
        "c=0\n",
        "for image_name in tqdm(test_captions):\n",
        "  img_path=path+image_name\n",
        "  img=image.load_img(img_path,target_size=(224,224))\n",
        "  x = image.img_to_array(img)\n",
        "  x = np.expand_dims(x, axis=0)\n",
        "  x = preprocess_input(x)\n",
        "  features = model.predict(x)\n",
        "  test_features[image_name]=features.squeeze()"
      ],
      "execution_count": 0,
      "outputs": []
    },
    {
      "cell_type": "code",
      "metadata": {
        "id": "md98bThIVMis",
        "colab_type": "code",
        "colab": {}
      },
      "source": [
        "with open( pickle_path+\"encoded_test_images_machine_translated.pkl\", \"wb\" ) as pickle_f1:\n",
        "    pickle.dump(test_features, pickle_f1 )"
      ],
      "execution_count": 0,
      "outputs": []
    },
    {
      "cell_type": "code",
      "metadata": {
        "id": "ISkVAAR3VXMG",
        "colab_type": "code",
        "colab": {}
      },
      "source": [
        "test_features = {}\n",
        "pickle_in = open(pickle_path + \"encoded_test_images_machine_translated.pkl\",\"rb\")\n",
        "test_features = pickle.load(pickle_in)"
      ],
      "execution_count": 0,
      "outputs": []
    },
    {
      "cell_type": "markdown",
      "metadata": {
        "id": "8khhNCjTO7h0",
        "colab_type": "text"
      },
      "source": [
        "### Extracting image encodings(features) from **ResNet50** and forming dict <b>validation_features</b> and encoding as a <b>pkl</b> file"
      ]
    },
    {
      "cell_type": "code",
      "metadata": {
        "id": "wxfVOJpFVOye",
        "colab_type": "code",
        "colab": {}
      },
      "source": [
        "path=img_dir+\"/\"\n",
        "validation_features={}\n",
        "c=0\n",
        "for image_name in tqdm(validation_captions):\n",
        "  img_path=path+image_name\n",
        "  img=image.load_img(img_path,target_size=(224,224))\n",
        "  x = image.img_to_array(img)\n",
        "  x = np.expand_dims(x, axis=0)\n",
        "  x = preprocess_input(x)\n",
        "  features = model.predict(x)\n",
        "  validation_features[image_name]=features.squeeze()"
      ],
      "execution_count": 0,
      "outputs": []
    },
    {
      "cell_type": "code",
      "metadata": {
        "id": "x1ihQUD_VQvY",
        "colab_type": "code",
        "colab": {}
      },
      "source": [
        "with open( pickle_path+\"encoded_validation_images_machine_translated.pkl\", \"wb\" ) as pickle_f2:\n",
        "    pickle.dump(validation_features, pickle_f2 )"
      ],
      "execution_count": 0,
      "outputs": []
    },
    {
      "cell_type": "code",
      "metadata": {
        "id": "CVQ5rd5VVf4S",
        "colab_type": "code",
        "colab": {}
      },
      "source": [
        "validation_features = {}\n",
        "pickle_in = open(pickle_path + \"encoded_validation_images_machine_translated.pkl\",\"rb\")\n",
        "validation_features = pickle.load(pickle_in)"
      ],
      "execution_count": 0,
      "outputs": []
    },
    {
      "cell_type": "code",
      "metadata": {
        "id": "zmiPEshTVw_e",
        "colab_type": "code",
        "colab": {}
      },
      "source": [
        "all_captions=[]\n",
        "for img_id in tqdm(train_captions):\n",
        "  for captions in train_captions[img_id]:\n",
        "    all_captions.append(captions)\n",
        "\n",
        "all_words=\" \".join(all_captions)\n",
        "print()\n",
        "print(len(all_words))\n",
        "unique_words=list(set(all_words.strip().split(\" \")))\n",
        "print(len(unique_words))"
      ],
      "execution_count": 0,
      "outputs": []
    },
    {
      "cell_type": "markdown",
      "metadata": {
        "id": "HK8R2VgmRRSX",
        "colab_type": "text"
      },
      "source": [
        "### defining **max_length** and **vocabulary size**"
      ]
    },
    {
      "cell_type": "code",
      "metadata": {
        "id": "sYZ5mUFWRNcQ",
        "colab_type": "code",
        "colab": {}
      },
      "source": [
        "vocab_size=len(unique_words)+1\n",
        "max_length=40"
      ],
      "execution_count": 0,
      "outputs": []
    },
    {
      "cell_type": "markdown",
      "metadata": {
        "id": "rQHFk1SuSN4K",
        "colab_type": "text"
      },
      "source": [
        "### forming dictionaries containg mapping of **words to indices** and <b>indices to words</b>"
      ]
    },
    {
      "cell_type": "code",
      "metadata": {
        "id": "0KXRBwB5RNZm",
        "colab_type": "code",
        "colab": {}
      },
      "source": [
        "words_to_indices={val:index+1 for index, val in enumerate(unique_words)}\n",
        "indices_to_words = { index+1:val for index, val in enumerate(unique_words)}\n",
        "words_to_indices[\"Unk\"]=0\n",
        "indices_to_words[0]=\"Unk\""
      ],
      "execution_count": 0,
      "outputs": []
    },
    {
      "cell_type": "markdown",
      "metadata": {
        "id": "gLedWi_1SvM9",
        "colab_type": "text"
      },
      "source": [
        "### forming dictionary having <b>encoded captions</b>"
      ]
    },
    {
      "cell_type": "code",
      "metadata": {
        "id": "PDQMZodrRNWe",
        "colab_type": "code",
        "colab": {}
      },
      "source": [
        "train_encoded_captions={}\n",
        "for img_id in tqdm(train_captions):\n",
        "  train_encoded_captions[img_id]=[]\n",
        "  for i in range(2):\n",
        "    print(img_id)\n",
        "    train_encoded_captions[img_id].append([words_to_indices[s] for s in train_captions[img_id][i].split(\" \")])"
      ],
      "execution_count": 0,
      "outputs": []
    },
    {
      "cell_type": "code",
      "metadata": {
        "id": "WWQ2In5xRNUc",
        "colab_type": "code",
        "colab": {}
      },
      "source": [
        "for img_id in tqdm(train_encoded_captions):\n",
        "  train_encoded_captions[img_id]=pad_sequences(train_encoded_captions[img_id], maxlen=max_length, padding='post')"
      ],
      "execution_count": 0,
      "outputs": []
    },
    {
      "cell_type": "code",
      "metadata": {
        "id": "6Ry7P3XfRNRS",
        "colab_type": "code",
        "colab": {}
      },
      "source": [
        "def data_generator(train_encoded_captions,train_features,num_of_photos):\n",
        "  X1, X2, Y = list(), list(), list()\n",
        "  max_length=40\n",
        "  n=0\n",
        "  for img_id in tqdm(train_encoded_captions):\n",
        "    n+=1\n",
        "    for i in range(2):\n",
        "      for j in range(1,40):\n",
        "        curr_sequence=train_encoded_captions[img_id][i][0:j].tolist()\n",
        "        next_word=train_encoded_captions[img_id][i][j]\n",
        "        curr_sequence=pad_sequences([curr_sequence], maxlen=max_length, padding='post')[0]\n",
        "        one_hot_next_word=to_categorical([next_word],vocab_size)[0]\n",
        "        X1.append(train_features[img_id])\n",
        "        X2.append(curr_sequence)\n",
        "        Y.append(one_hot_next_word)\n",
        "    if(n==num_of_photos):\n",
        "      yield [[array(X1), array(X2)], array(Y)]\n",
        "      X1, X2, Y = list(), list(), list()\n",
        "      n=0"
      ],
      "execution_count": 0,
      "outputs": []
    },
    {
      "cell_type": "markdown",
      "metadata": {
        "id": "GPW5Yx67XXMB",
        "colab_type": "text"
      },
      "source": [
        "### Importing **Libraries**"
      ]
    },
    {
      "cell_type": "code",
      "metadata": {
        "id": "Beg4JK3GRNO7",
        "colab_type": "code",
        "colab": {}
      },
      "source": [
        "from keras.models import Model\n",
        "from keras.layers import Input\n",
        "from keras.layers import Dense\n",
        "from keras.layers import Dropout\n",
        "from keras.layers.recurrent import LSTM\n",
        "from keras.layers import Conv1D, MaxPooling1D, GlobalMaxPooling1D \n",
        "from keras.layers.merge import add\n",
        "from keras.layers.embeddings import Embedding"
      ],
      "execution_count": 0,
      "outputs": []
    },
    {
      "cell_type": "markdown",
      "metadata": {
        "id": "jTY1UBokXe2H",
        "colab_type": "text"
      },
      "source": [
        "### Defining <b>Model</b> for generating captions"
      ]
    },
    {
      "cell_type": "code",
      "metadata": {
        "id": "BPAM29XvRNNM",
        "colab_type": "code",
        "colab": {}
      },
      "source": [
        "input_1=Input(shape=(2048,))\n",
        "dropout_1=Dropout(0.2)(input_1)\n",
        "dense_1=Dense(256,activation='relu')(dropout_1)\n",
        "\n",
        "input_2=Input(shape=(max_length,))\n",
        "embedding_1=Embedding(vocab_size,256)(input_2)\n",
        "dropout_2=Dropout(0.2)(embedding_1)\n",
        "#lstm_1=LSTM(256)(dropout_2)\n",
        "\n",
        "#changes done to integrate 1D- Convolutional layer\n",
        "conv_1D = Conv1D(filters=256, kernel_size=3, activation='relu')(dropout_2)\n",
        "pool_1 = GlobalMaxPooling1D()(conv_1D)\n",
        "\n",
        "add_1=add([dense_1,pool_1])\n",
        "#add_2=add([add_1,pool_1])\n",
        "dense_2=Dense(256,activation='relu')(add_1)\n",
        "dense_3=Dense(vocab_size,activation='softmax')(dense_2)\n",
        "\n",
        "model=Model(inputs=[input_1,input_2],outputs=dense_3)\n",
        "model.summary()"
      ],
      "execution_count": 0,
      "outputs": []
    },
    {
      "cell_type": "code",
      "metadata": {
        "id": "qE-uKpE3RNKt",
        "colab_type": "code",
        "colab": {}
      },
      "source": [
        "model.compile(loss='categorical_crossentropy', optimizer='adam',metrics=['accuracy'])"
      ],
      "execution_count": 0,
      "outputs": []
    },
    {
      "cell_type": "markdown",
      "metadata": {
        "id": "4bmTgm_OWSho",
        "colab_type": "text"
      },
      "source": [
        "### Fitting the model with **epoch 1**"
      ]
    },
    {
      "cell_type": "code",
      "metadata": {
        "id": "7SyUzWBsRNIy",
        "colab_type": "code",
        "colab": {}
      },
      "source": [
        "epochs=1\n",
        "no_of_photos=5\n",
        "steps=len(train_encoded_captions)//no_of_photos\n",
        "for i in range(epochs):\n",
        "  generator=data_generator(train_encoded_captions,train_features,no_of_photos)\n",
        "  model.fit_generator(generator,epochs=1,steps_per_epoch=steps,verbose=1)"
      ],
      "execution_count": 0,
      "outputs": []
    },
    {
      "cell_type": "markdown",
      "metadata": {
        "id": "GPadQ-uyWbja",
        "colab_type": "text"
      },
      "source": [
        "### Fitting the model with **epoch 10**"
      ]
    },
    {
      "cell_type": "code",
      "metadata": {
        "id": "8PTsOzCmRNFF",
        "colab_type": "code",
        "colab": {}
      },
      "source": [
        "epochs=10\n",
        "no_of_photos=5\n",
        "steps=len(train_encoded_captions)//no_of_photos\n",
        "for i in range(epochs):\n",
        "  print(\"epoch number : \",i+1)\n",
        "  generator=data_generator(train_encoded_captions,train_features,no_of_photos)\n",
        "  model.fit_generator(generator,epochs=1,steps_per_epoch=steps,verbose=1)"
      ],
      "execution_count": 0,
      "outputs": []
    },
    {
      "cell_type": "markdown",
      "metadata": {
        "id": "aeJ2yIWMWf28",
        "colab_type": "text"
      },
      "source": [
        "### Defining method for **Greedy Search**"
      ]
    },
    {
      "cell_type": "code",
      "metadata": {
        "id": "vKqJ3-q5RNET",
        "colab_type": "code",
        "colab": {}
      },
      "source": [
        "def greedy_search(photo):\n",
        "  photo=photo.reshape(1,2048)\n",
        "  in_text='<start>'\n",
        "  for i in range(max_length):\n",
        "    sequence = [words_to_indices[s] for s in in_text.split(\" \") if s in words_to_indices]\n",
        "    sequence = pad_sequences([sequence], maxlen=max_length, padding='post')\n",
        "    y_pred = model.predict([photo,sequence],verbose=0)\n",
        "    y_pred = np.argmax(y_pred[0])\n",
        "    word = indices_to_words[y_pred]\n",
        "    in_text += ' ' + word\n",
        "    if word == '<end>':\n",
        "      break\n",
        "  final = in_text.split()\n",
        "  final = final[1:-1]\n",
        "  #final = \" \".join(final)\n",
        "  return final"
      ],
      "execution_count": 0,
      "outputs": []
    },
    {
      "cell_type": "markdown",
      "metadata": {
        "id": "BTnahZl9Wos3",
        "colab_type": "text"
      },
      "source": [
        "### Defining method for **Beam Search**"
      ]
    },
    {
      "cell_type": "code",
      "metadata": {
        "id": "Aadq_x1pRNBi",
        "colab_type": "code",
        "colab": {}
      },
      "source": [
        "def beam_search(photo,k):\n",
        "  photo=photo.reshape(1,2048)\n",
        "  in_text='<start>'\n",
        "  sequence = [words_to_indices[s] for s in in_text.split(\" \") if s in words_to_indices]\n",
        "  sequence = pad_sequences([sequence], maxlen=max_length, padding='post')\n",
        "  y_pred = model.predict([photo,sequence],verbose=0)\n",
        "  predicted=[]\n",
        "  y_pred=y_pred.reshape(-1)\n",
        "  for i in range(y_pred.shape[0]):\n",
        "    predicted.append((i,y_pred[i]))\n",
        "  predicted=sorted(predicted,key=lambda x:x[1])[::-1]\n",
        "  b_search=[]\n",
        "  for i in range(k):\n",
        "    word = indices_to_words[predicted[i][0]]\n",
        "    b_search.append((in_text +' ' + word,predicted[i][1]))\n",
        "    \n",
        "  for idx in range(max_length):\n",
        "    b_search_square=[]\n",
        "    for text in b_search:\n",
        "      if text[0].split(\" \")[-1]==\"<end>\":\n",
        "        break\n",
        "      sequence = [words_to_indices[s] for s in text[0].split(\" \") if s in words_to_indices]\n",
        "      sequence = pad_sequences([sequence], maxlen=max_length, padding='post')\n",
        "      y_pred = model.predict([photo,sequence],verbose=0)\n",
        "      predicted=[]\n",
        "      y_pred=y_pred.reshape(-1)\n",
        "      for i in range(y_pred.shape[0]):\n",
        "        predicted.append((i,y_pred[i]))\n",
        "      predicted=sorted(predicted,key=lambda x:x[1])[::-1]\n",
        "      for i in range(k):\n",
        "        word = indices_to_words[predicted[i][0]]\n",
        "        b_search_square.append((text[0] +' ' + word,predicted[i][1]*text[1]))\n",
        "    if(len(b_search_square)>0):\n",
        "      b_search=(sorted(b_search_square,key=lambda x:x[1])[::-1])[:5]\n",
        "  final=b_search[0][0].split()\n",
        "  final = final[1:-1]\n",
        "  #final=\" \".join(final)\n",
        "  return final"
      ],
      "execution_count": 0,
      "outputs": []
    },
    {
      "cell_type": "markdown",
      "metadata": {
        "id": "WAQVP3-KWthZ",
        "colab_type": "text"
      },
      "source": [
        "### Defining method for calculating scores by **pycocoevalcap**"
      ]
    },
    {
      "cell_type": "code",
      "metadata": {
        "id": "kixgbwo3RM-h",
        "colab_type": "code",
        "colab": {}
      },
      "source": [
        "def calc_scores(ref, hypo):\n",
        "    print(type(ref))\n",
        "    scorers = [\n",
        "        (Bleu(4), [\"Bleu_1\", \"Bleu_2\", \"Bleu_3\", \"Bleu_4\"]),\n",
        "        (Meteor(),\"METEOR\"),\n",
        "        (Rouge(), \"ROUGE_L\"),\n",
        "        (Cider(), \"CIDEr\"),\n",
        "        (Spice(), \"SPICE\")\n",
        "    ]\n",
        "    final_scores = {}\n",
        "    for scorer, method in scorers:\n",
        "        score, scores = scorer.compute_score(ref, hypo)\n",
        "        if type(score) == list:\n",
        "            for m, s in zip(method, score):\n",
        "                final_scores[m] = s\n",
        "        else:\n",
        "            final_scores[method] = score\n",
        "    return final_scores "
      ],
      "execution_count": 0,
      "outputs": []
    },
    {
      "cell_type": "code",
      "metadata": {
        "id": "FO-xD6qkRM77",
        "colab_type": "code",
        "colab": {}
      },
      "source": [
        "i=0\n",
        "for img_id in test_features:\n",
        "  i+=1\n",
        "  img=cv2.imread(img_dir+ \"/\" + img_id)\n",
        "  plt.imshow(cv2.cvtColor(img,cv2.COLOR_BGR2RGB))\n",
        "  photo=test_features[img_id]\n",
        "  plt.show()\n",
        "  reference=[]\n",
        "  for caps in test_captions[img_id]:\n",
        "    list_caps=caps.split(\" \")\n",
        "    list_caps=list_caps[1:-1]\n",
        "    reference.append(list_caps)\n",
        "  candidate_greedy=greedy_search(photo)\n",
        "  candidate3=beam_search(photo,3)\n",
        "  candidate5=beam_search(photo,5)\n",
        "  candidate7=beam_search(photo,7)\n",
        "  weights = (0.5, 0.5, 0, 0)\n",
        "# sentence_bleu([reference1, reference2, reference3], hypothesis1, weights)\n",
        "# , smoothing_function=SmoothingFunction().method1\n",
        "  score_greedy = sentence_bleu(reference, candidate_greedy, weights)\n",
        "  score3 = sentence_bleu(reference, candidate3, weights)\n",
        "  score5 = sentence_bleu(reference, candidate5, weights)\n",
        "  score7 = sentence_bleu(reference, candidate7, weights)\n",
        "  print(\"Referance Captions: \")\n",
        "  for cap in reference:\n",
        "    print(\" \".join(cap))\n",
        "  print(\"Predicted Caption for Greedy Search : \")\n",
        "  print(\" \".join(candidate_greedy))\n",
        "  print(\"bleu score: \",score_greedy)\n",
        "  print(\"Predicted Caption for Beam Search, k=3: \")\n",
        "  print(\" \".join(candidate3))\n",
        "  print(\"bleu score: \",score3)\n",
        "  print(\"Predicted Caption for Beam Search, k=5: \")\n",
        "  print(\" \".join(candidate5))\n",
        "  print(\"bleu score: \",score5)\n",
        "  print(\"Predicted Caption for Beam Search, k=7: \")\n",
        "  print(\" \".join(candidate7))\n",
        "  print(\"bleu score: \",score7)\n",
        "  if(i==5):\n",
        "    break"
      ],
      "execution_count": 0,
      "outputs": []
    },
    {
      "cell_type": "code",
      "metadata": {
        "id": "RpKXhonbRM5N",
        "colab_type": "code",
        "colab": {}
      },
      "source": [
        "i=0\n",
        "tot_score_greedy=0\n",
        "tot_score3=0\n",
        "tot_score5=0\n",
        "tot_score7=0\n",
        "for img_id in tqdm(test_features):\n",
        "  i+=1\n",
        "  photo=test_features[img_id]\n",
        "  reference=[]\n",
        "  for caps in test_captions[img_id]:\n",
        "    list_caps=caps.split(\" \")\n",
        "    list_caps=list_caps[1:-1]\n",
        "    reference.append(list_caps)\n",
        "  candidate_greedy=greedy_search(photo)\n",
        "  candidate3=beam_search(photo,3)\n",
        "  candidate5=beam_search(photo,5)\n",
        "  candidate7=beam_search(photo,7)\n",
        "  score_greedy = sentence_bleu(reference, candidate_greedy,smoothing_function=SmoothingFunction().method1)\n",
        "  score3 = sentence_bleu(reference, candidate3,smoothing_function=SmoothingFunction().method1)\n",
        "  score5 = sentence_bleu(reference, candidate5,smoothing_function=SmoothingFunction().method1)\n",
        "  score7 = sentence_bleu(reference, candidate7,smoothing_function=SmoothingFunction().method1)\n",
        "  tot_score_greedy+=score_greedy\n",
        "  tot_score3+=score3\n",
        "  tot_score5+=score5\n",
        "  tot_score7+=score7\n",
        "avg_score_greedy=tot_score_greedy/i\n",
        "avg_score_k3=tot_score3/i\n",
        "avg_score_k5=tot_score5/i\n",
        "avg_score_k7=tot_score7/i\n",
        "avg_score = (tot_score3+tot_score5+tot_score7+tot_score_greedy)/(i*4)\n",
        "print()\n",
        "print(\"Average Bleu score on Greedy search : \",avg_score_greedy)\n",
        "print(\"Average Bleu score on Beam search with k=3 : \",avg_score_k3)\n",
        "print(\"Average Bleu score on Beam search with k=5 : \",avg_score_k5)\n",
        "print(\"Average Bleu score on Beam search with k=7 : \",avg_score_k7)\n",
        "print(\"Average score of all average scores of greedy search and beam search k=3,5,7 is \"+str(avg_score))"
      ],
      "execution_count": 0,
      "outputs": []
    },
    {
      "cell_type": "code",
      "metadata": {
        "id": "1XXnxIV3RM3k",
        "colab_type": "code",
        "colab": {}
      },
      "source": [
        "i=0\n",
        "for img_id in test_features:\n",
        "  i+=1\n",
        "  if(i<5):\n",
        "    continue\n",
        "  img=cv2.imread(img_dir+ \"/\" + img_id)\n",
        "  plt.imshow(cv2.cvtColor(img,cv2.COLOR_BGR2RGB))\n",
        "  photo=test_features[img_id]\n",
        "  plt.show()\n",
        "  reference=[]\n",
        "  for caps in test_captions[img_id]:\n",
        "    list_caps=caps.split(\" \")\n",
        "    list_caps=list_caps[1:-1]\n",
        "    reference.append(list_caps)\n",
        "\n",
        "  #generating reference captions  \n",
        "  ref_caps=[]\n",
        "  print(\"Reference Captions: \")\n",
        "  for cap in reference:\n",
        "    ref_caps.append(\" \".join(cap))\n",
        "\n",
        "  print(ref_caps)\n",
        "\n",
        "  candidate_greedy = greedy_search(photo)\n",
        "  candidate3 = beam_search(photo,3)\n",
        "  candidate5 = beam_search(photo,5)\n",
        "  candidate7 = beam_search(photo,7)\n",
        "\n",
        "  #generating hypothesis captions\n",
        "  hypo_greedy = \" \".join(candidate_greedy)\n",
        "  hypo_3 = \" \".join(candidate3)\n",
        "  hypo_5 = \" \".join(candidate5)\n",
        "  hypo_7 = \" \".join(candidate7)\n",
        "\n",
        "  print(\"hypothesis in greedy: \")\n",
        "  print(hypo_greedy)\n",
        "  print([hypo_greedy])\n",
        "  print(\"hypothesis in beam with k=3\")\n",
        "  print(hypo_3)\n",
        "  scores_greedy = n.compute_individual_metrics(ref_caps, hypo_greedy)\n",
        "  scores3 = n.compute_individual_metrics(ref_caps, hypo_3)\n",
        "  scores5 = n.compute_individual_metrics(ref_caps, hypo_5)\n",
        "  scores7 = n.compute_individual_metrics(ref_caps, hypo_7)\n",
        "\n",
        "  print(\"Results of pycocoevalcap : \")\n",
        "  ref={}\n",
        "  hyp={}\n",
        "  ref[0] = ref_caps\n",
        "  hyp[0] = [hypo_greedy]\n",
        "  pycoco_score={}\n",
        "  pycoco_score = calc_scores(ref,hyp)\n",
        "  # print(type(calc_scores(ref, hyp)))\n",
        "  print(pycoco_score)\n",
        "  for key in pycoco_score:\n",
        "    print(key,\" : \",pycoco_score[key])\n",
        "\n",
        "\n",
        "\n",
        "  print(\"Referance Captions: \")\n",
        "  print(ref_caps[0])\n",
        "  print(ref_caps[1])\n",
        "  print(\"Predicted Caption for Greedy Search : \")\n",
        "  print(hypo_greedy)\n",
        "  print(\"Bleu_1 score : \",scores_greedy['Bleu_1'])\n",
        "  print(\"Bleu_2 score : \",scores_greedy['Bleu_2'])\n",
        "  print(\"Bleu_3 score : \",scores_greedy['Bleu_3'])\n",
        "  print(\"Bleu_4 score : \",scores_greedy['Bleu_4'])\n",
        "  print(\"METEOR score : \",scores_greedy['METEOR'])\n",
        "  print(\"ROUGE_L score : \",scores_greedy['ROUGE_L'])\n",
        "  print(\"CIDEr score : \",scores_greedy['CIDEr'])\n",
        "  print(\"SkipThoughtCS score : \",scores_greedy['SkipThoughtCS'])\n",
        "  print(\"EmbeddingAverageCosineSimilarity score : \",scores_greedy['EmbeddingAverageCosineSimilarity'])\n",
        "  print(\"VectorExtremaCosineSimilarity score : \",scores_greedy['VectorExtremaCosineSimilarity'])\n",
        "  print(\"GreedyMatchingScore score : \",scores_greedy['GreedyMatchingScore'])\n",
        "  if(i==5):\n",
        "    break"
      ],
      "execution_count": 0,
      "outputs": []
    },
    {
      "cell_type": "code",
      "metadata": {
        "id": "DH5iBwkcRMzi",
        "colab_type": "code",
        "colab": {}
      },
      "source": [
        "scores = {}\n",
        "final_scores = {}\n",
        "metrics = ['Bleu_1','Bleu_2','Bleu_3','Bleu_4','METEOR','ROUGE_L','CIDEr','SkipThoughtCS','EmbeddingAverageCosineSimilarity','VectorExtremaCosineSimilarity','GreedyMatchingScore']\n",
        "search_type = ['greedy','beam_k3','beam_k5','beam_k7']\n",
        "i=0\n",
        "\n",
        "for img_id in tqdm(test_features):\n",
        "  i+=1\n",
        "  photo=test_features[img_id]\n",
        "  reference=[]\n",
        "  for caps in test_captions[img_id]:\n",
        "    list_caps=caps.split(\" \")\n",
        "    list_caps=list_caps[1:-1]\n",
        "    reference.append(list_caps)\n",
        "\n",
        "  #generating reference captions  \n",
        "  ref_caps=[]\n",
        "  print(\"Referance Captions: \")\n",
        "  for cap in reference:\n",
        "    ref_caps.append(\" \".join(cap))\n",
        "\n",
        "\n",
        "  #generating hypothesis captions\n",
        "  hypo_greedy = \" \".join(candidate_greedy)\n",
        "  hypo_3 = \" \".join(candidate3)\n",
        "  hypo_5 = \" \".join(candidate5)\n",
        "  hypo_7 = \" \".join(candidate7)\n",
        "\n",
        "\n",
        "  candidate_greedy=greedy_search(photo)\n",
        "  candidate3=beam_search(photo,3)\n",
        "  candidate5=beam_search(photo,5)\n",
        "  candidate7=beam_search(photo,7)\n",
        "  \n",
        "  \n",
        "  \n",
        "  scores['greedy'] = n.compute_individual_metrics(ref_caps, hypo_greedy)\n",
        "  scores['beam_k3'] = n.compute_individual_metrics(ref_caps, hypo_3)\n",
        "  scores['beam_k5'] = n.compute_individual_metrics(ref_caps, hypo_5)\n",
        "  scores['beam_k7'] = n.compute_individual_metrics(ref_caps, hypo_7)\n",
        "\n",
        "\n",
        "\n",
        "  \n",
        "\n",
        "  for s_type in search_type:\n",
        "    final_scores[s_type] = {}\n",
        "\n",
        "  for s_type in search_type:\n",
        "    for metric in metrics:\n",
        "      final_scores[s_type][metric] = 0.0\n",
        "\n",
        "\n",
        "  for s_type in search_type:\n",
        "    for metric in metrics:\n",
        "      final_scores[s_type][metric] += scores[s_type][metric]\n",
        "  \n",
        "if(i==5):\n",
        "    break\n",
        "\n",
        "\n",
        "for s_type in search_type:\n",
        "  print()\n",
        "  print()\n",
        "  print(s_type, \" : \")\n",
        "  for metric in metrics:\n",
        "    print(metric,\"  :  \",final_scores[s_type][metric]/i)"
      ],
      "execution_count": 0,
      "outputs": []
    }
  ]
}
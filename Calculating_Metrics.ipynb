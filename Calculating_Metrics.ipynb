{
  "nbformat": 4,
  "nbformat_minor": 0,
  "metadata": {
    "colab": {
      "name": "Calculating Metrics.ipynb",
      "provenance": [],
      "include_colab_link": true
    },
    "kernelspec": {
      "name": "python3",
      "display_name": "Python 3"
    },
    "widgets": {
      "application/vnd.jupyter.widget-state+json": {
        "3e19d5cfadd646fea41b39d8fb0fe299": {
          "model_module": "@jupyter-widgets/controls",
          "model_name": "HBoxModel",
          "state": {
            "_view_name": "HBoxView",
            "_dom_classes": [],
            "_model_name": "HBoxModel",
            "_view_module": "@jupyter-widgets/controls",
            "_model_module_version": "1.5.0",
            "_view_count": null,
            "_view_module_version": "1.5.0",
            "box_style": "",
            "layout": "IPY_MODEL_22f0fc07ce24499c811c45d3822bac65",
            "_model_module": "@jupyter-widgets/controls",
            "children": [
              "IPY_MODEL_d1e1972d11b147f78a3cfd131ba3a84e",
              "IPY_MODEL_660ca0e5e0634d858a96a31787e46b2a"
            ]
          }
        },
        "22f0fc07ce24499c811c45d3822bac65": {
          "model_module": "@jupyter-widgets/base",
          "model_name": "LayoutModel",
          "state": {
            "_view_name": "LayoutView",
            "grid_template_rows": null,
            "right": null,
            "justify_content": null,
            "_view_module": "@jupyter-widgets/base",
            "overflow": null,
            "_model_module_version": "1.2.0",
            "_view_count": null,
            "flex_flow": null,
            "width": null,
            "min_width": null,
            "border": null,
            "align_items": null,
            "bottom": null,
            "_model_module": "@jupyter-widgets/base",
            "top": null,
            "grid_column": null,
            "overflow_y": null,
            "overflow_x": null,
            "grid_auto_flow": null,
            "grid_area": null,
            "grid_template_columns": null,
            "flex": null,
            "_model_name": "LayoutModel",
            "justify_items": null,
            "grid_row": null,
            "max_height": null,
            "align_content": null,
            "visibility": null,
            "align_self": null,
            "height": null,
            "min_height": null,
            "padding": null,
            "grid_auto_rows": null,
            "grid_gap": null,
            "max_width": null,
            "order": null,
            "_view_module_version": "1.2.0",
            "grid_template_areas": null,
            "object_position": null,
            "object_fit": null,
            "grid_auto_columns": null,
            "margin": null,
            "display": null,
            "left": null
          }
        },
        "d1e1972d11b147f78a3cfd131ba3a84e": {
          "model_module": "@jupyter-widgets/controls",
          "model_name": "FloatProgressModel",
          "state": {
            "_view_name": "ProgressView",
            "style": "IPY_MODEL_6394f75803064ae782d6325116e6c354",
            "_dom_classes": [],
            "description": "100%",
            "_model_name": "FloatProgressModel",
            "bar_style": "success",
            "max": 14,
            "_view_module": "@jupyter-widgets/controls",
            "_model_module_version": "1.5.0",
            "value": 14,
            "_view_count": null,
            "_view_module_version": "1.5.0",
            "orientation": "horizontal",
            "min": 0,
            "description_tooltip": null,
            "_model_module": "@jupyter-widgets/controls",
            "layout": "IPY_MODEL_9ffbfb7894424bdbbd42971b8e51ca1d"
          }
        },
        "660ca0e5e0634d858a96a31787e46b2a": {
          "model_module": "@jupyter-widgets/controls",
          "model_name": "HTMLModel",
          "state": {
            "_view_name": "HTMLView",
            "style": "IPY_MODEL_969bad7d79524e889fdb5ce12b81ba7a",
            "_dom_classes": [],
            "description": "",
            "_model_name": "HTMLModel",
            "placeholder": "​",
            "_view_module": "@jupyter-widgets/controls",
            "_model_module_version": "1.5.0",
            "value": " 14/14 [00:00&lt;00:00, 413.71it/s]",
            "_view_count": null,
            "_view_module_version": "1.5.0",
            "description_tooltip": null,
            "_model_module": "@jupyter-widgets/controls",
            "layout": "IPY_MODEL_d89ccb56dd1c4eca909b63df64bd3107"
          }
        },
        "6394f75803064ae782d6325116e6c354": {
          "model_module": "@jupyter-widgets/controls",
          "model_name": "ProgressStyleModel",
          "state": {
            "_view_name": "StyleView",
            "_model_name": "ProgressStyleModel",
            "description_width": "initial",
            "_view_module": "@jupyter-widgets/base",
            "_model_module_version": "1.5.0",
            "_view_count": null,
            "_view_module_version": "1.2.0",
            "bar_color": null,
            "_model_module": "@jupyter-widgets/controls"
          }
        },
        "9ffbfb7894424bdbbd42971b8e51ca1d": {
          "model_module": "@jupyter-widgets/base",
          "model_name": "LayoutModel",
          "state": {
            "_view_name": "LayoutView",
            "grid_template_rows": null,
            "right": null,
            "justify_content": null,
            "_view_module": "@jupyter-widgets/base",
            "overflow": null,
            "_model_module_version": "1.2.0",
            "_view_count": null,
            "flex_flow": null,
            "width": null,
            "min_width": null,
            "border": null,
            "align_items": null,
            "bottom": null,
            "_model_module": "@jupyter-widgets/base",
            "top": null,
            "grid_column": null,
            "overflow_y": null,
            "overflow_x": null,
            "grid_auto_flow": null,
            "grid_area": null,
            "grid_template_columns": null,
            "flex": null,
            "_model_name": "LayoutModel",
            "justify_items": null,
            "grid_row": null,
            "max_height": null,
            "align_content": null,
            "visibility": null,
            "align_self": null,
            "height": null,
            "min_height": null,
            "padding": null,
            "grid_auto_rows": null,
            "grid_gap": null,
            "max_width": null,
            "order": null,
            "_view_module_version": "1.2.0",
            "grid_template_areas": null,
            "object_position": null,
            "object_fit": null,
            "grid_auto_columns": null,
            "margin": null,
            "display": null,
            "left": null
          }
        },
        "969bad7d79524e889fdb5ce12b81ba7a": {
          "model_module": "@jupyter-widgets/controls",
          "model_name": "DescriptionStyleModel",
          "state": {
            "_view_name": "StyleView",
            "_model_name": "DescriptionStyleModel",
            "description_width": "",
            "_view_module": "@jupyter-widgets/base",
            "_model_module_version": "1.5.0",
            "_view_count": null,
            "_view_module_version": "1.2.0",
            "_model_module": "@jupyter-widgets/controls"
          }
        },
        "d89ccb56dd1c4eca909b63df64bd3107": {
          "model_module": "@jupyter-widgets/base",
          "model_name": "LayoutModel",
          "state": {
            "_view_name": "LayoutView",
            "grid_template_rows": null,
            "right": null,
            "justify_content": null,
            "_view_module": "@jupyter-widgets/base",
            "overflow": null,
            "_model_module_version": "1.2.0",
            "_view_count": null,
            "flex_flow": null,
            "width": null,
            "min_width": null,
            "border": null,
            "align_items": null,
            "bottom": null,
            "_model_module": "@jupyter-widgets/base",
            "top": null,
            "grid_column": null,
            "overflow_y": null,
            "overflow_x": null,
            "grid_auto_flow": null,
            "grid_area": null,
            "grid_template_columns": null,
            "flex": null,
            "_model_name": "LayoutModel",
            "justify_items": null,
            "grid_row": null,
            "max_height": null,
            "align_content": null,
            "visibility": null,
            "align_self": null,
            "height": null,
            "min_height": null,
            "padding": null,
            "grid_auto_rows": null,
            "grid_gap": null,
            "max_width": null,
            "order": null,
            "_view_module_version": "1.2.0",
            "grid_template_areas": null,
            "object_position": null,
            "object_fit": null,
            "grid_auto_columns": null,
            "margin": null,
            "display": null,
            "left": null
          }
        }
      }
    }
  },
  "cells": [
    {
      "cell_type": "markdown",
      "metadata": {
        "id": "view-in-github",
        "colab_type": "text"
      },
      "source": [
        "<a href=\"https://colab.research.google.com/github/Shifath472533/All-Image-captioning-models-and-links-for-data-sets-in-Bangla/blob/master/Calculating_Metrics.ipynb\" target=\"_parent\"><img src=\"https://colab.research.google.com/assets/colab-badge.svg\" alt=\"Open In Colab\"/></a>"
      ]
    },
    {
      "cell_type": "markdown",
      "metadata": {
        "id": "ZWFcGWF7BVAr",
        "colab_type": "text"
      },
      "source": [
        "# **Calculation of Metrics for Image Captioning**"
      ]
    },
    {
      "cell_type": "markdown",
      "metadata": {
        "id": "kQ5JdPbUiO1s",
        "colab_type": "text"
      },
      "source": [
        "## Using nlgeval Library"
      ]
    },
    {
      "cell_type": "code",
      "metadata": {
        "id": "xW0ic3DViDfd",
        "colab_type": "code",
        "colab": {}
      },
      "source": [
        "!pip install git+https://github.com/Maluuba/nlg-eval.git@master"
      ],
      "execution_count": 0,
      "outputs": []
    },
    {
      "cell_type": "code",
      "metadata": {
        "id": "w0GjJ3P_i0Nu",
        "colab_type": "code",
        "colab": {}
      },
      "source": [
        "!nlg-eval --setup"
      ],
      "execution_count": 0,
      "outputs": []
    },
    {
      "cell_type": "markdown",
      "metadata": {
        "id": "2bo-5slNjEoy",
        "colab_type": "text"
      },
      "source": [
        "Example Documentation Code"
      ]
    },
    {
      "cell_type": "code",
      "metadata": {
        "id": "nb5ycPDBi535",
        "colab_type": "code",
        "colab": {}
      },
      "source": [
        "# -*- coding: utf-8 -*-\n",
        "from __future__ import unicode_literals\n",
        "\n",
        "import os\n",
        "import unittest\n",
        "\n",
        "import nlgeval\n",
        "from nlgeval import NLGEval\n",
        "\n",
        "\n",
        "class TestNlgEval(unittest.TestCase):\n",
        "    def test_compute_metrics_oo(self):\n",
        "        # Create the object in the test so that it can be garbage collected once the test is done.\n",
        "        n = NLGEval()\n",
        "\n",
        "        # Individual Metrics\n",
        "        scores = n.compute_individual_metrics(ref=[\"this is a test\",\n",
        "                                                   \"this is also a test\"],\n",
        "                                              hyp=\"this is a good test\")\n",
        "        self.assertAlmostEqual(0.799999, scores['Bleu_1'], places=5)\n",
        "        self.assertAlmostEqual(0.632455, scores['Bleu_2'], places=5)\n",
        "        self.assertAlmostEqual(0.5108729, scores['Bleu_3'], places=5)\n",
        "        self.assertAlmostEqual(0.0000903602, scores['Bleu_4'], places=5)\n",
        "        self.assertAlmostEqual(0.44434387, scores['METEOR'], places=5)\n",
        "        self.assertAlmostEqual(0.9070631, scores['ROUGE_L'], places=5)\n",
        "        self.assertAlmostEqual(0.0, scores['CIDEr'], places=5)\n",
        "        self.assertAlmostEqual(0.8375251, scores['SkipThoughtCS'], places=5)\n",
        "        self.assertAlmostEqual(0.980075, scores['EmbeddingAverageCosineSimilarity'], places=5)\n",
        "        self.assertEqual(scores['EmbeddingAverageCosineSimilarity'], scores['EmbeddingAverageCosineSimilairty'])\n",
        "        self.assertAlmostEqual(0.94509, scores['VectorExtremaCosineSimilarity'], places=5)\n",
        "        self.assertAlmostEqual(0.960771, scores['GreedyMatchingScore'], places=5)\n",
        "        self.assertEqual(12, len(scores))\n",
        "\n",
        "        scores = n.compute_metrics(ref_list=[\n",
        "            [\n",
        "                \"this is one reference sentence for sentence1\",\n",
        "                \"this is a reference sentence for sentence2 which was generated by your model\"\n",
        "            ],\n",
        "            [\n",
        "                \"this is one more reference sentence for sentence1\",\n",
        "                \"this is the second reference sentence for sentence2\"\n",
        "            ],\n",
        "        ],\n",
        "            hyp_list=[\n",
        "                \"this is the model generated sentence1 which seems good enough\",\n",
        "                \"this is sentence2 which has been generated by your model\"\n",
        "            ]\n",
        "        )\n",
        "        self.assertAlmostEqual(0.55, scores['Bleu_1'], places=5)\n",
        "        self.assertAlmostEqual(0.428174, scores['Bleu_2'], places=5)\n",
        "        self.assertAlmostEqual(0.284043, scores['Bleu_3'], places=5)\n",
        "        self.assertAlmostEqual(0.201143, scores['Bleu_4'], places=5)\n",
        "        self.assertAlmostEqual(0.295797, scores['METEOR'], places=5)\n",
        "        self.assertAlmostEqual(0.522104, scores['ROUGE_L'], places=5)\n",
        "        self.assertAlmostEqual(1.242192, scores['CIDEr'], places=5)\n",
        "        self.assertAlmostEqual(0.626149, scores['SkipThoughtCS'], places=5)\n",
        "        self.assertAlmostEqual(0.88469, scores['EmbeddingAverageCosineSimilarity'], places=5)\n",
        "        self.assertAlmostEqual(0.568696, scores['VectorExtremaCosineSimilarity'], places=5)\n",
        "        self.assertAlmostEqual(0.784205, scores['GreedyMatchingScore'], places=5)\n",
        "        self.assertEqual(12, len(scores))\n",
        "\n",
        "        # Non-ASCII tests.\n",
        "        scores = n.compute_individual_metrics(ref=[\"Test en français.\",\n",
        "                                                   \"Le test en français.\"],\n",
        "                                              hyp=\"Le test est en français.\")\n",
        "        self.assertAlmostEqual(0.799999, scores['Bleu_1'], places=5)\n",
        "        self.assertAlmostEqual(0.632455, scores['Bleu_2'], places=5)\n",
        "        self.assertAlmostEqual(0.0000051, scores['Bleu_3'], places=5)\n",
        "        self.assertAlmostEqual(0, scores['Bleu_4'], places=5)\n",
        "        self.assertAlmostEqual(0.48372379050300296, scores['METEOR'], places=5)\n",
        "        self.assertAlmostEqual(0.9070631, scores['ROUGE_L'], places=5)\n",
        "        self.assertAlmostEqual(0.0, scores['CIDEr'], places=5)\n",
        "        self.assertAlmostEqual(0.9192341566085815, scores['SkipThoughtCS'], places=5)\n",
        "        self.assertAlmostEqual(0.906562, scores['EmbeddingAverageCosineSimilarity'], places=5)\n",
        "        self.assertEqual(scores['EmbeddingAverageCosineSimilarity'], scores['EmbeddingAverageCosineSimilairty'])\n",
        "        self.assertAlmostEqual(0.815158, scores['VectorExtremaCosineSimilarity'], places=5)\n",
        "        self.assertAlmostEqual(0.940959, scores['GreedyMatchingScore'], places=5)\n",
        "        self.assertEqual(12, len(scores))\n",
        "\n",
        "        scores = n.compute_individual_metrics(ref=[\"テスト\"],\n",
        "                                              hyp=\"テスト\")\n",
        "        self.assertAlmostEqual(0.99999999, scores['Bleu_1'], places=5)\n",
        "        self.assertAlmostEqual(1.0, scores['METEOR'], places=3)\n",
        "        self.assertAlmostEqual(1.0, scores['ROUGE_L'], places=3)\n",
        "        self.assertAlmostEqual(0.0, scores['CIDEr'], places=3)\n",
        "        self.assertAlmostEqual(1.0, scores['SkipThoughtCS'], places=3)\n",
        "        self.assertAlmostEqual(1.0, scores['GreedyMatchingScore'], places=3)\n",
        "        self.assertEqual(12, len(scores))\n",
        "\n",
        "    def test_compute_metrics_omit(self):\n",
        "        n = NLGEval(metrics_to_omit=['Bleu_3', 'METEOR', 'EmbeddingAverageCosineSimilarity'])\n",
        "\n",
        "        # Individual Metrics\n",
        "        scores = n.compute_individual_metrics(ref=[\"this is a test\",\n",
        "                                                   \"this is also a test\"],\n",
        "                                              hyp=\"this is a good test\")\n",
        "        self.assertAlmostEqual(0.799999, scores['Bleu_1'], places=5)\n",
        "        self.assertAlmostEqual(0.632455, scores['Bleu_2'], places=5)\n",
        "        self.assertAlmostEqual(0.9070631, scores['ROUGE_L'], places=5)\n",
        "        self.assertAlmostEqual(0.0, scores['CIDEr'], places=5)\n",
        "        self.assertAlmostEqual(0.8375251, scores['SkipThoughtCS'], places=5)\n",
        "        self.assertAlmostEqual(0.94509, scores['VectorExtremaCosineSimilarity'], places=5)\n",
        "        self.assertAlmostEqual(0.960771, scores['GreedyMatchingScore'], places=5)\n",
        "        self.assertEqual(7, len(scores))\n",
        "\n",
        "    def test_compute_metrics(self):\n",
        "        # The example from the README.\n",
        "        root_dir = os.path.join(os.path.dirname(__file__), '..', '..')\n",
        "        hypothesis = os.path.join(root_dir, 'examples/hyp.txt')\n",
        "        references = os.path.join(root_dir, 'examples/ref1.txt'), os.path.join(root_dir, 'examples/ref2.txt')\n",
        "        scores = nlgeval.compute_metrics(hypothesis, references)\n",
        "        self.assertAlmostEqual(0.55, scores['Bleu_1'], places=5)\n",
        "        self.assertAlmostEqual(0.428174, scores['Bleu_2'], places=5)\n",
        "        self.assertAlmostEqual(0.284043, scores['Bleu_3'], places=5)\n",
        "        self.assertAlmostEqual(0.201143, scores['Bleu_4'], places=5)\n",
        "        self.assertAlmostEqual(0.295797, scores['METEOR'], places=5)\n",
        "        self.assertAlmostEqual(0.522104, scores['ROUGE_L'], places=5)\n",
        "        self.assertAlmostEqual(1.242192, scores['CIDEr'], places=5)\n",
        "        self.assertAlmostEqual(0.626149, scores['SkipThoughtCS'], places=5)\n",
        "        self.assertAlmostEqual(0.88469, scores['EmbeddingAverageCosineSimilarity'], places=5)\n",
        "        self.assertEqual(scores['EmbeddingAverageCosineSimilarity'], scores['EmbeddingAverageCosineSimilairty'])\n",
        "        self.assertAlmostEqual(0.568696, scores['VectorExtremaCosineSimilarity'], places=5)\n",
        "        self.assertAlmostEqual(0.784205, scores['GreedyMatchingScore'], places=5)\n",
        "        self.assertEqual(12, len(scores))"
      ],
      "execution_count": 0,
      "outputs": []
    },
    {
      "cell_type": "code",
      "metadata": {
        "id": "2PGGtWUyjPdK",
        "colab_type": "code",
        "outputId": "e0f950a5-7d53-411e-d983-d18fa7061c86",
        "colab": {
          "base_uri": "https://localhost:8080/",
          "height": 87
        }
      },
      "source": [
        "from __future__ import unicode_literals\n",
        "\n",
        "import os\n",
        "import unittest\n",
        "\n",
        "import nlgeval\n",
        "from nlgeval import NLGEval\n",
        "\n",
        "\n",
        "n = NLGEval()\n",
        "\n",
        "# Individual Metrics\n",
        "scores = n.compute_individual_metrics(ref=[\"this is a test\",\"this is also a test\",\"this is test\",\"this is really a test\",\"yes, this is a test\"],hyp=\"this is a good test\")"
      ],
      "execution_count": 0,
      "outputs": [
        {
          "output_type": "stream",
          "text": [
            "WARNING (theano.tensor.blas): We did not find a dynamic library in the library_dir of the library we use for blas. If you use ATLAS, make sure to compile it with dynamics library.\n",
            "/usr/local/lib/python3.6/dist-packages/smart_open/smart_open_lib.py:402: UserWarning: This function is deprecated, use smart_open.open instead. See the migration notes for details: https://github.com/RaRe-Technologies/smart_open/blob/master/README.rst#migrating-to-the-new-open-function\n",
            "  'See the migration notes for details: %s' % _MIGRATION_NOTES_URL\n"
          ],
          "name": "stderr"
        }
      ]
    },
    {
      "cell_type": "code",
      "metadata": {
        "id": "rcnqIfxejba5",
        "colab_type": "code",
        "outputId": "cbb94eca-8e49-49bd-8f54-444cb886df21",
        "colab": {
          "base_uri": "https://localhost:8080/",
          "height": 202
        }
      },
      "source": [
        "# print(scores)\n",
        "print(\"Bleu_1 : \",scores['Bleu_1'])\n",
        "print(\"Bleu_2 : \",scores['Bleu_2'])\n",
        "print(\"Bleu_3 : \",scores['Bleu_3'])\n",
        "print(\"Bleu_4 : \",scores['Bleu_4'])\n",
        "print(\"METEOR : \",scores['METEOR'])\n",
        "print(\"ROUGE_L : \",scores['ROUGE_L'])\n",
        "print(\"CIDEr : \",scores['CIDEr'])\n",
        "print(\"SkipThoughtCS : \",scores['SkipThoughtCS'])\n",
        "print(\"EmbeddingAverageCosineSimilarity : \",scores['EmbeddingAverageCosineSimilarity'])\n",
        "print(\"VectorExtremaCosineSimilarity : \",scores['VectorExtremaCosineSimilarity'])\n",
        "print(\"GreedyMatchingScore : \",scores['GreedyMatchingScore'])"
      ],
      "execution_count": 0,
      "outputs": [
        {
          "output_type": "stream",
          "text": [
            "Bleu_1 :  0.7999999996800004\n",
            "Bleu_2 :  0.6324555317648827\n",
            "Bleu_3 :  0.5108729546934666\n",
            "Bleu_4 :  9.036020031392194e-05\n",
            "METEOR :  0.4443438716486749\n",
            "ROUGE_L :  0.9070631970260222\n",
            "CIDEr :  0.0\n",
            "SkipThoughtCS :  0.837525\n",
            "EmbeddingAverageCosineSimilarity :  0.983229\n",
            "VectorExtremaCosineSimilarity :  0.94509\n",
            "GreedyMatchingScore :  0.960771\n"
          ],
          "name": "stdout"
        }
      ]
    },
    {
      "cell_type": "markdown",
      "metadata": {
        "id": "ezi5ZQUsjdag",
        "colab_type": "text"
      },
      "source": [
        "## Using \"pycocoevalcap\" Library"
      ]
    },
    {
      "cell_type": "code",
      "metadata": {
        "id": "4Rciz55us6zP",
        "colab_type": "code",
        "outputId": "33604dc4-ead8-4836-fac4-7504ab3fa221",
        "colab": {
          "base_uri": "https://localhost:8080/",
          "height": 151
        }
      },
      "source": [
        "!pip install --upgrade pip"
      ],
      "execution_count": 1,
      "outputs": [
        {
          "output_type": "stream",
          "text": [
            "Collecting pip\n",
            "\u001b[?25l  Downloading https://files.pythonhosted.org/packages/54/2e/df11ea7e23e7e761d484ed3740285a34e38548cf2bad2bed3dd5768ec8b9/pip-20.1-py2.py3-none-any.whl (1.5MB)\n",
            "\u001b[K     |████████████████████████████████| 1.5MB 2.8MB/s \n",
            "\u001b[?25hInstalling collected packages: pip\n",
            "  Found existing installation: pip 19.3.1\n",
            "    Uninstalling pip-19.3.1:\n",
            "      Successfully uninstalled pip-19.3.1\n",
            "Successfully installed pip-20.1\n"
          ],
          "name": "stdout"
        }
      ]
    },
    {
      "cell_type": "code",
      "metadata": {
        "id": "4JF9YpeQtAcl",
        "colab_type": "code",
        "outputId": "8b1e720f-b14c-4a30-ea0e-b824273df93b",
        "colab": {
          "base_uri": "https://localhost:8080/",
          "height": 34
        }
      },
      "source": [
        "pip install pycocotools"
      ],
      "execution_count": 2,
      "outputs": [
        {
          "output_type": "stream",
          "text": [
            "Requirement already satisfied: pycocotools in /usr/local/lib/python3.6/dist-packages (2.0.0)\n"
          ],
          "name": "stdout"
        }
      ]
    },
    {
      "cell_type": "code",
      "metadata": {
        "id": "_3zCHWxFjlPy",
        "colab_type": "code",
        "outputId": "06514e79-9276-4578-f560-d5e6d892c504",
        "colab": {
          "base_uri": "https://localhost:8080/",
          "height": 202
        }
      },
      "source": [
        "!pip install git+https://github.com/salaniz/pycocoevalcap"
      ],
      "execution_count": 3,
      "outputs": [
        {
          "output_type": "stream",
          "text": [
            "Collecting git+https://github.com/salaniz/pycocoevalcap\n",
            "  Cloning https://github.com/salaniz/pycocoevalcap to /tmp/pip-req-build-hbb4zii3\n",
            "  Running command git clone -q https://github.com/salaniz/pycocoevalcap /tmp/pip-req-build-hbb4zii3\n",
            "Requirement already satisfied: pycocotools>=2.0.0 in /usr/local/lib/python3.6/dist-packages (from pycocoevalcap==1.1) (2.0.0)\n",
            "Building wheels for collected packages: pycocoevalcap\n",
            "  Building wheel for pycocoevalcap (setup.py) ... \u001b[?25l\u001b[?25hdone\n",
            "  Created wheel for pycocoevalcap: filename=pycocoevalcap-1.1-py3-none-any.whl size=104310213 sha256=ba11c1ae2d23d8ab5eed7cf938469fc3acced4cca73dd2a07c7abf9314dd138e\n",
            "  Stored in directory: /tmp/pip-ephem-wheel-cache-adl50o_q/wheels/df/74/69/758b2491ca93bf681a1509671df34df9cf5ff605edf6e112ed\n",
            "Successfully built pycocoevalcap\n",
            "Installing collected packages: pycocoevalcap\n",
            "Successfully installed pycocoevalcap-1.1\n"
          ],
          "name": "stdout"
        }
      ]
    },
    {
      "cell_type": "code",
      "metadata": {
        "id": "v5KJJmyVju-D",
        "colab_type": "code",
        "colab": {}
      },
      "source": [
        "from pycocoevalcap.tokenizer.ptbtokenizer import PTBTokenizer\n",
        "from pycocoevalcap.bleu.bleu import Bleu\n",
        "from pycocoevalcap.meteor.meteor import Meteor\n",
        "from pycocoevalcap.rouge.rouge import Rouge\n",
        "from pycocoevalcap.cider.cider import Cider\n",
        "from pycocoevalcap.spice.spice import Spice"
      ],
      "execution_count": 0,
      "outputs": []
    },
    {
      "cell_type": "markdown",
      "metadata": {
        "id": "fEo5BKa30smo",
        "colab_type": "text"
      },
      "source": [
        "Evaluating captions from JSON files"
      ]
    },
    {
      "cell_type": "code",
      "metadata": {
        "id": "O20pGrs3uRnm",
        "colab_type": "code",
        "colab": {}
      },
      "source": [
        "from pycocoevalcap.bleu.bleu import Bleu\n",
        "from pycocoevalcap.cider.cider import Cider\n",
        "from pycocoevalcap.meteor.meteor import Meteor\n",
        "from pycocoevalcap.rouge.rouge import Rouge\n",
        "from pycocoevalcap.spice.spice import Spice\n",
        "import json\n",
        "\n",
        "with open('/content/gts.json', 'r') as file:\n",
        "    gts = json.load(file)\n",
        "with open('/content/res.json', 'r') as file:\n",
        "    res = json.load(file)\n",
        "\n",
        "def bleu():\n",
        "    scorer = Bleu(n=4)\n",
        "    # scorer += (hypo[0], ref1)   # hypo[0] = 'word1 word2 word3 ...'\n",
        "    #                                 # ref = ['word1 word2 word3 ...', 'word1 word2 word3 ...']\n",
        "    score, scores = scorer.compute_score(gts, res)\n",
        "\n",
        "    print('belu = %s' % score)\n",
        "\n",
        "def cider():\n",
        "    scorer = Cider()\n",
        "    # scorer += (hypo[0], ref1)\n",
        "    (score, scores) = scorer.compute_score(gts, res)\n",
        "    print('cider = %s' % score)\n",
        "\n",
        "def meteor():\n",
        "    scorer = Meteor()\n",
        "    score, scores = scorer.compute_score(gts, res)\n",
        "    print('meter = %s' % score)\n",
        "\n",
        "def rouge():\n",
        "    scorer = Rouge()\n",
        "    score, scores = scorer.compute_score(gts, res)\n",
        "    print('rouge = %s' % score)\n",
        "\n",
        "def spice():\n",
        "    scorer = Spice()\n",
        "    score, scores = scorer.compute_score(gts, res)\n",
        "    print('spice = %s' % score)\n",
        "\n",
        "def main():\n",
        "    bleu()\n",
        "    cider()\n",
        "    meteor()\n",
        "    rouge()\n",
        "    spice()\n",
        "main()"
      ],
      "execution_count": 0,
      "outputs": []
    },
    {
      "cell_type": "code",
      "metadata": {
        "id": "_94s_xY2jyVR",
        "colab_type": "code",
        "colab": {}
      },
      "source": [
        "class COCOEvalCap:\n",
        "    def __init__(self, coco, cocoRes):\n",
        "        self.evalImgs = []\n",
        "        self.eval = {}\n",
        "        self.imgToEval = {}\n",
        "        self.coco = coco\n",
        "        self.cocoRes = cocoRes\n",
        "        self.params = {'image_id': coco.getImgIds()}\n",
        "\n",
        "    def evaluate(self):\n",
        "        imgIds = self.params['image_id']\n",
        "        # imgIds = self.coco.getImgIds()\n",
        "        gts = {}\n",
        "        res = {}\n",
        "        for imgId in imgIds:\n",
        "            gts[imgId] = self.coco.imgToAnns[imgId]\n",
        "            res[imgId] = self.cocoRes.imgToAnns[imgId]\n",
        "\n",
        "        # =================================================\n",
        "        # Set up scorers\n",
        "        # =================================================\n",
        "        print('tokenization...')\n",
        "        tokenizer = PTBTokenizer()\n",
        "        gts  = tokenizer.tokenize(gts)\n",
        "        res = tokenizer.tokenize(res)\n",
        "\n",
        "        # =================================================\n",
        "        # Set up scorers\n",
        "        # =================================================\n",
        "        print('setting up scorers...')\n",
        "        scorers = [\n",
        "            (Bleu(4), [\"Bleu_1\", \"Bleu_2\", \"Bleu_3\", \"Bleu_4\"]),\n",
        "            (Meteor(),\"METEOR\"),\n",
        "            (Rouge(), \"ROUGE_L\"),\n",
        "            (Cider(), \"CIDEr\"),\n",
        "            (Spice(), \"SPICE\")\n",
        "        ]\n",
        "\n",
        "        # =================================================\n",
        "        # Compute scores\n",
        "        # =================================================\n",
        "        for scorer, method in scorers:\n",
        "            print('computing %s score...'%(scorer.method()))\n",
        "            score, scores = scorer.compute_score(gts, res)\n",
        "            if type(method) == list:\n",
        "                for sc, scs, m in zip(score, scores, method):\n",
        "                    self.setEval(sc, m)\n",
        "                    self.setImgToEvalImgs(scs, gts.keys(), m)\n",
        "                    print(\"%s: %0.3f\"%(m, sc))\n",
        "            else:\n",
        "                self.setEval(score, method)\n",
        "                self.setImgToEvalImgs(scores, gts.keys(), method)\n",
        "                print(\"%s: %0.3f\"%(method, score))\n",
        "        self.setEvalImgs()\n",
        "\n",
        "    def setEval(self, score, method):\n",
        "        self.eval[method] = score\n",
        "\n",
        "    def setImgToEvalImgs(self, scores, imgIds, method):\n",
        "        for imgId, score in zip(imgIds, scores):\n",
        "            if not imgId in self.imgToEval:\n",
        "                self.imgToEval[imgId] = {}\n",
        "                self.imgToEval[imgId][\"image_id\"] = imgId\n",
        "            self.imgToEval[imgId][method] = score\n",
        "\n",
        "    def setEvalImgs(self):\n",
        "        self.evalImgs = [eval for imgId, eval in self.imgToEval.items()]"
      ],
      "execution_count": 0,
      "outputs": []
    },
    {
      "cell_type": "code",
      "metadata": {
        "id": "NeK-Fml8j1eE",
        "colab_type": "code",
        "colab": {}
      },
      "source": [
        "def calc_scores(ref, hypo):\n",
        "    \"\"\"\n",
        "    ref, dictionary of reference sentences (id, sentence)  ------> here, each element of ref is a list\n",
        "    hypo, dictionary of hypothesis sentences (id, sentence)\n",
        "    score, dictionary of scores\n",
        "    \"\"\"\n",
        "    print(type(ref))\n",
        "    scorers = [\n",
        "        (Bleu(4), [\"Bleu_1\", \"Bleu_2\", \"Bleu_3\", \"Bleu_4\"]),\n",
        "        (Meteor(),\"METEOR\"),\n",
        "        (Rouge(), \"ROUGE_L\"),\n",
        "        (Cider(), \"CIDEr\"),\n",
        "        (Spice(), \"SPICE\")\n",
        "    ]\n",
        "    final_scores = {}\n",
        "    for scorer, method in scorers:\n",
        "        score, scores = scorer.compute_score(ref, hypo)\n",
        "        if type(score) == list:\n",
        "            for m, s in zip(method, score):\n",
        "                final_scores[m] = s\n",
        "        else:\n",
        "            final_scores[method] = score\n",
        "    return final_scores "
      ],
      "execution_count": 0,
      "outputs": []
    },
    {
      "cell_type": "code",
      "metadata": {
        "id": "c1vsIWPyj4Lj",
        "colab_type": "code",
        "colab": {}
      },
      "source": [
        "ref = {}\n",
        "hypo = {}\n",
        "\n",
        "ref[0] = [\"this is one reference sentence for sentence1\",\"this is a reference sentence for sentence2 which was generated by your model\"]\n",
        "hypo[0] = [\"this is the model generated sentence1 which seems good enough\"]"
      ],
      "execution_count": 0,
      "outputs": []
    },
    {
      "cell_type": "code",
      "metadata": {
        "id": "XcoMtH7cj7yB",
        "colab_type": "code",
        "colab": {}
      },
      "source": [
        "references = [[\"this is one reference sentence for sentence1\",\"this is a reference sentence for sentence2 which was generated by your model\"],[\"this is one more reference sentence for sentence1\",\"this is the second reference sentence for sentence2\"],],\n",
        "hypothesis = [\"this is the model generated sentence1 which seems good enough\",\"this is sentence2 which has been generated by your model\"]"
      ],
      "execution_count": 0,
      "outputs": []
    },
    {
      "cell_type": "code",
      "metadata": {
        "id": "qHBbL8Mmj8dj",
        "colab_type": "code",
        "outputId": "e7268b57-3088-488c-b368-cddc23892023",
        "colab": {
          "base_uri": "https://localhost:8080/",
          "height": 67
        }
      },
      "source": [
        "score = calc_scores(ref, hypo)"
      ],
      "execution_count": 11,
      "outputs": [
        {
          "output_type": "stream",
          "text": [
            "<class 'dict'>\n",
            "{'testlen': 10, 'reflen': 7, 'guess': [10, 9, 8, 7], 'correct': [6, 1, 0, 0]}\n",
            "ratio: 1.4285714283673472\n"
          ],
          "name": "stdout"
        }
      ]
    },
    {
      "cell_type": "code",
      "metadata": {
        "id": "2GSgDRGlFWz1",
        "colab_type": "code",
        "colab": {
          "base_uri": "https://localhost:8080/",
          "height": 151
        },
        "outputId": "20d666b7-e4a4-411c-c88e-d02ebbe7aedb"
      },
      "source": [
        "score"
      ],
      "execution_count": 16,
      "outputs": [
        {
          "output_type": "execute_result",
          "data": {
            "text/plain": [
              "{'Bleu_1': 0.5999999999400001,\n",
              " 'Bleu_2': 0.25819888971990695,\n",
              " 'Bleu_3': 2.027400664963992e-06,\n",
              " 'Bleu_4': 5.873949093995857e-09,\n",
              " 'CIDEr': 0.0,\n",
              " 'METEOR': 0.16741198894585999,\n",
              " 'ROUGE_L': 0.36454183266932266,\n",
              " 'SPICE': 0.36363636363636365}"
            ]
          },
          "metadata": {
            "tags": []
          },
          "execution_count": 16
        }
      ]
    },
    {
      "cell_type": "code",
      "metadata": {
        "id": "zNOLFfhNE8cz",
        "colab_type": "code",
        "colab": {
          "base_uri": "https://localhost:8080/",
          "height": 34
        },
        "outputId": "b6cdc69e-5f32-4786-a2a3-3a74d64b8023"
      },
      "source": [
        "score['Bleu_3']"
      ],
      "execution_count": 15,
      "outputs": [
        {
          "output_type": "execute_result",
          "data": {
            "text/plain": [
              "2.027400664963992e-06"
            ]
          },
          "metadata": {
            "tags": []
          },
          "execution_count": 15
        }
      ]
    },
    {
      "cell_type": "code",
      "metadata": {
        "id": "ZosIAGg6kP3f",
        "colab_type": "code",
        "outputId": "37e02081-2448-46da-f0a5-678f9482b6f9",
        "colab": {
          "base_uri": "https://localhost:8080/",
          "height": 34
        }
      },
      "source": [
        "from pycocotools import mask as mask\n",
        "print(mask.__author__)"
      ],
      "execution_count": 0,
      "outputs": [
        {
          "output_type": "stream",
          "text": [
            "tsungyi\n"
          ],
          "name": "stdout"
        }
      ]
    },
    {
      "cell_type": "code",
      "metadata": {
        "id": "BMiVwwp4kTYp",
        "colab_type": "code",
        "colab": {}
      },
      "source": [
        "def calc_scores(ref, hypo):\n",
        "    \"\"\"\n",
        "    ref, dictionary of reference sentences (id, sentence)\n",
        "    hypo, dictionary of hypothesis sentences (id, sentence)\n",
        "    score, dictionary of scores\n",
        "    \"\"\"\n",
        "    print(type(hypo.keys))\n",
        "    scorers = [\n",
        "        (Bleu(4), [\"Bleu_1\", \"Bleu_2\", \"Bleu_3\", \"Bleu_4\"]),\n",
        "        (Meteor(),\"METEOR\"),\n",
        "        (Rouge(), \"ROUGE_L\"),\n",
        "        (Cider(), \"CIDEr\"),\n",
        "        (Spice(), \"SPICE\")\n",
        "    ]\n",
        "    final_scores = {}\n",
        "    for scorer, method in scorers:\n",
        "        score, scores = scorer.compute_score(ref, hypo)\n",
        "        if type(score) == list:\n",
        "            for m, s in zip(method, score):\n",
        "                final_scores[m] = s\n",
        "        else:\n",
        "            final_scores[method] = score\n",
        "    return final_scores "
      ],
      "execution_count": 0,
      "outputs": []
    },
    {
      "cell_type": "code",
      "metadata": {
        "id": "r775JBbQkk_K",
        "colab_type": "code",
        "colab": {}
      },
      "source": [
        "ref = {}\n",
        "hypo = {}\n",
        "\n",
        "ref[0] = [\"this is one reference sentence for sentence1\",\"this is a reference sentence for sentence2 which was generated by your model\"]\n",
        "ref[1] = [\"this is one more reference sentence for sentence1\",\"this is the second reference sentence for sentence2\"]\n",
        "hypo[0] = [\"this is the model generated sentence1 which seems good enough\"]\n",
        "hypo[1] = [\"this is sentence2 which has been generated by your model\"]"
      ],
      "execution_count": 0,
      "outputs": []
    },
    {
      "cell_type": "code",
      "metadata": {
        "id": "JWLEmhUbkohJ",
        "colab_type": "code",
        "outputId": "d1bdceed-15a2-4248-b395-593964e09273",
        "colab": {
          "base_uri": "https://localhost:8080/",
          "height": 104
        }
      },
      "source": [
        "print(calc_scores(ref, hypo))"
      ],
      "execution_count": 0,
      "outputs": [
        {
          "output_type": "stream",
          "text": [
            "<class 'builtin_function_or_method'>\n",
            "{'testlen': 20, 'reflen': 15, 'guess': [20, 18, 16, 14], 'correct': [9, 2, 0, 0]}\n",
            "ratio: 1.3333333332444444\n",
            "{'Bleu_1': 0.44999999997750006, 'Bleu_2': 0.22360679773817757, 'Bleu_3': 1.4620088690245348e-06, 'Bleu_4': 3.8652758782383096e-09, 'METEOR': 0.1552910794167853, 'ROUGE_L': 0.3523452657770405, 'CIDEr': 0.23638309890658804, 'SPICE': 0.2727272727272727}\n"
          ],
          "name": "stdout"
        }
      ]
    },
    {
      "cell_type": "markdown",
      "metadata": {
        "id": "QThUjCpikuo1",
        "colab_type": "text"
      },
      "source": [
        "## Using nltk Libraries"
      ]
    },
    {
      "cell_type": "code",
      "metadata": {
        "id": "Pcd0oOfkky80",
        "colab_type": "code",
        "colab": {}
      },
      "source": [
        "from nltk.translate import AlignedSent, Alignment\n",
        "import nltk.translate.gleu_score\n",
        "from nltk.translate.bleu_score import corpus_bleu\n",
        "from nltk.translate.bleu_score import sentence_bleu\n",
        "from nltk.translate.gleu_score import sentence_gleu\n",
        "from nltk.translate.gleu_score import corpus_gleu\n",
        "from nltk.translate.bleu_score import SmoothingFunction"
      ],
      "execution_count": 0,
      "outputs": []
    },
    {
      "cell_type": "code",
      "metadata": {
        "id": "f53DL398mloQ",
        "colab_type": "code",
        "colab": {}
      },
      "source": [
        "hyp1 = ['It', 'is', 'a', 'guide', 'to', 'action', 'which','ensures', 'that', 'the', 'military', 'always','obeys', 'the', 'commands', 'of', 'the', 'party']\n",
        "ref1a = ['It', 'is', 'a', 'guide', 'to', 'action', 'that','ensures', 'that', 'the', 'military', 'will', 'forever','heed', 'Party', 'commands']\n",
        "ref1b = ['It', 'is', 'the', 'guiding', 'principle', 'which',          'guarantees', 'the', 'military', 'forces', 'always','being', 'under', 'the', 'command', 'of', 'the', 'Party']\n",
        "ref1c = ['It', 'is', 'the', 'practical', 'guide', 'for', 'the','army', 'always', 'to', 'heed', 'the', 'directions','of', 'the', 'party']"
      ],
      "execution_count": 0,
      "outputs": []
    },
    {
      "cell_type": "code",
      "metadata": {
        "id": "c5bkjuG9mq0g",
        "colab_type": "code",
        "colab": {}
      },
      "source": [
        "hyp2 = ['he', 'read', 'the', 'book', 'because', 'he', 'was','interested', 'in', 'world', 'history']\n",
        "ref2a = ['he', 'was', 'interested', 'in', 'world', 'history','because', 'he', 'read', 'the', 'book']"
      ],
      "execution_count": 0,
      "outputs": []
    },
    {
      "cell_type": "code",
      "metadata": {
        "id": "1xOGMNSVmtyY",
        "colab_type": "code",
        "colab": {}
      },
      "source": [
        "hypothesis1 = ['It', 'is', 'a', 'guide', 'to', 'action', 'which','ensures', 'that', 'the', 'military', 'always','obeys', 'the', 'commands', 'of', 'the', 'party']\n",
        "hypothesis2 = ['It', 'is', 'to', 'insure', 'the', 'troops','forever', 'hearing', 'the', 'activity', 'guidebook','that', 'party', 'direct']"
      ],
      "execution_count": 0,
      "outputs": []
    },
    {
      "cell_type": "code",
      "metadata": {
        "id": "bCxEQijimxHp",
        "colab_type": "code",
        "colab": {}
      },
      "source": [
        " reference1 = ['It', 'is', 'a', 'guide', 'to', 'action', 'that','ensures', 'that', 'the', 'military', 'will', 'forever','heed', 'Party', 'commands']\n",
        " reference2 = ['It', 'is', 'the', 'guiding', 'principle', 'which','guarantees', 'the', 'military', 'forces', 'always','being', 'under', 'the', 'command', 'of', 'the','Party']\n",
        " reference3 = ['It', 'is', 'the', 'practical', 'guide', 'for', 'the','army', 'always', 'to', 'heed', 'the', 'directions','of', 'the', 'party']"
      ],
      "execution_count": 0,
      "outputs": []
    },
    {
      "cell_type": "code",
      "metadata": {
        "id": "OrFejjTdm2v_",
        "colab_type": "code",
        "outputId": "5dd9f137-75b9-4425-8834-826b45d8402a",
        "colab": {
          "base_uri": "https://localhost:8080/",
          "height": 34
        }
      },
      "source": [
        "list_of_references = [[ref1a, ref1b, ref1c], [ref2a]]\n",
        "hypotheses = [hyp1, hyp2]\n",
        "corpus_gleu(list_of_references, hypotheses)"
      ],
      "execution_count": 7,
      "outputs": [
        {
          "output_type": "execute_result",
          "data": {
            "text/plain": [
              "0.5673076923076923"
            ]
          },
          "metadata": {
            "tags": []
          },
          "execution_count": 7
        }
      ]
    },
    {
      "cell_type": "code",
      "metadata": {
        "id": "7DocdN93nBJ4",
        "colab_type": "code",
        "outputId": "cb76184a-e08c-4749-fc5c-b526f86cfded",
        "colab": {
          "base_uri": "https://localhost:8080/",
          "height": 34
        }
      },
      "source": [
        "corpus_bleu(list_of_references, hypotheses)"
      ],
      "execution_count": 8,
      "outputs": [
        {
          "output_type": "execute_result",
          "data": {
            "text/plain": [
              "0.5920778868801042"
            ]
          },
          "metadata": {
            "tags": []
          },
          "execution_count": 8
        }
      ]
    },
    {
      "cell_type": "code",
      "metadata": {
        "id": "sfJ23M13nDSX",
        "colab_type": "code",
        "outputId": "bf891c88-72ca-4e2c-dcba-fe0bca399e50",
        "colab": {
          "base_uri": "https://localhost:8080/",
          "height": 34
        }
      },
      "source": [
        "score1 = sentence_bleu([ref1a, ref1b, ref1c], hyp1)\n",
        "score2 = sentence_bleu([ref2a], hyp2)\n",
        "(score1 + score2) / 2"
      ],
      "execution_count": 9,
      "outputs": [
        {
          "output_type": "execute_result",
          "data": {
            "text/plain": [
              "0.6223247442490669"
            ]
          },
          "metadata": {
            "tags": []
          },
          "execution_count": 9
        }
      ]
    },
    {
      "cell_type": "code",
      "metadata": {
        "id": "gTMlWNcunF94",
        "colab_type": "code",
        "outputId": "248c9492-951c-4a09-804b-5621b9f1e55f",
        "colab": {
          "base_uri": "https://localhost:8080/",
          "height": 34
        }
      },
      "source": [
        "sentence_bleu([reference1, reference2, reference3], hypothesis1)"
      ],
      "execution_count": 10,
      "outputs": [
        {
          "output_type": "execute_result",
          "data": {
            "text/plain": [
              "0.5045666840058485"
            ]
          },
          "metadata": {
            "tags": []
          },
          "execution_count": 10
        }
      ]
    },
    {
      "cell_type": "code",
      "metadata": {
        "id": "jijq-ljKnxQP",
        "colab_type": "code",
        "outputId": "205ab5f1-f6c0-4d37-cadc-80830f1ede5c",
        "colab": {
          "base_uri": "https://localhost:8080/",
          "height": 34
        }
      },
      "source": [
        "sentence_gleu([reference1, reference2, reference3], hypothesis1)"
      ],
      "execution_count": 11,
      "outputs": [
        {
          "output_type": "execute_result",
          "data": {
            "text/plain": [
              "0.4393939393939394"
            ]
          },
          "metadata": {
            "tags": []
          },
          "execution_count": 11
        }
      ]
    },
    {
      "cell_type": "code",
      "metadata": {
        "id": "llsznf52nJh4",
        "colab_type": "code",
        "outputId": "95367410-6533-4bbf-8dc1-11b80bbd601e",
        "colab": {
          "base_uri": "https://localhost:8080/",
          "height": 101
        }
      },
      "source": [
        "round(sentence_bleu([reference1, reference2, reference3], hypothesis2),4)"
      ],
      "execution_count": 12,
      "outputs": [
        {
          "output_type": "stream",
          "text": [
            "/usr/local/lib/python3.6/dist-packages/nltk/translate/bleu_score.py:490: UserWarning: \n",
            "Corpus/Sentence contains 0 counts of 3-gram overlaps.\n",
            "BLEU scores might be undesirable; use SmoothingFunction().\n",
            "  warnings.warn(_msg)\n"
          ],
          "name": "stderr"
        },
        {
          "output_type": "execute_result",
          "data": {
            "text/plain": [
              "0.3969"
            ]
          },
          "metadata": {
            "tags": []
          },
          "execution_count": 12
        }
      ]
    },
    {
      "cell_type": "code",
      "metadata": {
        "id": "s5Ttss2dnLoY",
        "colab_type": "code",
        "outputId": "c9b5c8c6-fb9a-485f-a1d8-1a5c25b9f9bd",
        "colab": {
          "base_uri": "https://localhost:8080/",
          "height": 34
        }
      },
      "source": [
        "chencherry = SmoothingFunction()\n",
        "sentence_bleu([reference1, reference2, reference3], hypothesis2,smoothing_function=chencherry.method1)"
      ],
      "execution_count": 13,
      "outputs": [
        {
          "output_type": "execute_result",
          "data": {
            "text/plain": [
              "0.03703131191121491"
            ]
          },
          "metadata": {
            "tags": []
          },
          "execution_count": 13
        }
      ]
    },
    {
      "cell_type": "code",
      "metadata": {
        "id": "uP_Rf4QMnPIY",
        "colab_type": "code",
        "outputId": "db93abd3-8a72-4261-ee78-386f6eb88043",
        "colab": {
          "base_uri": "https://localhost:8080/",
          "height": 34
        }
      },
      "source": [
        "weights = (.25, .25, .25, .25)\n",
        "sentence_bleu([reference1, reference2, reference3], hypothesis1, weights)"
      ],
      "execution_count": 14,
      "outputs": [
        {
          "output_type": "execute_result",
          "data": {
            "text/plain": [
              "0.5045666840058485"
            ]
          },
          "metadata": {
            "tags": []
          },
          "execution_count": 14
        }
      ]
    },
    {
      "cell_type": "code",
      "metadata": {
        "id": "uTIZ9iNyyBbX",
        "colab_type": "code",
        "colab": {}
      },
      "source": [
        "smf = SmoothingFunction()\n",
        "smoothing_functions = [smf.method1, smf.method2, smf.method3, smf.method4, smf.method5, smf.method6, smf.method7]"
      ],
      "execution_count": 0,
      "outputs": []
    },
    {
      "cell_type": "code",
      "metadata": {
        "id": "Yh-UzdxKxzTY",
        "colab_type": "code",
        "colab": {}
      },
      "source": [
        "weights = [(1, 0, 0, 0), (0.5, 0.5, 0, 0), (0.33, 0.33, 0.33, 0), (.25, .25, .25, .25)]"
      ],
      "execution_count": 0,
      "outputs": []
    },
    {
      "cell_type": "code",
      "metadata": {
        "id": "JjCqPP545Btw",
        "colab_type": "code",
        "colab": {}
      },
      "source": [
        "nltk_metrics = ['sentence_bleu','corpus_bleu','sentence_glue','corpus_gleu']"
      ],
      "execution_count": 0,
      "outputs": []
    },
    {
      "cell_type": "code",
      "metadata": {
        "id": "AVNB3wbDyLNJ",
        "colab_type": "code",
        "colab": {}
      },
      "source": [
        "reference = [reference1, reference2, reference3]\n",
        "candidate = hypothesis1"
      ],
      "execution_count": 0,
      "outputs": []
    },
    {
      "cell_type": "code",
      "metadata": {
        "id": "TLZdLf9Nx4_-",
        "colab_type": "code",
        "colab": {
          "base_uri": "https://localhost:8080/"
        },
        "outputId": "7d1563a5-d5be-41c0-acc2-da92d9dd79b5"
      },
      "source": [
        "ans = {'sentence_bleu':{},'corpus_bleu':{}}\n",
        "for smoothing_function in smoothing_functions:\n",
        "    for metric in ans:\n",
        "        ans[metric][\"smoothing_function_method_0\"+str(smoothing_functions.index(smoothing_function)+1)]={}\n",
        "    for weight in weights:\n",
        "        ans['sentence_bleu'][\"smoothing_function_method_0\"+str(smoothing_functions.index(smoothing_function)+1)][\"weight_0\"+str(weights.index(weight)+1)] = round(sentence_bleu(reference, candidate,smoothing_function=smoothing_function, weights=weight),4)\n",
        "        ans['corpus_bleu'][\"smoothing_function_method_0\"+str(smoothing_functions.index(smoothing_function)+1)][\"weight_0\"+str(weights.index(weight)+1)] = round(corpus_bleu([reference], [candidate],smoothing_function=smoothing_function, weights=weight),4)\n",
        "print(ans)"
      ],
      "execution_count": 19,
      "outputs": [
        {
          "output_type": "stream",
          "text": [
            "{'sentence_bleu': {'smoothing_function_method_01': {'weight_01': 0.9444, 'weight_02': 0.7454, 'weight_03': 0.627, 'weight_04': 0.5046}, 'smoothing_function_method_02': {'weight_01': 0.9474, 'weight_02': 0.7609, 'weight_03': 0.6511, 'weight_04': 0.5402}, 'smoothing_function_method_03': {'weight_01': 0.9444, 'weight_02': 0.7454, 'weight_03': 0.627, 'weight_04': 0.5046}, 'smoothing_function_method_04': {'weight_01': 0.9444, 'weight_02': 0.7454, 'weight_03': 0.627, 'weight_04': 0.5046}, 'smoothing_function_method_05': {'weight_01': 1.159, 'weight_02': 0.9187, 'weight_03': 0.7409, 'weight_04': 0.5875}, 'smoothing_function_method_06': {'weight_01': 0.9444, 'weight_02': 0.7454, 'weight_03': 0.6189, 'weight_04': 0.5035}, 'smoothing_function_method_07': {'weight_01': 1.159, 'weight_02': 0.9187, 'weight_03': 0.7409, 'weight_04': 0.5875}}, 'corpus_bleu': {'smoothing_function_method_01': {'weight_01': 0.9444, 'weight_02': 0.7454, 'weight_03': 0.627, 'weight_04': 0.5046}, 'smoothing_function_method_02': {'weight_01': 0.9474, 'weight_02': 0.7609, 'weight_03': 0.6511, 'weight_04': 0.5402}, 'smoothing_function_method_03': {'weight_01': 0.9444, 'weight_02': 0.7454, 'weight_03': 0.627, 'weight_04': 0.5046}, 'smoothing_function_method_04': {'weight_01': 0.9444, 'weight_02': 0.7454, 'weight_03': 0.627, 'weight_04': 0.5046}, 'smoothing_function_method_05': {'weight_01': 1.159, 'weight_02': 0.9187, 'weight_03': 0.7409, 'weight_04': 0.5875}, 'smoothing_function_method_06': {'weight_01': 0.9444, 'weight_02': 0.7454, 'weight_03': 0.6189, 'weight_04': 0.5035}, 'smoothing_function_method_07': {'weight_01': 1.159, 'weight_02': 0.9187, 'weight_03': 0.7409, 'weight_04': 0.5875}}}\n"
          ],
          "name": "stdout"
        }
      ]
    },
    {
      "cell_type": "code",
      "metadata": {
        "id": "fGpSc5Zc_hiG",
        "colab_type": "code",
        "colab": {
          "base_uri": "https://localhost:8080/",
          "height": 70
        },
        "outputId": "afc8129f-61fa-4221-83d3-7f9b9fb1757b"
      },
      "source": [
        "print(ans['sentence_bleu'])\n",
        "print(ans['corpus_bleu'])"
      ],
      "execution_count": 20,
      "outputs": [
        {
          "output_type": "stream",
          "text": [
            "{'smoothing_function_method_01': {'weight_01': 0.9444, 'weight_02': 0.7454, 'weight_03': 0.627, 'weight_04': 0.5046}, 'smoothing_function_method_02': {'weight_01': 0.9474, 'weight_02': 0.7609, 'weight_03': 0.6511, 'weight_04': 0.5402}, 'smoothing_function_method_03': {'weight_01': 0.9444, 'weight_02': 0.7454, 'weight_03': 0.627, 'weight_04': 0.5046}, 'smoothing_function_method_04': {'weight_01': 0.9444, 'weight_02': 0.7454, 'weight_03': 0.627, 'weight_04': 0.5046}, 'smoothing_function_method_05': {'weight_01': 1.159, 'weight_02': 0.9187, 'weight_03': 0.7409, 'weight_04': 0.5875}, 'smoothing_function_method_06': {'weight_01': 0.9444, 'weight_02': 0.7454, 'weight_03': 0.6189, 'weight_04': 0.5035}, 'smoothing_function_method_07': {'weight_01': 1.159, 'weight_02': 0.9187, 'weight_03': 0.7409, 'weight_04': 0.5875}}\n",
            "{'smoothing_function_method_01': {'weight_01': 0.9444, 'weight_02': 0.7454, 'weight_03': 0.627, 'weight_04': 0.5046}, 'smoothing_function_method_02': {'weight_01': 0.9474, 'weight_02': 0.7609, 'weight_03': 0.6511, 'weight_04': 0.5402}, 'smoothing_function_method_03': {'weight_01': 0.9444, 'weight_02': 0.7454, 'weight_03': 0.627, 'weight_04': 0.5046}, 'smoothing_function_method_04': {'weight_01': 0.9444, 'weight_02': 0.7454, 'weight_03': 0.627, 'weight_04': 0.5046}, 'smoothing_function_method_05': {'weight_01': 1.159, 'weight_02': 0.9187, 'weight_03': 0.7409, 'weight_04': 0.5875}, 'smoothing_function_method_06': {'weight_01': 0.9444, 'weight_02': 0.7454, 'weight_03': 0.6189, 'weight_04': 0.5035}, 'smoothing_function_method_07': {'weight_01': 1.159, 'weight_02': 0.9187, 'weight_03': 0.7409, 'weight_04': 0.5875}}\n"
          ],
          "name": "stdout"
        }
      ]
    },
    {
      "cell_type": "code",
      "metadata": {
        "id": "cn_yKyzy_8Lb",
        "colab_type": "code",
        "colab": {
          "base_uri": "https://localhost:8080/"
        },
        "outputId": "5bd16dd6-dae6-4e6d-b3a6-a7883eea2cdf"
      },
      "source": [
        "ans['sentence_bleu']['smoothing_function_method_01']['weight_01']"
      ],
      "execution_count": 21,
      "outputs": [
        {
          "output_type": "execute_result",
          "data": {
            "text/plain": [
              "0.9444"
            ]
          },
          "metadata": {
            "tags": []
          },
          "execution_count": 21
        }
      ]
    },
    {
      "cell_type": "code",
      "metadata": {
        "id": "b6EaKcAM8idQ",
        "colab_type": "code",
        "colab": {
          "base_uri": "https://localhost:8080/"
        },
        "outputId": "fa90f26c-39a5-4e92-e8af-a690b767db4b"
      },
      "source": [
        "ans['corpus_gleu']=round(corpus_gleu([reference], [candidate]),4)\n",
        "print(ans)"
      ],
      "execution_count": 22,
      "outputs": [
        {
          "output_type": "stream",
          "text": [
            "{'sentence_bleu': {'smoothing_function_method_01': {'weight_01': 0.9444, 'weight_02': 0.7454, 'weight_03': 0.627, 'weight_04': 0.5046}, 'smoothing_function_method_02': {'weight_01': 0.9474, 'weight_02': 0.7609, 'weight_03': 0.6511, 'weight_04': 0.5402}, 'smoothing_function_method_03': {'weight_01': 0.9444, 'weight_02': 0.7454, 'weight_03': 0.627, 'weight_04': 0.5046}, 'smoothing_function_method_04': {'weight_01': 0.9444, 'weight_02': 0.7454, 'weight_03': 0.627, 'weight_04': 0.5046}, 'smoothing_function_method_05': {'weight_01': 1.159, 'weight_02': 0.9187, 'weight_03': 0.7409, 'weight_04': 0.5875}, 'smoothing_function_method_06': {'weight_01': 0.9444, 'weight_02': 0.7454, 'weight_03': 0.6189, 'weight_04': 0.5035}, 'smoothing_function_method_07': {'weight_01': 1.159, 'weight_02': 0.9187, 'weight_03': 0.7409, 'weight_04': 0.5875}}, 'corpus_bleu': {'smoothing_function_method_01': {'weight_01': 0.9444, 'weight_02': 0.7454, 'weight_03': 0.627, 'weight_04': 0.5046}, 'smoothing_function_method_02': {'weight_01': 0.9474, 'weight_02': 0.7609, 'weight_03': 0.6511, 'weight_04': 0.5402}, 'smoothing_function_method_03': {'weight_01': 0.9444, 'weight_02': 0.7454, 'weight_03': 0.627, 'weight_04': 0.5046}, 'smoothing_function_method_04': {'weight_01': 0.9444, 'weight_02': 0.7454, 'weight_03': 0.627, 'weight_04': 0.5046}, 'smoothing_function_method_05': {'weight_01': 1.159, 'weight_02': 0.9187, 'weight_03': 0.7409, 'weight_04': 0.5875}, 'smoothing_function_method_06': {'weight_01': 0.9444, 'weight_02': 0.7454, 'weight_03': 0.6189, 'weight_04': 0.5035}, 'smoothing_function_method_07': {'weight_01': 1.159, 'weight_02': 0.9187, 'weight_03': 0.7409, 'weight_04': 0.5875}}, 'corpus_gleu': 0.4394}\n"
          ],
          "name": "stdout"
        }
      ]
    },
    {
      "cell_type": "markdown",
      "metadata": {
        "id": "Q82HHgG0n2R3",
        "colab_type": "text"
      },
      "source": [
        "More Information can be obtained from <a href=\"https://www.nltk.org/api/nltk.translate.html\">this link</a> ."
      ]
    },
    {
      "cell_type": "markdown",
      "metadata": {
        "id": "c_N4u36tBC_Y",
        "colab_type": "text"
      },
      "source": [
        "# **Visualization of results**"
      ]
    },
    {
      "cell_type": "code",
      "metadata": {
        "id": "0GNvuOhOvCos",
        "colab_type": "code",
        "colab": {}
      },
      "source": [
        "from tqdm import tqdm\n",
        "from tqdm import notebook as tq"
      ],
      "execution_count": 0,
      "outputs": []
    },
    {
      "cell_type": "code",
      "metadata": {
        "id": "kEhMugAQuyPu",
        "colab_type": "code",
        "colab": {
          "base_uri": "https://localhost:8080/",
          "height": 82,
          "referenced_widgets": [
            "3e19d5cfadd646fea41b39d8fb0fe299",
            "22f0fc07ce24499c811c45d3822bac65",
            "d1e1972d11b147f78a3cfd131ba3a84e",
            "660ca0e5e0634d858a96a31787e46b2a",
            "6394f75803064ae782d6325116e6c354",
            "9ffbfb7894424bdbbd42971b8e51ca1d",
            "969bad7d79524e889fdb5ce12b81ba7a",
            "d89ccb56dd1c4eca909b63df64bd3107"
          ]
        },
        "outputId": "14205b18-ec10-4aec-a0b3-9b409d9d2a81"
      },
      "source": [
        "hello=[1,2,3,4,6,6,6,6,6,5,6,7,8,9]\n",
        "p = tq.tqdm(hello)\n",
        "c = []\n",
        "for i in p:\n",
        "    c.append(i)\n",
        "print(c)"
      ],
      "execution_count": 24,
      "outputs": [
        {
          "output_type": "display_data",
          "data": {
            "application/vnd.jupyter.widget-view+json": {
              "model_id": "3e19d5cfadd646fea41b39d8fb0fe299",
              "version_minor": 0,
              "version_major": 2
            },
            "text/plain": [
              "HBox(children=(FloatProgress(value=0.0, max=14.0), HTML(value='')))"
            ]
          },
          "metadata": {
            "tags": []
          }
        },
        {
          "output_type": "stream",
          "text": [
            "\n",
            "[1, 2, 3, 4, 6, 6, 6, 6, 6, 5, 6, 7, 8, 9]\n"
          ],
          "name": "stdout"
        }
      ]
    },
    {
      "cell_type": "code",
      "metadata": {
        "id": "MH-fRLuT0_4l",
        "colab_type": "code",
        "colab": {
          "base_uri": "https://localhost:8080/",
          "height": 332
        },
        "outputId": "46e56ecd-b360-43aa-b49a-48f2405e8411"
      },
      "source": [
        "import numpy as np\n",
        "import matplotlib.pyplot as plt\n",
        "\n",
        "# Create data\n",
        "N = 500\n",
        "x = np.random.rand(N)\n",
        "y = np.random.rand(N)\n",
        "colors = (0,0,0)\n",
        "area = np.pi*3\n",
        "\n",
        "# Plot\n",
        "plt.scatter(x, y, s=area, c=colors, alpha=0.5)\n",
        "plt.title('Scatter plot pythonspot.com')\n",
        "plt.xlabel('x')\n",
        "plt.ylabel('y')\n",
        "plt.show()"
      ],
      "execution_count": 25,
      "outputs": [
        {
          "output_type": "stream",
          "text": [
            "'c' argument looks like a single numeric RGB or RGBA sequence, which should be avoided as value-mapping will have precedence in case its length matches with 'x' & 'y'.  Please use a 2-D array with a single row if you really want to specify the same RGB or RGBA value for all points.\n"
          ],
          "name": "stderr"
        },
        {
          "output_type": "display_data",
          "data": {
            "image/png": "[encoded data removed]",
            "text/plain": [
              "<Figure size 432x288 with 1 Axes>"
            ]
          },
          "metadata": {
            "tags": [],
            "needs_background": "light"
          }
        }
      ]
    },
    {
      "cell_type": "code",
      "metadata": {
        "id": "Xdxgtmp0v9Z1",
        "colab_type": "code",
        "colab": {
          "base_uri": "https://localhost:8080/",
          "height": 366
        },
        "outputId": "f97ca24d-a8d8-476c-9240-8cdb3731c88b"
      },
      "source": [
        "import matplotlib.pyplot as plt\n",
        "girls_grades = [89, 90, 70, 89, 100, 80, 90, 100, 80, 34]\n",
        "boys_grades = [30, 29, 49, 48, 100, 48, 38, 45, 20, 30]\n",
        "grades_range = [10, 20, 30, 40, 50, 60, 70, 80, 90, 100]\n",
        "fig=plt.figure()\n",
        "ax=fig.add_axes([0,0,1,1])\n",
        "ax.scatter(grades_range, girls_grades, color='r')\n",
        "ax.scatter(grades_range, boys_grades, color='b')\n",
        "ax.set_xlabel('Grades Range')\n",
        "ax.set_ylabel('Grades Scored')\n",
        "ax.set_title('scatter plot')\n",
        "plt.show()"
      ],
      "execution_count": 26,
      "outputs": [
        {
          "output_type": "display_data",
          "data": {
            "image/png": "[encoded data removed]",
            "text/plain": [
              "<Figure size 432x288 with 1 Axes>"
            ]
          },
          "metadata": {
            "tags": [],
            "needs_background": "light"
          }
        }
      ]
    },
    {
      "cell_type": "code",
      "metadata": {
        "id": "2DsVF1ho2x-C",
        "colab_type": "code",
        "colab": {}
      },
      "source": [
        "%matplotlib inline\n",
        "import matplotlib.pyplot as plt\n",
        "plt.style.use('seaborn-whitegrid')\n",
        "import numpy as np"
      ],
      "execution_count": 0,
      "outputs": []
    },
    {
      "cell_type": "code",
      "metadata": {
        "id": "DKvKJ8oC2t0W",
        "colab_type": "code",
        "colab": {
          "base_uri": "https://localhost:8080/",
          "height": 263
        },
        "outputId": "bc6ec5c3-65b5-40c6-c0cc-3d5b6e1fa6d4"
      },
      "source": [
        "rng = np.random.RandomState(0)\n",
        "for marker in ['o', '.', ',', 'x', '+', 'v', '^', '<', '>', 's', 'd']:\n",
        "    plt.plot(rng.rand(5), rng.rand(5), marker,\n",
        "             label=\"marker='{0}'\".format(marker))\n",
        "plt.legend(numpoints=1)\n",
        "plt.xlim(0, 1.8);"
      ],
      "execution_count": 28,
      "outputs": [
        {
          "output_type": "display_data",
          "data": {
            "image/png": "[encoded data removed]",
            "text/plain": [
              "<Figure size 432x288 with 1 Axes>"
            ]
          },
          "metadata": {
            "tags": []
          }
        }
      ]
    },
    {
      "cell_type": "code",
      "metadata": {
        "id": "aW-tib4m3GkS",
        "colab_type": "code",
        "colab": {
          "base_uri": "https://localhost:8080/",
          "height": 262
        },
        "outputId": "7b53f450-d3f9-4299-a68a-423d185f7488"
      },
      "source": [
        "rng = np.random.RandomState(0)\n",
        "x = rng.randn(100)\n",
        "y = rng.randn(100)\n",
        "colors = rng.rand(100)\n",
        "sizes = 1000 * rng.rand(100)\n",
        "\n",
        "plt.scatter(x, y, c=colors, s=sizes, alpha=0.3,\n",
        "            cmap='ocean')\n",
        "plt.colorbar();  # show color scale"
      ],
      "execution_count": 53,
      "outputs": [
        {
          "output_type": "display_data",
          "data": {
            "image/png": "[encoded data removed]",
            "text/plain": [
              "<Figure size 432x288 with 2 Axes>"
            ]
          },
          "metadata": {
            "tags": []
          }
        }
      ]
    },
    {
      "cell_type": "code",
      "metadata": {
        "id": "wIPmc2B41QPA",
        "colab_type": "code",
        "colab": {
          "base_uri": "https://localhost:8080/",
          "height": 278
        },
        "outputId": "3e4931c7-ad50-4107-c957-7a3ca502ad74"
      },
      "source": [
        "from sklearn.datasets import load_iris\n",
        "iris = load_iris()\n",
        "features = iris.data.T\n",
        "\n",
        "plt.scatter(features[0], features[1], alpha=0.2,\n",
        "            s=100*features[3], c=iris.target, cmap='magma')\n",
        "plt.xlabel(iris.feature_names[0])\n",
        "plt.ylabel(iris.feature_names[1]);"
      ],
      "execution_count": 30,
      "outputs": [
        {
          "output_type": "display_data",
          "data": {
            "image/png": "[encoded data removed]",
            "text/plain": [
              "<Figure size 432x288 with 1 Axes>"
            ]
          },
          "metadata": {
            "tags": []
          }
        }
      ]
    },
    {
      "cell_type": "code",
      "metadata": {
        "id": "CEJyEg3v_ugh",
        "colab_type": "code",
        "colab": {
          "base_uri": "https://localhost:8080/",
          "height": 279
        },
        "outputId": "6933204d-5d22-49bf-aa0e-d352be82b8b4"
      },
      "source": [
        "import numpy as np\n",
        "plt.style.use('ggplot')\n",
        "\n",
        "N = 5\n",
        "men_means = [20, 35, 30, 35, 27]\n",
        "women_means = [25, 32, 34, 20, 25]\n",
        "\n",
        "ind = np.arange(N) \n",
        "width = 0.35       \n",
        "plt.bar(ind, men_means, width, label='Men', color='royalblue')\n",
        "plt.bar(ind + width, women_means, width,\n",
        "    label='Women', color='hotpink')\n",
        "\n",
        "plt.ylabel('Scores')\n",
        "plt.title('Scores by group and gender')\n",
        "\n",
        "plt.xticks(ind + width / 2, ('G1', 'G2', 'G3', 'G4', 'G5'))\n",
        "plt.legend(loc='best')\n",
        "plt.show()"
      ],
      "execution_count": 10,
      "outputs": [
        {
          "output_type": "display_data",
          "data": {
            "image/png": "[encoded data removed]",
            "text/plain": [
              "<Figure size 432x288 with 1 Axes>"
            ]
          },
          "metadata": {
            "tags": []
          }
        }
      ]
    },
    {
      "cell_type": "code",
      "metadata": {
        "id": "KTWi7HzqASj6",
        "colab_type": "code",
        "colab": {
          "base_uri": "https://localhost:8080/",
          "height": 279
        },
        "outputId": "c4a1b345-4966-4dfc-8b78-5abb519c991f"
      },
      "source": [
        "import numpy as np\n",
        "plt.style.use('ggplot')\n",
        "\n",
        "N = 5\n",
        "arr_1 = [20, 35, 30, 35, 27]\n",
        "arr_2 = [25, 32, 34, 20, 25]\n",
        "arr_3 = [20, 35, 30, 35, 27]\n",
        "arr_4 = [25, 32, 34, 20, 25]\n",
        "\n",
        "ind = np.arange(N) \n",
        "width = 1       \n",
        "plt.bar(ind, arr_1, width/4, label='Men', color='royalblue')\n",
        "plt.bar(ind + width*2, arr_2, width/4, label='Women', color='hotpink')\n",
        "plt.bar(ind + width*3, arr_3, width/4, label='Men', color='darkgreen')\n",
        "plt.bar(ind + width*4, arr_4, width/4, label='Women', color='maroon')\n",
        "\n",
        "plt.ylabel('Scores')\n",
        "plt.title('Scores by group and gender')\n",
        "\n",
        "plt.xticks(ind + width / 2, ('G1', 'G2', 'G3', 'G4', 'G5'))\n",
        "plt.legend(loc='best')\n",
        "plt.show()"
      ],
      "execution_count": 16,
      "outputs": [
        {
          "output_type": "display_data",
          "data": {
            "image/png": "[encoded data removed]",
            "text/plain": [
              "<Figure size 432x288 with 1 Axes>"
            ]
          },
          "metadata": {
            "tags": []
          }
        }
      ]
    },
    {
      "cell_type": "code",
      "metadata": {
        "id": "ccn5IpJ6AEeU",
        "colab_type": "code",
        "colab": {
          "base_uri": "https://localhost:8080/",
          "height": 291
        },
        "outputId": "4aa7e6dc-d009-4516-ba66-446180b41102"
      },
      "source": [
        "x = ['Nuclear', 'Hydro', 'Gas', 'Oil', 'Coal', 'Biofuel']\n",
        "energy = [5, 6, 15, 22, 24, 8]\n",
        "variance = [1, 2, 7, 4, 2, 3]\n",
        "\n",
        "x_pos = [i for i, _ in enumerate(x)]\n",
        "\n",
        "plt.barh(x_pos, energy, color='green', xerr=variance)\n",
        "plt.ylabel(\"Energy Source\")\n",
        "plt.xlabel(\"Energy Output (GJ)\")\n",
        "plt.title(\"Energy output from various fuel sources\")\n",
        "\n",
        "plt.yticks(x_pos, x)\n",
        "\n",
        "plt.show()"
      ],
      "execution_count": 32,
      "outputs": [
        {
          "output_type": "display_data",
          "data": {
            "image/png": "[encoded data removed]",
            "text/plain": [
              "<Figure size 432x288 with 1 Axes>"
            ]
          },
          "metadata": {
            "tags": []
          }
        }
      ]
    },
    {
      "cell_type": "code",
      "metadata": {
        "id": "i8jXmNzWAEa6",
        "colab_type": "code",
        "colab": {
          "base_uri": "https://localhost:8080/",
          "height": 291
        },
        "outputId": "9eaa2859-27b2-4104-9df0-bb62e9168863"
      },
      "source": [
        "x = ['Nuclear', 'Hydro', 'Gas', 'Oil', 'Coal', 'Biofuel']\n",
        "energy = [5, 6, 15, 22, 24, 8]\n",
        "variance = [1, 2, 7, 4, 2, 3]\n",
        "\n",
        "x_pos = [i for i, _ in enumerate(x)]\n",
        "\n",
        "plt.bar(x_pos, energy, color='green', yerr=variance)\n",
        "plt.xlabel(\"Energy Source\")\n",
        "plt.ylabel(\"Energy Output (GJ)\")\n",
        "plt.title(\"Energy output from various fuel sources\")\n",
        "\n",
        "plt.xticks(x_pos, x)\n",
        "\n",
        "plt.show()"
      ],
      "execution_count": 33,
      "outputs": [
        {
          "output_type": "display_data",
          "data": {
            "image/png": "[encoded data removed]",
            "text/plain": [
              "<Figure size 432x288 with 1 Axes>"
            ]
          },
          "metadata": {
            "tags": []
          }
        }
      ]
    },
    {
      "cell_type": "code",
      "metadata": {
        "id": "6ENFzcnMAImV",
        "colab_type": "code",
        "colab": {
          "base_uri": "https://localhost:8080/",
          "height": 295
        },
        "outputId": "fea6cf19-b06b-4294-9bdb-fbdba0a5c31b"
      },
      "source": [
        "import matplotlib.pyplot as plt\n",
        "%matplotlib inline\n",
        "plt.style.use('ggplot')\n",
        "\n",
        "x = ['Nuclear', 'Hydro', 'Gas', 'Oil', 'Coal', 'Biofuel']\n",
        "energy = [5, 6, 15, 22, 24, 8]\n",
        "\n",
        "x_pos = [i for i, _ in enumerate(x)]\n",
        "\n",
        "plt.bar(x_pos, energy, color='green')\n",
        "plt.xlabel(\"Energy Source\")\n",
        "plt.ylabel(\"Energy Output (GJ)\")\n",
        "plt.title(\"Energy output from various fuel sources\")\n",
        "\n",
        "plt.xticks(x_pos, x)\n",
        "\n",
        "plt.show()"
      ],
      "execution_count": 34,
      "outputs": [
        {
          "output_type": "display_data",
          "data": {
            "image/png": "[encoded data removed]",
            "text/plain": [
              "<Figure size 432x288 with 1 Axes>"
            ]
          },
          "metadata": {
            "tags": []
          }
        }
      ]
    },
    {
      "cell_type": "code",
      "metadata": {
        "id": "D_PlQyZLH3jo",
        "colab_type": "code",
        "colab": {
          "base_uri": "https://localhost:8080/",
          "height": 262
        },
        "outputId": "4a7e9ead-3fdc-4ae5-af35-5e1174d22803"
      },
      "source": [
        "import numpy as np\n",
        "import pandas as pd\n",
        "from pandas import Series, DataFrame\n",
        "import matplotlib.pyplot as plt\n",
        "\n",
        "data1 = [23,85, 72, 43, 52]\n",
        "data2 = [42, 35, 21, 16, 9]\n",
        "data3 = [23, 45, 56, 55, 21]\n",
        "width =0.2\n",
        "plt.bar(np.arange(len(data1)), data1, width=width)\n",
        "plt.bar(np.arange(len(data2))+ width, data2, width=width)\n",
        "plt.bar(np.arange(len(data3))+ width+width, data3, width=width)\n",
        "plt.show()"
      ],
      "execution_count": 41,
      "outputs": [
        {
          "output_type": "display_data",
          "data": {
            "image/png": "[encoded data removed]",
            "text/plain": [
              "<Figure size 432x288 with 1 Axes>"
            ]
          },
          "metadata": {
            "tags": []
          }
        }
      ]
    },
    {
      "cell_type": "code",
      "metadata": {
        "id": "T8vIiPkhNc7X",
        "colab_type": "code",
        "colab": {
          "base_uri": "https://localhost:8080/",
          "height": 297
        },
        "outputId": "26da91fa-bd49-4702-af6f-e2cdd3799ebf"
      },
      "source": [
        "import matplotlib.pyplot as plt\n",
        "   \n",
        "Year = [1920,1930,1940,1950,1960,1970,1980,1990,2000,2010]\n",
        "Unemployment_Rate = [9.8,12,8,7.2,6.9,7,6.5,6.2,5.5,6.3]\n",
        "  \n",
        "plt.plot(Year, Unemployment_Rate, color='teal', marker='o')\n",
        "plt.title('Unemployment Rate Vs Year', fontsize=14)\n",
        "plt.xlabel('Year', fontsize=14)\n",
        "plt.ylabel('Unemployment Rate', fontsize=14)\n",
        "plt.grid(True)\n",
        "plt.show()"
      ],
      "execution_count": 45,
      "outputs": [
        {
          "output_type": "display_data",
          "data": {
            "image/png": "[encoded data removed]",
            "text/plain": [
              "<Figure size 432x288 with 1 Axes>"
            ]
          },
          "metadata": {
            "tags": []
          }
        }
      ]
    },
    {
      "cell_type": "code",
      "metadata": {
        "id": "bqyf6QrcNut-",
        "colab_type": "code",
        "colab": {
          "base_uri": "https://localhost:8080/",
          "height": 262
        },
        "outputId": "50a460cb-81be-4fdd-9b55-424f5347edcc"
      },
      "source": [
        "from matplotlib import pyplot as plt\n",
        "\n",
        "\n",
        "def bar_plot(ax, data, colors=None, total_width=0.8, single_width=1, legend=True):\n",
        "    \"\"\"Draws a bar plot with multiple bars per data point.\n",
        "\n",
        "    Parameters\n",
        "    ----------\n",
        "    ax : matplotlib.pyplot.axis\n",
        "        The axis we want to draw our plot on.\n",
        "\n",
        "    data: dictionary\n",
        "        A dictionary containing the data we want to plot. Keys are the names of the\n",
        "        data, the items is a list of the values.\n",
        "\n",
        "        Example:\n",
        "        data = {\n",
        "            \"x\":[1,2,3],\n",
        "            \"y\":[1,2,3],\n",
        "            \"z\":[1,2,3],\n",
        "        }\n",
        "\n",
        "    colors : array-like, optional\n",
        "        A list of colors which are used for the bars. If None, the colors\n",
        "        will be the standard matplotlib color cyle. (default: None)\n",
        "\n",
        "    total_width : float, optional, default: 0.8\n",
        "        The width of a bar group. 0.8 means that 80% of the x-axis is covered\n",
        "        by bars and 20% will be spaces between the bars.\n",
        "\n",
        "    single_width: float, optional, default: 1\n",
        "        The relative width of a single bar within a group. 1 means the bars\n",
        "        will touch eachother within a group, values less than 1 will make\n",
        "        these bars thinner.\n",
        "\n",
        "    legend: bool, optional, default: True\n",
        "        If this is set to true, a legend will be added to the axis.\n",
        "    \"\"\"\n",
        "\n",
        "    # Check if colors where provided, otherwhise use the default color cycle\n",
        "    if colors is None:\n",
        "        colors = plt.rcParams['axes.prop_cycle'].by_key()['color']\n",
        "\n",
        "    # Number of bars per group\n",
        "    n_bars = len(data)\n",
        "\n",
        "    # The width of a single bar\n",
        "    bar_width = total_width / n_bars\n",
        "\n",
        "    # List containing handles for the drawn bars, used for the legend\n",
        "    bars = []\n",
        "\n",
        "    # Iterate over all data\n",
        "    for i, (name, values) in enumerate(data.items()):\n",
        "        # The offset in x direction of that bar\n",
        "        x_offset = (i - n_bars / 2) * bar_width + bar_width / 2\n",
        "\n",
        "        # Draw a bar for every value of that type\n",
        "        for x, y in enumerate(values):\n",
        "            bar = ax.bar(x + x_offset, y, width=bar_width * single_width, color=colors[i % len(colors)])\n",
        "\n",
        "        # Add a handle to the last drawn bar, which we'll need for the legend\n",
        "        bars.append(bar[0])\n",
        "\n",
        "    # Draw legend if we need\n",
        "    if legend:\n",
        "        ax.legend(bars, data.keys())\n",
        "\n",
        "\n",
        "if __name__ == \"__main__\":\n",
        "    # Usage example:\n",
        "    data = {\n",
        "        \"a\": [1, 2, 3, 2, 1],\n",
        "        \"b\": [2, 3, 4, 3, 1],\n",
        "        \"c\": [3, 2, 1, 4, 2],\n",
        "        \"d\": [5, 9, 2, 1, 8],\n",
        "        \"e\": [1, 3, 2, 2, 3],\n",
        "        \"f\": [4, 3, 1, 1, 4],\n",
        "    }\n",
        "\n",
        "    fig, ax = plt.subplots()\n",
        "    bar_plot(ax, data, total_width=.8, single_width=.9)\n",
        "    plt.show()"
      ],
      "execution_count": 17,
      "outputs": [
        {
          "output_type": "display_data",
          "data": {
            "image/png": "[encoded data removed]",
            "text/plain": [
              "<Figure size 432x288 with 1 Axes>"
            ]
          },
          "metadata": {
            "tags": []
          }
        }
      ]
    }
  ]
}